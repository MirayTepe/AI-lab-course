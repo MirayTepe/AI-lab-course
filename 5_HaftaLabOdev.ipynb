{
 "cells": [
  {
   "cell_type": "code",
   "execution_count": null,
   "metadata": {
    "colab": {
     "base_uri": "https://localhost:8080/",
     "height": 620
    },
    "collapsed": true,
    "id": "M94B6r1i5-k0",
    "outputId": "b9038d10-6e04-412c-91e3-1dbf8263fb4c"
   },
   "outputs": [
    {
     "name": "stdout",
     "output_type": "stream",
     "text": [
      "Requirement already satisfied: experta in /usr/local/lib/python3.10/dist-packages (1.9.4)\n",
      "Collecting frozendict==1.2 (from experta)\n",
      "  Using cached frozendict-1.2-py3-none-any.whl\n",
      "Requirement already satisfied: schema==0.6.7 in /usr/local/lib/python3.10/dist-packages (from experta) (0.6.7)\n",
      "Installing collected packages: frozendict\n",
      "  Attempting uninstall: frozendict\n",
      "    Found existing installation: frozendict 2.4.6\n",
      "    Uninstalling frozendict-2.4.6:\n",
      "      Successfully uninstalled frozendict-2.4.6\n",
      "\u001b[31mERROR: pip's dependency resolver does not currently take into account all the packages that are installed. This behaviour is the source of the following dependency conflicts.\n",
      "yfinance 0.2.48 requires frozendict>=2.3.4, but you have frozendict 1.2 which is incompatible.\u001b[0m\u001b[31m\n",
      "\u001b[0mSuccessfully installed frozendict-1.2\n"
     ]
    },
    {
     "data": {
      "application/vnd.colab-display-data+json": {
       "id": "c89cb88f7fe34b90ad4de6406d323ff6",
       "pip_warning": {
        "packages": [
         "frozendict"
        ]
       }
      }
     },
     "metadata": {},
     "output_type": "display_data"
    },
    {
     "name": "stdout",
     "output_type": "stream",
     "text": [
      "Collecting frozendict==2.4.6\n",
      "  Using cached frozendict-2.4.6-cp310-cp310-manylinux_2_17_x86_64.manylinux2014_x86_64.whl.metadata (23 kB)\n",
      "Using cached frozendict-2.4.6-cp310-cp310-manylinux_2_17_x86_64.manylinux2014_x86_64.whl (117 kB)\n",
      "Installing collected packages: frozendict\n",
      "  Attempting uninstall: frozendict\n",
      "    Found existing installation: frozendict 1.2\n",
      "    Uninstalling frozendict-1.2:\n",
      "      Successfully uninstalled frozendict-1.2\n",
      "\u001b[31mERROR: pip's dependency resolver does not currently take into account all the packages that are installed. This behaviour is the source of the following dependency conflicts.\n",
      "experta 1.9.4 requires frozendict==1.2, but you have frozendict 2.4.6 which is incompatible.\u001b[0m\u001b[31m\n",
      "\u001b[0mSuccessfully installed frozendict-2.4.6\n"
     ]
    },
    {
     "data": {
      "application/vnd.colab-display-data+json": {
       "id": "3f86d4b4dda14cad9af501d40bc1d760",
       "pip_warning": {
        "packages": [
         "frozendict"
        ]
       }
      }
     },
     "metadata": {},
     "output_type": "display_data"
    }
   ],
   "source": [
    "!pip install experta\n",
    "!pip install frozendict==2.4.6\n",
    "\n"
   ]
  },
  {
   "cell_type": "code",
   "execution_count": 15,
   "metadata": {
    "id": "Nx7PZnzY6ObX"
   },
   "outputs": [],
   "source": [
    "from experta import *\n",
    "\n",
    "# Diş durumu ile ilgili genel bilgiler\n",
    "class DentalCondition(Fact):\n",
    "    \"\"\"Diş durumu ile ilgili genel bilgiler\"\"\"\n",
    "    pass\n",
    "\n",
    "# Diş ağrısı için önerileri belirleyen sınıf\n",
    "class DentalExpertSystem(KnowledgeEngine):\n",
    "\n",
    "    @Rule(DentalCondition(symptom='bleeding'))\n",
    "    def bleeding(self):\n",
    "        print(\"Diş hastalığı vardır ve diş hekimine başvur.\")\n",
    "\n",
    "    @Rule(DentalCondition(symptom='long_bleeding'))\n",
    "    def long_bleeding(self):\n",
    "        print(\"Dişeti çekilmesi vardır ve diş hekimine başvur.\")\n",
    "\n",
    "    @Rule(DentalCondition(symptom='gum_recession_and_root_visible'))\n",
    "    def gum_recession(self):\n",
    "        print(\"Dolgu yaptır.\")\n",
    "\n",
    "    @Rule(DentalCondition(symptom='discoloration'))\n",
    "    def discoloration(self):\n",
    "        print(\"Dişleri temizle.\")\n",
    "\n",
    "    @Rule(DentalCondition(symptom='bruising'))\n",
    "    def bruising(self):\n",
    "        print(\"Diş hekimine başvur.\")\n",
    "\n",
    "    @Rule(DentalCondition(symptom='non_painful_cavity'))\n",
    "    def non_painful_cavity(self):\n",
    "        print(\"Dolgu yaptır.\")\n",
    "\n",
    "    @Rule(DentalCondition(symptom='severe_cavity'))\n",
    "    def severe_cavity(self):\n",
    "        print(\"Kanal tedavisi ve dolgu yaptır.\")\n"
   ]
  },
  {
   "cell_type": "code",
   "execution_count": 16,
   "metadata": {
    "id": "VWLvaY5r6T55"
   },
   "outputs": [],
   "source": [
    "# Uzman sistemini oluştur\n",
    "dental_expert = DentalExpertSystem()\n",
    "\n",
    "# Uzman sistemini resetle\n",
    "dental_expert.reset()\n"
   ]
  },
  {
   "cell_type": "code",
   "execution_count": 17,
   "metadata": {
    "id": "OsIkFAst6Wpp"
   },
   "outputs": [],
   "source": [
    "# Kullanıcıdan belirtileri al\n",
    "# Belirtileri buraya ekleyin\n",
    "symptoms = [\n",
    "    'bleeding',  # Örnek belirti\n",
    "    # 'long_bleeding',\n",
    "    # 'gum_recession_and_root_visible',\n",
    "    # 'discoloration',\n",
    "    # 'bruising',\n",
    "    # 'non_painful_cavity',\n",
    "    # 'severe_cavity'\n",
    "]\n"
   ]
  },
  {
   "cell_type": "code",
   "execution_count": 18,
   "metadata": {
    "id": "4cgosoyH6Ztx"
   },
   "outputs": [],
   "source": [
    "# Belirtileri sisteme ekle\n",
    "for symptom in symptoms:\n",
    "    dental_expert.declare(DentalCondition(symptom=symptom))"
   ]
  },
  {
   "cell_type": "code",
   "execution_count": 19,
   "metadata": {
    "colab": {
     "base_uri": "https://localhost:8080/"
    },
    "id": "GACy74956cUb",
    "outputId": "a3a1378b-b988-45e3-e0e4-6e55165b2e7e"
   },
   "outputs": [
    {
     "name": "stdout",
     "output_type": "stream",
     "text": [
      "Diş hastalığı vardır ve diş hekimine başvur.\n"
     ]
    }
   ],
   "source": [
    "# Çözümü bul\n",
    "dental_expert.run()"
   ]
  }
 ],
 "metadata": {
  "colab": {
   "provenance": []
  },
  "kernelspec": {
   "display_name": "Python 3",
   "name": "python3"
  },
  "language_info": {
   "name": "python"
  }
 },
 "nbformat": 4,
 "nbformat_minor": 0
}
