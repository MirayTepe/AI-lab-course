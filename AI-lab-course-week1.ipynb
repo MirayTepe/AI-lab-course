{
  "nbformat": 4,
  "nbformat_minor": 0,
  "metadata": {
    "colab": {
      "provenance": []
    },
    "kernelspec": {
      "name": "python3",
      "display_name": "Python 3"
    },
    "language_info": {
      "name": "python"
    }
  },
  "cells": [
    {
      "cell_type": "markdown",
      "source": [
        "# **Lab-1a**\n",
        "\n"
      ],
      "metadata": {
        "id": "9h-dHNa07EAk"
      }
    },
    {
      "cell_type": "code",
      "execution_count": 1,
      "metadata": {
        "colab": {
          "base_uri": "https://localhost:8080/"
        },
        "id": "NMUOCj9i5Xc7",
        "outputId": "840fa013-266c-44cc-d3ea-ca6fb7ddf48d"
      },
      "outputs": [
        {
          "output_type": "stream",
          "name": "stdout",
          "text": [
            "CSV dosyası oluşturuldu ve kaydedildi.\n"
          ]
        }
      ],
      "source": [
        "import pandas as pd\n",
        "\n",
        "\n",
        "data = {\n",
        "    'Gün': ['G1', 'G2', 'G3', 'G4', 'G5', 'G6', 'G7', 'G8', 'G9', 'G10', 'G11', 'G12', 'G13', 'G14'],\n",
        "    'Hava Durumu': ['Güneşli', 'Güneşli', 'Kapalı', 'Yağmurlu', 'Yağmurlu', 'Yağmurlu', 'Kapalı', 'Güneşli', 'Güneşli', 'Yağmurlu', 'Güneşli', 'Kapalı', 'Kapalı', 'Yağmurlu'],\n",
        "    'Sıcaklık': ['Sıcak', 'Sıcak', 'Ilıman', 'Serin', 'Serin', 'Serin', 'Ilıman', 'Serin', 'Ilıman', 'Serin', 'Ilıman', 'Ilıman', 'Sıcak', 'Ilıman'],\n",
        "    'Nem': ['Yüksek', 'Yüksek', 'Yüksek', 'Normal', 'Normal', 'Normal', 'Yüksek', 'Yüksek', 'Normal', 'Normal', 'Normal', 'Yüksek', 'Normal', 'Yüksek'],\n",
        "    'Yağış': ['Seyrek', 'Aşırı', 'Seyrek', 'Seyrek', 'Seyrek', 'Aşırı', 'Aşırı', 'Seyrek', 'Seyrek', 'Seyrek', 'Aşırı', 'Aşırı', 'Seyrek', 'Aşırı'],\n",
        "    'Oyun': ['Yok', 'Yok', 'Var', 'Var', 'Var', 'Yok', 'Var', 'Yok', 'Var', 'Var', 'Var', 'Var', 'Var', 'Yok']\n",
        "}\n",
        "\n",
        "\n",
        "df = pd.DataFrame(data)\n",
        "\n",
        "\n",
        "df.to_csv('tenis_veri.csv', index=False)\n",
        "\n",
        "print(\"CSV dosyası oluşturuldu ve kaydedildi.\")\n"
      ]
    },
    {
      "cell_type": "code",
      "source": [
        "df = pd.read_csv('tenis_veri.csv')\n",
        "\n",
        "df_silinmis = df.drop(['Sıcaklık', 'Nem'], axis=1)\n",
        "\n",
        "print(df_silinmis)\n"
      ],
      "metadata": {
        "colab": {
          "base_uri": "https://localhost:8080/"
        },
        "id": "Wth-BVCz5p0B",
        "outputId": "d5e0b1c7-a3bb-447e-ff0d-c63ed2ca7b2f"
      },
      "execution_count": 13,
      "outputs": [
        {
          "output_type": "stream",
          "name": "stdout",
          "text": [
            "    Gün Hava Durumu   Yağış Oyun\n",
            "0    G1     Güneşli  Seyrek  Yok\n",
            "1    G2     Güneşli   Aşırı  Yok\n",
            "2    G3      Kapalı  Seyrek  Var\n",
            "3    G4    Yağmurlu  Seyrek  Var\n",
            "4    G5    Yağmurlu  Seyrek  Var\n",
            "5    G6    Yağmurlu   Aşırı  Yok\n",
            "6    G7      Kapalı   Aşırı  Var\n",
            "7    G8     Güneşli  Seyrek  Yok\n",
            "8    G9     Güneşli  Seyrek  Var\n",
            "9   G10    Yağmurlu  Seyrek  Var\n",
            "10  G11     Güneşli   Aşırı  Var\n",
            "11  G12      Kapalı   Aşırı  Var\n",
            "12  G13      Kapalı  Seyrek  Var\n",
            "13  G14    Yağmurlu   Aşırı  Yok\n"
          ]
        }
      ]
    },
    {
      "cell_type": "code",
      "source": [
        "\n",
        "print(df.describe())\n"
      ],
      "metadata": {
        "colab": {
          "base_uri": "https://localhost:8080/"
        },
        "id": "MxflnBzS5t9w",
        "outputId": "40371100-6349-400a-edd8-95962d83c197"
      },
      "execution_count": 14,
      "outputs": [
        {
          "output_type": "stream",
          "name": "stdout",
          "text": [
            "       Gün Hava Durumu Sıcaklık     Nem   Yağış Oyun\n",
            "count   14          14       14      14      14   14\n",
            "unique  14           3        3       2       2    2\n",
            "top     G1     Güneşli   Ilıman  Yüksek  Seyrek  Var\n",
            "freq     1           5        6       7       8    9\n"
          ]
        }
      ]
    },
    {
      "cell_type": "code",
      "source": [
        "total_elements = df.size\n",
        "\n",
        "rows = 3\n",
        "cols = int(total_elements / rows)  # Calculate the number of columns\n",
        "\n",
        "dizi = df.to_numpy().reshape(rows, cols)\n",
        "print(f\"{rows}x{cols} boyutunda dizi:\\n\", dizi)\n",
        "\n",
        "print(\"*****************************************************************\")\n",
        "rows = 6\n",
        "cols = int(total_elements / rows)\n",
        "\n",
        "dizi_6x2 = df.to_numpy().reshape(rows, cols)\n",
        "print(f\"{rows}x{cols} boyutunda dizi:\\n\", dizi_6x2)"
      ],
      "metadata": {
        "colab": {
          "base_uri": "https://localhost:8080/"
        },
        "id": "644n4dL350Tz",
        "outputId": "f03f409f-6b23-48ab-951c-9aaa357e150b"
      },
      "execution_count": 15,
      "outputs": [
        {
          "output_type": "stream",
          "name": "stdout",
          "text": [
            "3x28 boyutunda dizi:\n",
            " [['G1' 'Güneşli' 'Sıcak' 'Yüksek' 'Seyrek' 'Yok' 'G2' 'Güneşli' 'Sıcak'\n",
            "  'Yüksek' 'Aşırı' 'Yok' 'G3' 'Kapalı' 'Ilıman' 'Yüksek' 'Seyrek' 'Var'\n",
            "  'G4' 'Yağmurlu' 'Serin' 'Normal' 'Seyrek' 'Var' 'G5' 'Yağmurlu' 'Serin'\n",
            "  'Normal']\n",
            " ['Seyrek' 'Var' 'G6' 'Yağmurlu' 'Serin' 'Normal' 'Aşırı' 'Yok' 'G7'\n",
            "  'Kapalı' 'Ilıman' 'Yüksek' 'Aşırı' 'Var' 'G8' 'Güneşli' 'Serin'\n",
            "  'Yüksek' 'Seyrek' 'Yok' 'G9' 'Güneşli' 'Ilıman' 'Normal' 'Seyrek' 'Var'\n",
            "  'G10' 'Yağmurlu']\n",
            " ['Serin' 'Normal' 'Seyrek' 'Var' 'G11' 'Güneşli' 'Ilıman' 'Normal'\n",
            "  'Aşırı' 'Var' 'G12' 'Kapalı' 'Ilıman' 'Yüksek' 'Aşırı' 'Var' 'G13'\n",
            "  'Kapalı' 'Sıcak' 'Normal' 'Seyrek' 'Var' 'G14' 'Yağmurlu' 'Ilıman'\n",
            "  'Yüksek' 'Aşırı' 'Yok']]\n",
            "*****************************************************************\n",
            "6x14 boyutunda dizi:\n",
            " [['G1' 'Güneşli' 'Sıcak' 'Yüksek' 'Seyrek' 'Yok' 'G2' 'Güneşli' 'Sıcak'\n",
            "  'Yüksek' 'Aşırı' 'Yok' 'G3' 'Kapalı']\n",
            " ['Ilıman' 'Yüksek' 'Seyrek' 'Var' 'G4' 'Yağmurlu' 'Serin' 'Normal'\n",
            "  'Seyrek' 'Var' 'G5' 'Yağmurlu' 'Serin' 'Normal']\n",
            " ['Seyrek' 'Var' 'G6' 'Yağmurlu' 'Serin' 'Normal' 'Aşırı' 'Yok' 'G7'\n",
            "  'Kapalı' 'Ilıman' 'Yüksek' 'Aşırı' 'Var']\n",
            " ['G8' 'Güneşli' 'Serin' 'Yüksek' 'Seyrek' 'Yok' 'G9' 'Güneşli' 'Ilıman'\n",
            "  'Normal' 'Seyrek' 'Var' 'G10' 'Yağmurlu']\n",
            " ['Serin' 'Normal' 'Seyrek' 'Var' 'G11' 'Güneşli' 'Ilıman' 'Normal'\n",
            "  'Aşırı' 'Var' 'G12' 'Kapalı' 'Ilıman' 'Yüksek']\n",
            " ['Aşırı' 'Var' 'G13' 'Kapalı' 'Sıcak' 'Normal' 'Seyrek' 'Var' 'G14'\n",
            "  'Yağmurlu' 'Ilıman' 'Yüksek' 'Aşırı' 'Yok']]\n"
          ]
        }
      ]
    },
    {
      "cell_type": "markdown",
      "source": [
        "# **Lab-1b**"
      ],
      "metadata": {
        "id": "6DwzOji47AsV"
      }
    },
    {
      "cell_type": "markdown",
      "source": [
        "## **1. Üçgenin türünü belirleme**"
      ],
      "metadata": {
        "id": "TB0Jcy7J816X"
      }
    },
    {
      "cell_type": "code",
      "source": [
        "1a = int(input(\"1. kenar uzunluğunu girin: \"))\n",
        "b = int(input(\"2. kenar uzunluğunu girin: \"))\n",
        "c = int(input(\"3. kenar uzunluğunu girin: \"))\n",
        "\n",
        "\n",
        "if a**2 + b**2 == c**2 or a**2 + c**2 == b**2 or b**2 + c**2 == a**2:\n",
        "    print(\"Bu bir dik üçgendir.\")\n",
        "elif a**2 + b**2 > c**2 and a**2 + c**2 > b**2 and b**2 + c**2 > a**2:\n",
        "    print(\"Bu bir geniş açılı üçgendir.\")\n",
        "else:\n",
        "    print(\"Bu bir dar açılı üçgendir.\")\n"
      ],
      "metadata": {
        "colab": {
          "base_uri": "https://localhost:8080/"
        },
        "id": "FFgDQEsb7egN",
        "outputId": "1d788771-5e21-4a50-ebfe-ec4f63eccdbd"
      },
      "execution_count": 16,
      "outputs": [
        {
          "output_type": "stream",
          "name": "stdout",
          "text": [
            "1. kenar uzunluğunu girin: 5\n",
            "2. kenar uzunluğunu girin: 12\n",
            "3. kenar uzunluğunu girin: 3\n",
            "Bu bir dar açılı üçgendir.\n"
          ]
        }
      ]
    },
    {
      "cell_type": "markdown",
      "source": [
        "## **2. Uzaylı rengi oyunu**"
      ],
      "metadata": {
        "id": "LcoLZ32s9P5P"
      }
    },
    {
      "cell_type": "code",
      "source": [
        "uzayli_rengi = input(\"Uzaylı rengini girin (kırmızı, yeşil, sarı): \").lower()\n",
        "\n",
        "\n",
        "if uzayli_rengi == \"yeşil\":\n",
        "    print(\"Tebrikler, yeşil uzaylıya ateş ettiğiniz için 5 puan kazandınız!\")\n",
        "elif uzayli_rengi == \"sarı\":\n",
        "    print(\"Tebrikler, sarı uzaylıya ateş ettiğiniz için 10 puan kazandınız!\")\n",
        "elif uzayli_rengi == \"kırmızı\":\n",
        "    print(\"Tebrikler, kırmızı uzaylıya ateş ettiğiniz için 15 puan kazandınız!\")\n",
        "else:\n",
        "    print(\"Geçersiz renk seçimi!\")\n"
      ],
      "metadata": {
        "colab": {
          "base_uri": "https://localhost:8080/"
        },
        "id": "POcD0aeD9L-p",
        "outputId": "885f2c1a-6629-4af7-e143-7a6e1c0a536f"
      },
      "execution_count": 17,
      "outputs": [
        {
          "output_type": "stream",
          "name": "stdout",
          "text": [
            "Uzaylı rengini girin (kırmızı, yeşil, sarı): sarı\n",
            "Tebrikler, sarı uzaylıya ateş ettiğiniz için 10 puan kazandınız!\n"
          ]
        }
      ]
    },
    {
      "cell_type": "markdown",
      "source": [
        "## **4. Yaş evrelerini belirleme**"
      ],
      "metadata": {
        "id": "i-4RDhHQ9xLo"
      }
    },
    {
      "cell_type": "code",
      "source": [
        "yas = int(input(\"Kişinin yaşını girin: \"))\n",
        "\n",
        "\n",
        "if yas < 2:\n",
        "    print(\"Bu kişi bebek!\")\n",
        "elif 2 <= yas < 4:\n",
        "    print(\"Bu kişi yeni yürümeye başlayan çocuk!\")\n",
        "elif 4 <= yas < 13:\n",
        "    print(\"Bu kişi çocuk!\")\n",
        "elif 13 <= yas < 20:\n",
        "    print(\"Bu kişi ergen!\")\n",
        "elif 20 <= yas < 65:\n",
        "    print(\"Bu kişi yetişkin!\")\n",
        "else:\n",
        "    print(\"Bu kişi yaşlı!\")\n"
      ],
      "metadata": {
        "colab": {
          "base_uri": "https://localhost:8080/"
        },
        "id": "eQbtRuxF9-OC",
        "outputId": "7a27f61f-36c8-404b-afa8-61e396d9d300"
      },
      "execution_count": 18,
      "outputs": [
        {
          "output_type": "stream",
          "name": "stdout",
          "text": [
            "Kişinin yaşını girin: 23\n",
            "Bu kişi yetişkin!\n"
          ]
        }
      ]
    },
    {
      "cell_type": "markdown",
      "source": [
        "## **5. Favori meyveleri listeleme ve kontrol**"
      ],
      "metadata": {
        "id": "2l-sVC9M-PT1"
      }
    },
    {
      "cell_type": "code",
      "source": [
        "favori_meyveler = [\"elma\", \"armut\", \"muz\", \"çilek\", \"kiraz\"]\n",
        "\n",
        "meyve = input(\"Favori meyvenizi girin: \").lower()\n",
        "\n",
        "if meyve in favori_meyveler:\n",
        "    print(f\"{meyve.capitalize()} favori meyveleriniz arasında!\")\n",
        "else:\n",
        "    print(f\"{meyve.capitalize()} favori meyveleriniz arasında değil.\")\n"
      ],
      "metadata": {
        "colab": {
          "base_uri": "https://localhost:8080/"
        },
        "id": "6XN8GdAK-OdP",
        "outputId": "c40cc510-7d6c-4494-f5a1-5c1273c908ec"
      },
      "execution_count": 19,
      "outputs": [
        {
          "output_type": "stream",
          "name": "stdout",
          "text": [
            "Favori meyvenizi girin: kiraz\n",
            "Kiraz favori meyveleriniz arasında!\n"
          ]
        }
      ]
    },
    {
      "cell_type": "markdown",
      "source": [
        "# **Lab-1c**"
      ],
      "metadata": {
        "id": "TZrsSeTkBkWd"
      }
    },
    {
      "cell_type": "markdown",
      "source": [
        "## **1.Çarpım tablosu**"
      ],
      "metadata": {
        "id": "2Dt6QPZgBptw"
      }
    },
    {
      "cell_type": "code",
      "source": [
        "sayi = int(input(\"Bir sayı girin: \"))\n",
        "\n",
        "for i in range(1, 11):\n",
        "    print(f\"{sayi} x {i} = {sayi * i}\")\n"
      ],
      "metadata": {
        "colab": {
          "base_uri": "https://localhost:8080/"
        },
        "id": "dsuN89vzBovR",
        "outputId": "213dbd33-0eeb-4bb0-f5f7-b99dad5365fc"
      },
      "execution_count": 20,
      "outputs": [
        {
          "output_type": "stream",
          "name": "stdout",
          "text": [
            "Bir sayı girin: 5\n",
            "5 x 1 = 5\n",
            "5 x 2 = 10\n",
            "5 x 3 = 15\n",
            "5 x 4 = 20\n",
            "5 x 5 = 25\n",
            "5 x 6 = 30\n",
            "5 x 7 = 35\n",
            "5 x 8 = 40\n",
            "5 x 9 = 45\n",
            "5 x 10 = 50\n"
          ]
        }
      ]
    },
    {
      "cell_type": "markdown",
      "source": [
        "## **2. Basamak sayısı belirleme (while döngüsü ile)**"
      ],
      "metadata": {
        "id": "gzZVSufDB_tv"
      }
    },
    {
      "cell_type": "code",
      "source": [
        "sayi = int(input(\"Bir sayı girin: \"))\n",
        "\n",
        "basamak = 0\n",
        "gecici = sayi\n",
        "\n",
        "while gecici > 0:\n",
        "    gecici //= 10\n",
        "    basamak += 1\n",
        "\n",
        "print(f\"{sayi} sayısı {basamak} basamaklıdır.\")\n"
      ],
      "metadata": {
        "colab": {
          "base_uri": "https://localhost:8080/"
        },
        "id": "0wPVmk45B5DD",
        "outputId": "cd2f843d-1386-4265-de95-292cc1f4e8a8"
      },
      "execution_count": 24,
      "outputs": [
        {
          "output_type": "stream",
          "name": "stdout",
          "text": [
            "Bir sayı girin: 10\n",
            "10 sayısı 2 basamaklıdır.\n"
          ]
        }
      ]
    },
    {
      "cell_type": "markdown",
      "source": [
        "## **Listedeki sayıları hem for hem de while döngüsü ile 5'e bölme**"
      ],
      "metadata": {
        "id": "zXJ7HQPtCQQH"
      }
    },
    {
      "cell_type": "code",
      "source": [
        "sayisalDegerler = [12, 15, 32, 42, 55, 75, 122, 132, 150, 180, 200]\n",
        "\n",
        "print(\"For döngüsü ile 5'e bölünen sayılar:\")\n",
        "for sayi in sayisalDegerler:\n",
        "    if sayi % 5 == 0 and sayi <= 150:\n",
        "        print(sayi)\n",
        "\n",
        "\n",
        "print(\"\\nWhile döngüsü ile 5'e bölünen sayılar:\")\n",
        "i = 0\n",
        "while i < len(sayisalDegerler):\n",
        "    if sayisalDegerler[i] % 5 == 0 and sayisalDegerler[i] <= 150:\n",
        "        print(sayisalDegerler[i])\n",
        "    i += 1\n"
      ],
      "metadata": {
        "colab": {
          "base_uri": "https://localhost:8080/"
        },
        "id": "TfgsbXtECPWu",
        "outputId": "92d05683-a122-4fdd-e04f-02344f496cea"
      },
      "execution_count": 25,
      "outputs": [
        {
          "output_type": "stream",
          "name": "stdout",
          "text": [
            "For döngüsü ile 5'e bölünen sayılar:\n",
            "15\n",
            "55\n",
            "75\n",
            "150\n",
            "\n",
            "While döngüsü ile 5'e bölünen sayılar:\n",
            "15\n",
            "55\n",
            "75\n",
            "150\n"
          ]
        }
      ]
    },
    {
      "cell_type": "markdown",
      "source": [
        "## **4. Üç adet sayı alıp bölünebilme programı**"
      ],
      "metadata": {
        "id": "PtffYj_DCcQd"
      }
    },
    {
      "cell_type": "code",
      "source": [
        "# Kullanıcıdan 3 sayı al\n",
        "a = int(input(\"Birinci sayıyı girin: \"))\n",
        "b = int(input(\"İkinci sayıyı girin: \"))\n",
        "c = int(input(\"Üçüncü sayıyı girin: \"))\n",
        "\n",
        "# 5'e bölünebilme kontrolü\n",
        "bolunebilenler = 0\n",
        "if a % 5 == 0:\n",
        "    bolunebilenler += 1\n",
        "if b % 5 == 0:\n",
        "    bolunebilenler += 1\n",
        "if c % 5 == 0:\n",
        "    bolunebilenler += 1\n",
        "\n",
        "print(f\"5'e bölünebilen sayı adedi: {bolunebilenler}\")\n"
      ],
      "metadata": {
        "colab": {
          "base_uri": "https://localhost:8080/"
        },
        "id": "C5Q4dSi3CaGq",
        "outputId": "a15eba13-11a7-4b24-cd77-90c4f174437d"
      },
      "execution_count": 26,
      "outputs": [
        {
          "output_type": "stream",
          "name": "stdout",
          "text": [
            "Birinci sayıyı girin: 10\n",
            "İkinci sayıyı girin: 100\n",
            "Üçüncü sayıyı girin: 41\n",
            "5'e bölünebilen sayı adedi: 2\n"
          ]
        }
      ]
    },
    {
      "cell_type": "markdown",
      "source": [
        "## **5. Sayıları ters yazdırma**"
      ],
      "metadata": {
        "id": "5_3wP7aJCos6"
      }
    },
    {
      "cell_type": "code",
      "source": [
        "for i in range(99, 0, -1):\n",
        "    print(i)\n"
      ],
      "metadata": {
        "colab": {
          "base_uri": "https://localhost:8080/"
        },
        "id": "HyVjs17OCoFJ",
        "outputId": "03921002-6393-4924-a4c2-263842e5bc1a"
      },
      "execution_count": 27,
      "outputs": [
        {
          "output_type": "stream",
          "name": "stdout",
          "text": [
            "99\n",
            "98\n",
            "97\n",
            "96\n",
            "95\n",
            "94\n",
            "93\n",
            "92\n",
            "91\n",
            "90\n",
            "89\n",
            "88\n",
            "87\n",
            "86\n",
            "85\n",
            "84\n",
            "83\n",
            "82\n",
            "81\n",
            "80\n",
            "79\n",
            "78\n",
            "77\n",
            "76\n",
            "75\n",
            "74\n",
            "73\n",
            "72\n",
            "71\n",
            "70\n",
            "69\n",
            "68\n",
            "67\n",
            "66\n",
            "65\n",
            "64\n",
            "63\n",
            "62\n",
            "61\n",
            "60\n",
            "59\n",
            "58\n",
            "57\n",
            "56\n",
            "55\n",
            "54\n",
            "53\n",
            "52\n",
            "51\n",
            "50\n",
            "49\n",
            "48\n",
            "47\n",
            "46\n",
            "45\n",
            "44\n",
            "43\n",
            "42\n",
            "41\n",
            "40\n",
            "39\n",
            "38\n",
            "37\n",
            "36\n",
            "35\n",
            "34\n",
            "33\n",
            "32\n",
            "31\n",
            "30\n",
            "29\n",
            "28\n",
            "27\n",
            "26\n",
            "25\n",
            "24\n",
            "23\n",
            "22\n",
            "21\n",
            "20\n",
            "19\n",
            "18\n",
            "17\n",
            "16\n",
            "15\n",
            "14\n",
            "13\n",
            "12\n",
            "11\n",
            "10\n",
            "9\n",
            "8\n",
            "7\n",
            "6\n",
            "5\n",
            "4\n",
            "3\n",
            "2\n",
            "1\n"
          ]
        }
      ]
    },
    {
      "cell_type": "markdown",
      "source": [
        "## **6. IP adresini işleme ve 5 sonraki değeri bulma**"
      ],
      "metadata": {
        "id": "UXHRNQjjCxYk"
      }
    },
    {
      "cell_type": "code",
      "source": [
        "ip = input(\"Bir IP adresi girin (örn. 192.168.255.250): \")\n",
        "\n",
        "parcalar = ip.split('.')\n",
        "son_parca = int(parcalar[-1])\n",
        "\n",
        "for i in range(1, 6):\n",
        "    yeni_son = (son_parca + i) % 256\n",
        "    yeni_ip = '.'.join(parcalar[:-1]) + '.' + str(yeni_son)\n",
        "    print(yeni_ip)\n"
      ],
      "metadata": {
        "colab": {
          "base_uri": "https://localhost:8080/"
        },
        "id": "SCC5tlxRCwyJ",
        "outputId": "54a9ae38-5fa8-4ada-e1ee-10883f131b47"
      },
      "execution_count": 29,
      "outputs": [
        {
          "output_type": "stream",
          "name": "stdout",
          "text": [
            "Bir IP adresi girin (örn. 192.168.255.250): 192.168.255.250\n",
            "192.168.255.251\n",
            "192.168.255.252\n",
            "192.168.255.253\n",
            "192.168.255.254\n",
            "192.168.255.255\n"
          ]
        }
      ]
    }
  ]
}