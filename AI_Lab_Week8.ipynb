{
  "cells": [
    {
      "cell_type": "code",
      "source": [
        "# Gerekli kütüphanelerin içe aktarılması\n",
        "import os\n",
        "import random\n",
        "import sys\n",
        "import numpy as np\n",
        "import pandas as pd\n",
        "import scipy.io.wavfile as sci_wav\n",
        "import matplotlib.pyplot as plt\n",
        "%matplotlib inline\n",
        "\n",
        "from tensorflow.keras import backend as K\n",
        "from tensorflow.keras.models import Sequential\n",
        "from tensorflow.keras.layers import (\n",
        "    Dense, Dropout, BatchNormalization,\n",
        "    Conv1D, GlobalAveragePooling1D, MaxPooling1D\n",
        ")\n",
        "from tensorflow.keras.optimizers import Adam"
      ],
      "metadata": {
        "id": "3_VQbNqagEyu"
      },
      "id": "3_VQbNqagEyu",
      "execution_count": 1,
      "outputs": []
    },
    {
      "cell_type": "code",
      "source": [
        "from google.colab import drive\n",
        "drive.mount('/content/drive')\n"
      ],
      "metadata": {
        "colab": {
          "base_uri": "https://localhost:8080/"
        },
        "id": "SMiNIjRegF86",
        "outputId": "a2c3beb5-4cd2-4720-c496-9f9b3aad1499"
      },
      "id": "SMiNIjRegF86",
      "execution_count": 2,
      "outputs": [
        {
          "output_type": "stream",
          "name": "stdout",
          "text": [
            "Mounted at /content/drive\n"
          ]
        }
      ]
    },
    {
      "cell_type": "code",
      "source": [
        "# Dizin yollarının tanımlanması\n",
        "ROOT_DIR = \"/content/drive/MyDrive/CatOrDog/cats_dogs\"  # Mevcut dizin\n",
        "TRAIN_CAT_DIR = os.path.join(ROOT_DIR, \"train\", \"cat\")\n",
        "TRAIN_DOG_DIR = os.path.join(ROOT_DIR, \"train\", \"dog\")\n",
        "TEST_CAT_DIR = os.path.join(ROOT_DIR, \"test\",\"cats\")\n",
        "TEST_DOG_DIR = os.path.join(ROOT_DIR, \"test\",\"dogs\")"
      ],
      "metadata": {
        "id": "GD4CP9N7gQ_H"
      },
      "id": "GD4CP9N7gQ_H",
      "execution_count": 3,
      "outputs": []
    },
    {
      "cell_type": "code",
      "source": [
        "# Dizinlerin varlığını kontrol et\n",
        "for directory in [TRAIN_CAT_DIR, TRAIN_DOG_DIR, TEST_CAT_DIR, TEST_DOG_DIR]:\n",
        "    if not os.path.exists(directory):\n",
        "        print(f\"Uyarı: {directory} dizini bulunamadı!\")\n",
        "    else:\n",
        "        print(f\"✓ {directory} dizini mevcut\")\n"
      ],
      "metadata": {
        "colab": {
          "base_uri": "https://localhost:8080/"
        },
        "id": "nofS_hh6gi_O",
        "outputId": "f78da6b0-4a1e-4d98-e0be-b609afd08c31"
      },
      "id": "nofS_hh6gi_O",
      "execution_count": 4,
      "outputs": [
        {
          "output_type": "stream",
          "name": "stdout",
          "text": [
            "✓ /content/drive/MyDrive/CatOrDog/cats_dogs/train/cat dizini mevcut\n",
            "✓ /content/drive/MyDrive/CatOrDog/cats_dogs/train/dog dizini mevcut\n",
            "✓ /content/drive/MyDrive/CatOrDog/cats_dogs/test/cats dizini mevcut\n",
            "✓ /content/drive/MyDrive/CatOrDog/cats_dogs/test/dogs dizini mevcut\n"
          ]
        }
      ]
    },
    {
      "cell_type": "code",
      "source": [
        "\n",
        "# WAV dosyalarını listeleme fonksiyonu\n",
        "def get_wav_files(directory):\n",
        "    \"\"\"Bir dizindeki tüm WAV dosyalarını listele\"\"\"\n",
        "    if not os.path.exists(directory):\n",
        "        raise FileNotFoundError(f\"Dizin bulunamadı: {directory}\")\n",
        "    wav_files = [f for f in os.listdir(directory) if f.endswith('.wav')]\n",
        "    print(f\"{directory} içinde {len(wav_files)} WAV dosyası bulundu\")\n",
        "    return wav_files\n"
      ],
      "metadata": {
        "id": "mvNWzaTVglrD"
      },
      "id": "mvNWzaTVglrD",
      "execution_count": 5,
      "outputs": []
    },
    {
      "cell_type": "code",
      "source": [
        "\n",
        "# Test - WAV dosyalarını listele\n",
        "train_cat_files = get_wav_files(TRAIN_CAT_DIR)\n",
        "train_dog_files = get_wav_files(TRAIN_DOG_DIR)\n",
        "test_cat_files = get_wav_files(TEST_CAT_DIR)\n",
        "test_dog_files = get_wav_files(TEST_DOG_DIR)"
      ],
      "metadata": {
        "colab": {
          "base_uri": "https://localhost:8080/"
        },
        "id": "uWYRsx-Xgn5d",
        "outputId": "ca37033f-a48b-4f51-e1ef-22c7e0ac4170"
      },
      "id": "uWYRsx-Xgn5d",
      "execution_count": 6,
      "outputs": [
        {
          "output_type": "stream",
          "name": "stdout",
          "text": [
            "/content/drive/MyDrive/CatOrDog/cats_dogs/train/cat içinde 125 WAV dosyası bulundu\n",
            "/content/drive/MyDrive/CatOrDog/cats_dogs/train/dog içinde 85 WAV dosyası bulundu\n",
            "/content/drive/MyDrive/CatOrDog/cats_dogs/test/cats içinde 39 WAV dosyası bulundu\n",
            "/content/drive/MyDrive/CatOrDog/cats_dogs/test/dogs içinde 28 WAV dosyası bulundu\n"
          ]
        }
      ]
    },
    {
      "cell_type": "code",
      "source": [
        "# WAV dosyalarını okuma fonksiyonu\n",
        "def read_wav_files(directory, wav_files):\n",
        "    \"\"\"WAV dosyalarını oku ve numpy dizisine dönüştür\"\"\"\n",
        "    if not isinstance(wav_files, list):\n",
        "        wav_files = [wav_files]\n",
        "\n",
        "    audio_data = []\n",
        "    for f in wav_files:\n",
        "        try:\n",
        "            _, data = sci_wav.read(os.path.join(directory, f))\n",
        "            audio_data.append(data)\n",
        "        except Exception as e:\n",
        "            print(f\"Hata - {f} dosyası okunamadı: {str(e)}\")\n",
        "    return audio_data\n"
      ],
      "metadata": {
        "id": "X3cLw3jPgpKo"
      },
      "id": "X3cLw3jPgpKo",
      "execution_count": 7,
      "outputs": []
    },
    {
      "cell_type": "code",
      "source": [
        "# Ses dilimleme fonksiyonu\n",
        "def get_trunk(_X, idx, sample_len, rand_offset=False):\n",
        "    \"\"\"Ses verisinden belirli uzunlukta bir dilim al\"\"\"\n",
        "    randint = np.random.randint(10000) if rand_offset else 0\n",
        "    start_idx = (idx * sample_len + randint) % len(_X)\n",
        "    end_idx = ((idx + 1) * sample_len + randint) % len(_X)\n",
        "    if end_idx > start_idx:\n",
        "        return _X[start_idx:end_idx]\n",
        "    else:\n",
        "        return np.concatenate((_X[start_idx:], _X[:end_idx]))"
      ],
      "metadata": {
        "id": "6eajVOQKgtAd"
      },
      "id": "6eajVOQKgtAd",
      "execution_count": 8,
      "outputs": []
    },
    {
      "cell_type": "code",
      "source": [
        "# Veri artırma fonksiyonu\n",
        "def get_augmented_trunk(_X, idx, sample_len, added_samples=0):\n",
        "    \"\"\"Ses verisini artır ve karıştır\"\"\"\n",
        "    X = get_trunk(_X, idx, sample_len)\n",
        "    for _ in range(added_samples):\n",
        "        ridx = np.random.randint(len(_X))\n",
        "        X = X + get_trunk(_X, ridx, sample_len)\n",
        "    return X"
      ],
      "metadata": {
        "id": "xsmF3PBSgvNJ"
      },
      "id": "xsmF3PBSgvNJ",
      "execution_count": 9,
      "outputs": []
    },
    {
      "cell_type": "code",
      "source": [
        "# Veri seti oluşturma fonksiyonu\n",
        "def dataset_gen(dataset, is_train=True, batch_shape=(20, 16000), sample_augmentation=0):\n",
        "    \"\"\"Eğitim için batch veri üret\"\"\"\n",
        "    s_per_batch, s_len = batch_shape\n",
        "    X_cat = dataset[\"train_cat\"] if is_train else dataset[\"test_cat\"]\n",
        "    X_dog = dataset[\"train_dog\"] if is_train else dataset[\"test_dog\"]\n",
        "\n",
        "    y_batch = np.zeros(s_per_batch)\n",
        "    X_batch = np.zeros(batch_shape)\n",
        "\n",
        "    nbatch = max(len(X_cat), len(X_dog)) // s_len\n",
        "    perms = [list(enumerate([i] * nbatch)) for i in range(2)]\n",
        "    perms = sum(perms, [])\n",
        "    random.shuffle(perms)\n",
        "\n",
        "    while len(perms) >= s_per_batch:\n",
        "        for bidx in range(s_per_batch):\n",
        "            perm, y = perms.pop()\n",
        "            y_batch[bidx] = y\n",
        "            X = X_cat if y == 0 else X_dog\n",
        "            if is_train:\n",
        "                X_batch[bidx] = get_augmented_trunk(X, perm, s_len, sample_augmentation)\n",
        "            else:\n",
        "                X_batch[bidx] = get_trunk(X, perm, s_len)\n",
        "        yield X_batch.reshape(s_per_batch, s_len, 1), y_batch.reshape(-1, 1)"
      ],
      "metadata": {
        "id": "JA4L7GkFgyIr"
      },
      "id": "JA4L7GkFgyIr",
      "execution_count": 10,
      "outputs": []
    },
    {
      "cell_type": "code",
      "source": [
        "# Veri setini yükleme fonksiyonu\n",
        "def load_dataset():\n",
        "    \"\"\"Tüm ses verilerini yükle ve işle\"\"\"\n",
        "    dataset = {}\n",
        "\n",
        "    data_pairs = [\n",
        "        ('train_cat', TRAIN_CAT_DIR, train_cat_files),\n",
        "        ('train_dog', TRAIN_DOG_DIR, train_dog_files),\n",
        "        ('test_cat', TEST_CAT_DIR, test_cat_files),\n",
        "        ('test_dog', TEST_DOG_DIR, test_dog_files)\n",
        "    ]\n",
        "\n",
        "    for key, directory, files in data_pairs:\n",
        "        try:\n",
        "            print(f\"\\n{key} verisi yükleniyor...\")\n",
        "            v = read_wav_files(directory, files)\n",
        "            v = np.concatenate(v).astype('float32')\n",
        "            mean, std = v.mean(), v.std()\n",
        "            v = (v - mean) / std\n",
        "            dataset[key] = v\n",
        "            print(f\"✓ {key}: {len(v) / 16000:.2f} saniye ses yüklendi\")\n",
        "        except Exception as e:\n",
        "            print(f\"✗ {key} yüklenirken hata: {str(e)}\")\n",
        "\n",
        "    return dataset"
      ],
      "metadata": {
        "id": "8dA7QBJLg3wS"
      },
      "id": "8dA7QBJLg3wS",
      "execution_count": 11,
      "outputs": []
    },
    {
      "cell_type": "code",
      "source": [
        "# Veri setini yükle\n",
        "print(\"Veri seti yükleniyor...\")\n",
        "dataset = load_dataset()"
      ],
      "metadata": {
        "colab": {
          "base_uri": "https://localhost:8080/"
        },
        "id": "7PZ5hSMhg7oE",
        "outputId": "9ba6b69a-a2e1-4df4-aac9-d67798e3143e"
      },
      "id": "7PZ5hSMhg7oE",
      "execution_count": 12,
      "outputs": [
        {
          "output_type": "stream",
          "name": "stdout",
          "text": [
            "Veri seti yükleniyor...\n",
            "\n",
            "train_cat verisi yükleniyor...\n",
            "✓ train_cat: 1040.49 saniye ses yüklendi\n",
            "\n",
            "train_dog verisi yükleniyor...\n",
            "✓ train_dog: 471.76 saniye ses yüklendi\n",
            "\n",
            "test_cat verisi yükleniyor...\n",
            "✓ test_cat: 283.41 saniye ses yüklendi\n",
            "\n",
            "test_dog verisi yükleniyor...\n",
            "✓ test_dog: 126.68 saniye ses yüklendi\n"
          ]
        }
      ]
    },
    {
      "cell_type": "code",
      "source": [
        "# Model parametreleri\n",
        "batch_size = 512\n",
        "num_data_points = 16000\n",
        "n_augment = 10\n",
        "NUM_EPOCHS = 50"
      ],
      "metadata": {
        "id": "KH2l1hV9g--4"
      },
      "id": "KH2l1hV9g--4",
      "execution_count": 13,
      "outputs": []
    },
    {
      "cell_type": "code",
      "source": [
        "# Model oluşturma\n",
        "print(\"\\nModel oluşturuluyor...\")\n",
        "K.clear_session()\n",
        "model = Sequential([\n",
        "    Conv1D(20, 4, strides=2, activation='relu', input_shape=(num_data_points, 1)),\n",
        "    BatchNormalization(),\n",
        "    Conv1D(20, 4, strides=2, activation='relu'),\n",
        "    BatchNormalization(),\n",
        "    MaxPooling1D(2),\n",
        "    Conv1D(40, 4, strides=2, activation='relu'),\n",
        "    BatchNormalization(),\n",
        "    Conv1D(40, 4, strides=2, activation='relu'),\n",
        "    BatchNormalization(),\n",
        "    MaxPooling1D(2),\n",
        "    Conv1D(80, 4, strides=2, activation='relu'),\n",
        "    BatchNormalization(),\n",
        "    Conv1D(80, 4, strides=2, activation='relu'),\n",
        "    BatchNormalization(),\n",
        "    GlobalAveragePooling1D(),\n",
        "    Dense(256, activation='relu'),\n",
        "    BatchNormalization(),\n",
        "    Dropout(0.5),\n",
        "    Dense(256, activation='relu'),\n",
        "    BatchNormalization(),\n",
        "    Dropout(0.5),\n",
        "    Dense(1, activation='sigmoid')\n",
        "])\n"
      ],
      "metadata": {
        "colab": {
          "base_uri": "https://localhost:8080/"
        },
        "id": "57C6o_Q6hBvQ",
        "outputId": "7d935356-0337-45bb-fdb3-190a23a54536"
      },
      "id": "57C6o_Q6hBvQ",
      "execution_count": 14,
      "outputs": [
        {
          "output_type": "stream",
          "name": "stdout",
          "text": [
            "\n",
            "Model oluşturuluyor...\n"
          ]
        },
        {
          "output_type": "stream",
          "name": "stderr",
          "text": [
            "/usr/local/lib/python3.10/dist-packages/keras/src/layers/convolutional/base_conv.py:107: UserWarning: Do not pass an `input_shape`/`input_dim` argument to a layer. When using Sequential models, prefer using an `Input(shape)` object as the first layer in the model instead.\n",
            "  super().__init__(activity_regularizer=activity_regularizer, **kwargs)\n"
          ]
        }
      ]
    },
    {
      "cell_type": "code",
      "source": [
        "# Model özeti\n",
        "model.summary()"
      ],
      "metadata": {
        "colab": {
          "base_uri": "https://localhost:8080/",
          "height": 977
        },
        "id": "zk-40Jo6hFni",
        "outputId": "95694df8-f7bc-485f-a283-e5ea3d392b42"
      },
      "id": "zk-40Jo6hFni",
      "execution_count": 15,
      "outputs": [
        {
          "output_type": "display_data",
          "data": {
            "text/plain": [
              "\u001b[1mModel: \"sequential\"\u001b[0m\n"
            ],
            "text/html": [
              "<pre style=\"white-space:pre;overflow-x:auto;line-height:normal;font-family:Menlo,'DejaVu Sans Mono',consolas,'Courier New',monospace\"><span style=\"font-weight: bold\">Model: \"sequential\"</span>\n",
              "</pre>\n"
            ]
          },
          "metadata": {}
        },
        {
          "output_type": "display_data",
          "data": {
            "text/plain": [
              "┏━━━━━━━━━━━━━━━━━━━━━━━━━━━━━━━━━━━━━━┳━━━━━━━━━━━━━━━━━━━━━━━━━━━━━┳━━━━━━━━━━━━━━━━━┓\n",
              "┃\u001b[1m \u001b[0m\u001b[1mLayer (type)                        \u001b[0m\u001b[1m \u001b[0m┃\u001b[1m \u001b[0m\u001b[1mOutput Shape               \u001b[0m\u001b[1m \u001b[0m┃\u001b[1m \u001b[0m\u001b[1m        Param #\u001b[0m\u001b[1m \u001b[0m┃\n",
              "┡━━━━━━━━━━━━━━━━━━━━━━━━━━━━━━━━━━━━━━╇━━━━━━━━━━━━━━━━━━━━━━━━━━━━━╇━━━━━━━━━━━━━━━━━┩\n",
              "│ conv1d (\u001b[38;5;33mConv1D\u001b[0m)                      │ (\u001b[38;5;45mNone\u001b[0m, \u001b[38;5;34m7999\u001b[0m, \u001b[38;5;34m20\u001b[0m)            │             \u001b[38;5;34m100\u001b[0m │\n",
              "├──────────────────────────────────────┼─────────────────────────────┼─────────────────┤\n",
              "│ batch_normalization                  │ (\u001b[38;5;45mNone\u001b[0m, \u001b[38;5;34m7999\u001b[0m, \u001b[38;5;34m20\u001b[0m)            │              \u001b[38;5;34m80\u001b[0m │\n",
              "│ (\u001b[38;5;33mBatchNormalization\u001b[0m)                 │                             │                 │\n",
              "├──────────────────────────────────────┼─────────────────────────────┼─────────────────┤\n",
              "│ conv1d_1 (\u001b[38;5;33mConv1D\u001b[0m)                    │ (\u001b[38;5;45mNone\u001b[0m, \u001b[38;5;34m3998\u001b[0m, \u001b[38;5;34m20\u001b[0m)            │           \u001b[38;5;34m1,620\u001b[0m │\n",
              "├──────────────────────────────────────┼─────────────────────────────┼─────────────────┤\n",
              "│ batch_normalization_1                │ (\u001b[38;5;45mNone\u001b[0m, \u001b[38;5;34m3998\u001b[0m, \u001b[38;5;34m20\u001b[0m)            │              \u001b[38;5;34m80\u001b[0m │\n",
              "│ (\u001b[38;5;33mBatchNormalization\u001b[0m)                 │                             │                 │\n",
              "├──────────────────────────────────────┼─────────────────────────────┼─────────────────┤\n",
              "│ max_pooling1d (\u001b[38;5;33mMaxPooling1D\u001b[0m)         │ (\u001b[38;5;45mNone\u001b[0m, \u001b[38;5;34m1999\u001b[0m, \u001b[38;5;34m20\u001b[0m)            │               \u001b[38;5;34m0\u001b[0m │\n",
              "├──────────────────────────────────────┼─────────────────────────────┼─────────────────┤\n",
              "│ conv1d_2 (\u001b[38;5;33mConv1D\u001b[0m)                    │ (\u001b[38;5;45mNone\u001b[0m, \u001b[38;5;34m998\u001b[0m, \u001b[38;5;34m40\u001b[0m)             │           \u001b[38;5;34m3,240\u001b[0m │\n",
              "├──────────────────────────────────────┼─────────────────────────────┼─────────────────┤\n",
              "│ batch_normalization_2                │ (\u001b[38;5;45mNone\u001b[0m, \u001b[38;5;34m998\u001b[0m, \u001b[38;5;34m40\u001b[0m)             │             \u001b[38;5;34m160\u001b[0m │\n",
              "│ (\u001b[38;5;33mBatchNormalization\u001b[0m)                 │                             │                 │\n",
              "├──────────────────────────────────────┼─────────────────────────────┼─────────────────┤\n",
              "│ conv1d_3 (\u001b[38;5;33mConv1D\u001b[0m)                    │ (\u001b[38;5;45mNone\u001b[0m, \u001b[38;5;34m498\u001b[0m, \u001b[38;5;34m40\u001b[0m)             │           \u001b[38;5;34m6,440\u001b[0m │\n",
              "├──────────────────────────────────────┼─────────────────────────────┼─────────────────┤\n",
              "│ batch_normalization_3                │ (\u001b[38;5;45mNone\u001b[0m, \u001b[38;5;34m498\u001b[0m, \u001b[38;5;34m40\u001b[0m)             │             \u001b[38;5;34m160\u001b[0m │\n",
              "│ (\u001b[38;5;33mBatchNormalization\u001b[0m)                 │                             │                 │\n",
              "├──────────────────────────────────────┼─────────────────────────────┼─────────────────┤\n",
              "│ max_pooling1d_1 (\u001b[38;5;33mMaxPooling1D\u001b[0m)       │ (\u001b[38;5;45mNone\u001b[0m, \u001b[38;5;34m249\u001b[0m, \u001b[38;5;34m40\u001b[0m)             │               \u001b[38;5;34m0\u001b[0m │\n",
              "├──────────────────────────────────────┼─────────────────────────────┼─────────────────┤\n",
              "│ conv1d_4 (\u001b[38;5;33mConv1D\u001b[0m)                    │ (\u001b[38;5;45mNone\u001b[0m, \u001b[38;5;34m123\u001b[0m, \u001b[38;5;34m80\u001b[0m)             │          \u001b[38;5;34m12,880\u001b[0m │\n",
              "├──────────────────────────────────────┼─────────────────────────────┼─────────────────┤\n",
              "│ batch_normalization_4                │ (\u001b[38;5;45mNone\u001b[0m, \u001b[38;5;34m123\u001b[0m, \u001b[38;5;34m80\u001b[0m)             │             \u001b[38;5;34m320\u001b[0m │\n",
              "│ (\u001b[38;5;33mBatchNormalization\u001b[0m)                 │                             │                 │\n",
              "├──────────────────────────────────────┼─────────────────────────────┼─────────────────┤\n",
              "│ conv1d_5 (\u001b[38;5;33mConv1D\u001b[0m)                    │ (\u001b[38;5;45mNone\u001b[0m, \u001b[38;5;34m60\u001b[0m, \u001b[38;5;34m80\u001b[0m)              │          \u001b[38;5;34m25,680\u001b[0m │\n",
              "├──────────────────────────────────────┼─────────────────────────────┼─────────────────┤\n",
              "│ batch_normalization_5                │ (\u001b[38;5;45mNone\u001b[0m, \u001b[38;5;34m60\u001b[0m, \u001b[38;5;34m80\u001b[0m)              │             \u001b[38;5;34m320\u001b[0m │\n",
              "│ (\u001b[38;5;33mBatchNormalization\u001b[0m)                 │                             │                 │\n",
              "├──────────────────────────────────────┼─────────────────────────────┼─────────────────┤\n",
              "│ global_average_pooling1d             │ (\u001b[38;5;45mNone\u001b[0m, \u001b[38;5;34m80\u001b[0m)                  │               \u001b[38;5;34m0\u001b[0m │\n",
              "│ (\u001b[38;5;33mGlobalAveragePooling1D\u001b[0m)             │                             │                 │\n",
              "├──────────────────────────────────────┼─────────────────────────────┼─────────────────┤\n",
              "│ dense (\u001b[38;5;33mDense\u001b[0m)                        │ (\u001b[38;5;45mNone\u001b[0m, \u001b[38;5;34m256\u001b[0m)                 │          \u001b[38;5;34m20,736\u001b[0m │\n",
              "├──────────────────────────────────────┼─────────────────────────────┼─────────────────┤\n",
              "│ batch_normalization_6                │ (\u001b[38;5;45mNone\u001b[0m, \u001b[38;5;34m256\u001b[0m)                 │           \u001b[38;5;34m1,024\u001b[0m │\n",
              "│ (\u001b[38;5;33mBatchNormalization\u001b[0m)                 │                             │                 │\n",
              "├──────────────────────────────────────┼─────────────────────────────┼─────────────────┤\n",
              "│ dropout (\u001b[38;5;33mDropout\u001b[0m)                    │ (\u001b[38;5;45mNone\u001b[0m, \u001b[38;5;34m256\u001b[0m)                 │               \u001b[38;5;34m0\u001b[0m │\n",
              "├──────────────────────────────────────┼─────────────────────────────┼─────────────────┤\n",
              "│ dense_1 (\u001b[38;5;33mDense\u001b[0m)                      │ (\u001b[38;5;45mNone\u001b[0m, \u001b[38;5;34m256\u001b[0m)                 │          \u001b[38;5;34m65,792\u001b[0m │\n",
              "├──────────────────────────────────────┼─────────────────────────────┼─────────────────┤\n",
              "│ batch_normalization_7                │ (\u001b[38;5;45mNone\u001b[0m, \u001b[38;5;34m256\u001b[0m)                 │           \u001b[38;5;34m1,024\u001b[0m │\n",
              "│ (\u001b[38;5;33mBatchNormalization\u001b[0m)                 │                             │                 │\n",
              "├──────────────────────────────────────┼─────────────────────────────┼─────────────────┤\n",
              "│ dropout_1 (\u001b[38;5;33mDropout\u001b[0m)                  │ (\u001b[38;5;45mNone\u001b[0m, \u001b[38;5;34m256\u001b[0m)                 │               \u001b[38;5;34m0\u001b[0m │\n",
              "├──────────────────────────────────────┼─────────────────────────────┼─────────────────┤\n",
              "│ dense_2 (\u001b[38;5;33mDense\u001b[0m)                      │ (\u001b[38;5;45mNone\u001b[0m, \u001b[38;5;34m1\u001b[0m)                   │             \u001b[38;5;34m257\u001b[0m │\n",
              "└──────────────────────────────────────┴─────────────────────────────┴─────────────────┘\n"
            ],
            "text/html": [
              "<pre style=\"white-space:pre;overflow-x:auto;line-height:normal;font-family:Menlo,'DejaVu Sans Mono',consolas,'Courier New',monospace\">┏━━━━━━━━━━━━━━━━━━━━━━━━━━━━━━━━━━━━━━┳━━━━━━━━━━━━━━━━━━━━━━━━━━━━━┳━━━━━━━━━━━━━━━━━┓\n",
              "┃<span style=\"font-weight: bold\"> Layer (type)                         </span>┃<span style=\"font-weight: bold\"> Output Shape                </span>┃<span style=\"font-weight: bold\">         Param # </span>┃\n",
              "┡━━━━━━━━━━━━━━━━━━━━━━━━━━━━━━━━━━━━━━╇━━━━━━━━━━━━━━━━━━━━━━━━━━━━━╇━━━━━━━━━━━━━━━━━┩\n",
              "│ conv1d (<span style=\"color: #0087ff; text-decoration-color: #0087ff\">Conv1D</span>)                      │ (<span style=\"color: #00d7ff; text-decoration-color: #00d7ff\">None</span>, <span style=\"color: #00af00; text-decoration-color: #00af00\">7999</span>, <span style=\"color: #00af00; text-decoration-color: #00af00\">20</span>)            │             <span style=\"color: #00af00; text-decoration-color: #00af00\">100</span> │\n",
              "├──────────────────────────────────────┼─────────────────────────────┼─────────────────┤\n",
              "│ batch_normalization                  │ (<span style=\"color: #00d7ff; text-decoration-color: #00d7ff\">None</span>, <span style=\"color: #00af00; text-decoration-color: #00af00\">7999</span>, <span style=\"color: #00af00; text-decoration-color: #00af00\">20</span>)            │              <span style=\"color: #00af00; text-decoration-color: #00af00\">80</span> │\n",
              "│ (<span style=\"color: #0087ff; text-decoration-color: #0087ff\">BatchNormalization</span>)                 │                             │                 │\n",
              "├──────────────────────────────────────┼─────────────────────────────┼─────────────────┤\n",
              "│ conv1d_1 (<span style=\"color: #0087ff; text-decoration-color: #0087ff\">Conv1D</span>)                    │ (<span style=\"color: #00d7ff; text-decoration-color: #00d7ff\">None</span>, <span style=\"color: #00af00; text-decoration-color: #00af00\">3998</span>, <span style=\"color: #00af00; text-decoration-color: #00af00\">20</span>)            │           <span style=\"color: #00af00; text-decoration-color: #00af00\">1,620</span> │\n",
              "├──────────────────────────────────────┼─────────────────────────────┼─────────────────┤\n",
              "│ batch_normalization_1                │ (<span style=\"color: #00d7ff; text-decoration-color: #00d7ff\">None</span>, <span style=\"color: #00af00; text-decoration-color: #00af00\">3998</span>, <span style=\"color: #00af00; text-decoration-color: #00af00\">20</span>)            │              <span style=\"color: #00af00; text-decoration-color: #00af00\">80</span> │\n",
              "│ (<span style=\"color: #0087ff; text-decoration-color: #0087ff\">BatchNormalization</span>)                 │                             │                 │\n",
              "├──────────────────────────────────────┼─────────────────────────────┼─────────────────┤\n",
              "│ max_pooling1d (<span style=\"color: #0087ff; text-decoration-color: #0087ff\">MaxPooling1D</span>)         │ (<span style=\"color: #00d7ff; text-decoration-color: #00d7ff\">None</span>, <span style=\"color: #00af00; text-decoration-color: #00af00\">1999</span>, <span style=\"color: #00af00; text-decoration-color: #00af00\">20</span>)            │               <span style=\"color: #00af00; text-decoration-color: #00af00\">0</span> │\n",
              "├──────────────────────────────────────┼─────────────────────────────┼─────────────────┤\n",
              "│ conv1d_2 (<span style=\"color: #0087ff; text-decoration-color: #0087ff\">Conv1D</span>)                    │ (<span style=\"color: #00d7ff; text-decoration-color: #00d7ff\">None</span>, <span style=\"color: #00af00; text-decoration-color: #00af00\">998</span>, <span style=\"color: #00af00; text-decoration-color: #00af00\">40</span>)             │           <span style=\"color: #00af00; text-decoration-color: #00af00\">3,240</span> │\n",
              "├──────────────────────────────────────┼─────────────────────────────┼─────────────────┤\n",
              "│ batch_normalization_2                │ (<span style=\"color: #00d7ff; text-decoration-color: #00d7ff\">None</span>, <span style=\"color: #00af00; text-decoration-color: #00af00\">998</span>, <span style=\"color: #00af00; text-decoration-color: #00af00\">40</span>)             │             <span style=\"color: #00af00; text-decoration-color: #00af00\">160</span> │\n",
              "│ (<span style=\"color: #0087ff; text-decoration-color: #0087ff\">BatchNormalization</span>)                 │                             │                 │\n",
              "├──────────────────────────────────────┼─────────────────────────────┼─────────────────┤\n",
              "│ conv1d_3 (<span style=\"color: #0087ff; text-decoration-color: #0087ff\">Conv1D</span>)                    │ (<span style=\"color: #00d7ff; text-decoration-color: #00d7ff\">None</span>, <span style=\"color: #00af00; text-decoration-color: #00af00\">498</span>, <span style=\"color: #00af00; text-decoration-color: #00af00\">40</span>)             │           <span style=\"color: #00af00; text-decoration-color: #00af00\">6,440</span> │\n",
              "├──────────────────────────────────────┼─────────────────────────────┼─────────────────┤\n",
              "│ batch_normalization_3                │ (<span style=\"color: #00d7ff; text-decoration-color: #00d7ff\">None</span>, <span style=\"color: #00af00; text-decoration-color: #00af00\">498</span>, <span style=\"color: #00af00; text-decoration-color: #00af00\">40</span>)             │             <span style=\"color: #00af00; text-decoration-color: #00af00\">160</span> │\n",
              "│ (<span style=\"color: #0087ff; text-decoration-color: #0087ff\">BatchNormalization</span>)                 │                             │                 │\n",
              "├──────────────────────────────────────┼─────────────────────────────┼─────────────────┤\n",
              "│ max_pooling1d_1 (<span style=\"color: #0087ff; text-decoration-color: #0087ff\">MaxPooling1D</span>)       │ (<span style=\"color: #00d7ff; text-decoration-color: #00d7ff\">None</span>, <span style=\"color: #00af00; text-decoration-color: #00af00\">249</span>, <span style=\"color: #00af00; text-decoration-color: #00af00\">40</span>)             │               <span style=\"color: #00af00; text-decoration-color: #00af00\">0</span> │\n",
              "├──────────────────────────────────────┼─────────────────────────────┼─────────────────┤\n",
              "│ conv1d_4 (<span style=\"color: #0087ff; text-decoration-color: #0087ff\">Conv1D</span>)                    │ (<span style=\"color: #00d7ff; text-decoration-color: #00d7ff\">None</span>, <span style=\"color: #00af00; text-decoration-color: #00af00\">123</span>, <span style=\"color: #00af00; text-decoration-color: #00af00\">80</span>)             │          <span style=\"color: #00af00; text-decoration-color: #00af00\">12,880</span> │\n",
              "├──────────────────────────────────────┼─────────────────────────────┼─────────────────┤\n",
              "│ batch_normalization_4                │ (<span style=\"color: #00d7ff; text-decoration-color: #00d7ff\">None</span>, <span style=\"color: #00af00; text-decoration-color: #00af00\">123</span>, <span style=\"color: #00af00; text-decoration-color: #00af00\">80</span>)             │             <span style=\"color: #00af00; text-decoration-color: #00af00\">320</span> │\n",
              "│ (<span style=\"color: #0087ff; text-decoration-color: #0087ff\">BatchNormalization</span>)                 │                             │                 │\n",
              "├──────────────────────────────────────┼─────────────────────────────┼─────────────────┤\n",
              "│ conv1d_5 (<span style=\"color: #0087ff; text-decoration-color: #0087ff\">Conv1D</span>)                    │ (<span style=\"color: #00d7ff; text-decoration-color: #00d7ff\">None</span>, <span style=\"color: #00af00; text-decoration-color: #00af00\">60</span>, <span style=\"color: #00af00; text-decoration-color: #00af00\">80</span>)              │          <span style=\"color: #00af00; text-decoration-color: #00af00\">25,680</span> │\n",
              "├──────────────────────────────────────┼─────────────────────────────┼─────────────────┤\n",
              "│ batch_normalization_5                │ (<span style=\"color: #00d7ff; text-decoration-color: #00d7ff\">None</span>, <span style=\"color: #00af00; text-decoration-color: #00af00\">60</span>, <span style=\"color: #00af00; text-decoration-color: #00af00\">80</span>)              │             <span style=\"color: #00af00; text-decoration-color: #00af00\">320</span> │\n",
              "│ (<span style=\"color: #0087ff; text-decoration-color: #0087ff\">BatchNormalization</span>)                 │                             │                 │\n",
              "├──────────────────────────────────────┼─────────────────────────────┼─────────────────┤\n",
              "│ global_average_pooling1d             │ (<span style=\"color: #00d7ff; text-decoration-color: #00d7ff\">None</span>, <span style=\"color: #00af00; text-decoration-color: #00af00\">80</span>)                  │               <span style=\"color: #00af00; text-decoration-color: #00af00\">0</span> │\n",
              "│ (<span style=\"color: #0087ff; text-decoration-color: #0087ff\">GlobalAveragePooling1D</span>)             │                             │                 │\n",
              "├──────────────────────────────────────┼─────────────────────────────┼─────────────────┤\n",
              "│ dense (<span style=\"color: #0087ff; text-decoration-color: #0087ff\">Dense</span>)                        │ (<span style=\"color: #00d7ff; text-decoration-color: #00d7ff\">None</span>, <span style=\"color: #00af00; text-decoration-color: #00af00\">256</span>)                 │          <span style=\"color: #00af00; text-decoration-color: #00af00\">20,736</span> │\n",
              "├──────────────────────────────────────┼─────────────────────────────┼─────────────────┤\n",
              "│ batch_normalization_6                │ (<span style=\"color: #00d7ff; text-decoration-color: #00d7ff\">None</span>, <span style=\"color: #00af00; text-decoration-color: #00af00\">256</span>)                 │           <span style=\"color: #00af00; text-decoration-color: #00af00\">1,024</span> │\n",
              "│ (<span style=\"color: #0087ff; text-decoration-color: #0087ff\">BatchNormalization</span>)                 │                             │                 │\n",
              "├──────────────────────────────────────┼─────────────────────────────┼─────────────────┤\n",
              "│ dropout (<span style=\"color: #0087ff; text-decoration-color: #0087ff\">Dropout</span>)                    │ (<span style=\"color: #00d7ff; text-decoration-color: #00d7ff\">None</span>, <span style=\"color: #00af00; text-decoration-color: #00af00\">256</span>)                 │               <span style=\"color: #00af00; text-decoration-color: #00af00\">0</span> │\n",
              "├──────────────────────────────────────┼─────────────────────────────┼─────────────────┤\n",
              "│ dense_1 (<span style=\"color: #0087ff; text-decoration-color: #0087ff\">Dense</span>)                      │ (<span style=\"color: #00d7ff; text-decoration-color: #00d7ff\">None</span>, <span style=\"color: #00af00; text-decoration-color: #00af00\">256</span>)                 │          <span style=\"color: #00af00; text-decoration-color: #00af00\">65,792</span> │\n",
              "├──────────────────────────────────────┼─────────────────────────────┼─────────────────┤\n",
              "│ batch_normalization_7                │ (<span style=\"color: #00d7ff; text-decoration-color: #00d7ff\">None</span>, <span style=\"color: #00af00; text-decoration-color: #00af00\">256</span>)                 │           <span style=\"color: #00af00; text-decoration-color: #00af00\">1,024</span> │\n",
              "│ (<span style=\"color: #0087ff; text-decoration-color: #0087ff\">BatchNormalization</span>)                 │                             │                 │\n",
              "├──────────────────────────────────────┼─────────────────────────────┼─────────────────┤\n",
              "│ dropout_1 (<span style=\"color: #0087ff; text-decoration-color: #0087ff\">Dropout</span>)                  │ (<span style=\"color: #00d7ff; text-decoration-color: #00d7ff\">None</span>, <span style=\"color: #00af00; text-decoration-color: #00af00\">256</span>)                 │               <span style=\"color: #00af00; text-decoration-color: #00af00\">0</span> │\n",
              "├──────────────────────────────────────┼─────────────────────────────┼─────────────────┤\n",
              "│ dense_2 (<span style=\"color: #0087ff; text-decoration-color: #0087ff\">Dense</span>)                      │ (<span style=\"color: #00d7ff; text-decoration-color: #00d7ff\">None</span>, <span style=\"color: #00af00; text-decoration-color: #00af00\">1</span>)                   │             <span style=\"color: #00af00; text-decoration-color: #00af00\">257</span> │\n",
              "└──────────────────────────────────────┴─────────────────────────────┴─────────────────┘\n",
              "</pre>\n"
            ]
          },
          "metadata": {}
        },
        {
          "output_type": "display_data",
          "data": {
            "text/plain": [
              "\u001b[1m Total params: \u001b[0m\u001b[38;5;34m139,913\u001b[0m (546.54 KB)\n"
            ],
            "text/html": [
              "<pre style=\"white-space:pre;overflow-x:auto;line-height:normal;font-family:Menlo,'DejaVu Sans Mono',consolas,'Courier New',monospace\"><span style=\"font-weight: bold\"> Total params: </span><span style=\"color: #00af00; text-decoration-color: #00af00\">139,913</span> (546.54 KB)\n",
              "</pre>\n"
            ]
          },
          "metadata": {}
        },
        {
          "output_type": "display_data",
          "data": {
            "text/plain": [
              "\u001b[1m Trainable params: \u001b[0m\u001b[38;5;34m138,329\u001b[0m (540.35 KB)\n"
            ],
            "text/html": [
              "<pre style=\"white-space:pre;overflow-x:auto;line-height:normal;font-family:Menlo,'DejaVu Sans Mono',consolas,'Courier New',monospace\"><span style=\"font-weight: bold\"> Trainable params: </span><span style=\"color: #00af00; text-decoration-color: #00af00\">138,329</span> (540.35 KB)\n",
              "</pre>\n"
            ]
          },
          "metadata": {}
        },
        {
          "output_type": "display_data",
          "data": {
            "text/plain": [
              "\u001b[1m Non-trainable params: \u001b[0m\u001b[38;5;34m1,584\u001b[0m (6.19 KB)\n"
            ],
            "text/html": [
              "<pre style=\"white-space:pre;overflow-x:auto;line-height:normal;font-family:Menlo,'DejaVu Sans Mono',consolas,'Courier New',monospace\"><span style=\"font-weight: bold\"> Non-trainable params: </span><span style=\"color: #00af00; text-decoration-color: #00af00\">1,584</span> (6.19 KB)\n",
              "</pre>\n"
            ]
          },
          "metadata": {}
        }
      ]
    },
    {
      "cell_type": "code",
      "source": [
        "# Model derleme\n",
        "print(\"\\nModel derleniyor...\")\n",
        "adam_optimizer = Adam(decay=1e-3)\n",
        "model.compile(\n",
        "    loss='binary_crossentropy',\n",
        "    optimizer=adam_optimizer,\n",
        "    metrics=['accuracy']\n",
        ")"
      ],
      "metadata": {
        "colab": {
          "base_uri": "https://localhost:8080/"
        },
        "id": "f0VvYGtRhIQM",
        "outputId": "367f6a31-6133-46e8-e781-f1ddec1ff30f"
      },
      "id": "f0VvYGtRhIQM",
      "execution_count": 16,
      "outputs": [
        {
          "output_type": "stream",
          "name": "stdout",
          "text": [
            "\n",
            "Model derleniyor...\n"
          ]
        },
        {
          "output_type": "stream",
          "name": "stderr",
          "text": [
            "/usr/local/lib/python3.10/dist-packages/keras/src/optimizers/base_optimizer.py:33: UserWarning: Argument `decay` is no longer supported and will be ignored.\n",
            "  warnings.warn(\n"
          ]
        }
      ]
    },
    {
      "cell_type": "code",
      "source": [
        "# Eğitim tarihçesi için listeler\n",
        "train_loss = []\n",
        "val_loss = []\n",
        "train_acc = []\n",
        "val_acc = []"
      ],
      "metadata": {
        "id": "7v2b-CG_hKLL"
      },
      "id": "7v2b-CG_hKLL",
      "execution_count": 17,
      "outputs": []
    },
    {
      "cell_type": "code",
      "source": [
        "# Model eğitimi\n",
        "print(\"\\nModel eğitimi başlıyor...\")\n",
        "for epoch in range(NUM_EPOCHS):\n",
        "    print(f\"\\nEpoch {epoch+1}/{NUM_EPOCHS}\")\n",
        "    train_gen = dataset_gen(\n",
        "        dataset,\n",
        "        is_train=True,\n",
        "        batch_shape=(batch_size, num_data_points),\n",
        "        sample_augmentation=n_augment\n",
        "    )\n",
        "\n",
        "    for batch_x, batch_y in train_gen:\n",
        "        history = model.fit(\n",
        "            batch_x,\n",
        "            batch_y,\n",
        "            epochs=1,\n",
        "            validation_split=0.2,\n",
        "            verbose=1\n",
        "        )\n",
        "        train_loss.extend(history.history['loss'])\n",
        "        val_loss.extend(history.history['val_loss'])\n",
        "        train_acc.extend(history.history['accuracy'])\n",
        "        val_acc.extend(history.history['val_accuracy'])"
      ],
      "metadata": {
        "colab": {
          "base_uri": "https://localhost:8080/"
        },
        "id": "LQolF0T9hMvJ",
        "outputId": "614d1046-86b0-41fe-b79d-cfbd238bcf3a"
      },
      "id": "LQolF0T9hMvJ",
      "execution_count": 18,
      "outputs": [
        {
          "output_type": "stream",
          "name": "stdout",
          "text": [
            "\n",
            "Model eğitimi başlıyor...\n",
            "\n",
            "Epoch 1/50\n",
            "\u001b[1m13/13\u001b[0m \u001b[32m━━━━━━━━━━━━━━━━━━━━\u001b[0m\u001b[37m\u001b[0m \u001b[1m13s\u001b[0m 425ms/step - accuracy: 0.6786 - loss: 0.6441 - val_accuracy: 0.5631 - val_loss: 0.6793\n",
            "\u001b[1m13/13\u001b[0m \u001b[32m━━━━━━━━━━━━━━━━━━━━\u001b[0m\u001b[37m\u001b[0m \u001b[1m6s\u001b[0m 444ms/step - accuracy: 0.9014 - loss: 0.2364 - val_accuracy: 0.4660 - val_loss: 0.6706\n",
            "\u001b[1m13/13\u001b[0m \u001b[32m━━━━━━━━━━━━━━━━━━━━\u001b[0m\u001b[37m\u001b[0m \u001b[1m5s\u001b[0m 357ms/step - accuracy: 0.9400 - loss: 0.2277 - val_accuracy: 0.5146 - val_loss: 0.6634\n",
            "\u001b[1m13/13\u001b[0m \u001b[32m━━━━━━━━━━━━━━━━━━━━\u001b[0m\u001b[37m\u001b[0m \u001b[1m6s\u001b[0m 512ms/step - accuracy: 0.9255 - loss: 0.2231 - val_accuracy: 0.4660 - val_loss: 0.6751\n",
            "\n",
            "Epoch 2/50\n",
            "\u001b[1m13/13\u001b[0m \u001b[32m━━━━━━━━━━━━━━━━━━━━\u001b[0m\u001b[37m\u001b[0m \u001b[1m5s\u001b[0m 371ms/step - accuracy: 0.9451 - loss: 0.1481 - val_accuracy: 0.4757 - val_loss: 0.6692\n",
            "\u001b[1m13/13\u001b[0m \u001b[32m━━━━━━━━━━━━━━━━━━━━\u001b[0m\u001b[37m\u001b[0m \u001b[1m5s\u001b[0m 369ms/step - accuracy: 0.9628 - loss: 0.1017 - val_accuracy: 0.5049 - val_loss: 0.6178\n",
            "\u001b[1m13/13\u001b[0m \u001b[32m━━━━━━━━━━━━━━━━━━━━\u001b[0m\u001b[37m\u001b[0m \u001b[1m7s\u001b[0m 523ms/step - accuracy: 0.9704 - loss: 0.0735 - val_accuracy: 0.5146 - val_loss: 0.5994\n",
            "\u001b[1m13/13\u001b[0m \u001b[32m━━━━━━━━━━━━━━━━━━━━\u001b[0m\u001b[37m\u001b[0m \u001b[1m7s\u001b[0m 564ms/step - accuracy: 0.9662 - loss: 0.1034 - val_accuracy: 0.4563 - val_loss: 0.7805\n",
            "\n",
            "Epoch 3/50\n",
            "\u001b[1m13/13\u001b[0m \u001b[32m━━━━━━━━━━━━━━━━━━━━\u001b[0m\u001b[37m\u001b[0m \u001b[1m5s\u001b[0m 378ms/step - accuracy: 0.9571 - loss: 0.1141 - val_accuracy: 0.5243 - val_loss: 0.6647\n",
            "\u001b[1m13/13\u001b[0m \u001b[32m━━━━━━━━━━━━━━━━━━━━\u001b[0m\u001b[37m\u001b[0m \u001b[1m5s\u001b[0m 398ms/step - accuracy: 0.9858 - loss: 0.0502 - val_accuracy: 0.6990 - val_loss: 0.4691\n",
            "\u001b[1m13/13\u001b[0m \u001b[32m━━━━━━━━━━━━━━━━━━━━\u001b[0m\u001b[37m\u001b[0m \u001b[1m5s\u001b[0m 369ms/step - accuracy: 0.9607 - loss: 0.0913 - val_accuracy: 0.5437 - val_loss: 0.6089\n",
            "\u001b[1m13/13\u001b[0m \u001b[32m━━━━━━━━━━━━━━━━━━━━\u001b[0m\u001b[37m\u001b[0m \u001b[1m7s\u001b[0m 532ms/step - accuracy: 0.9690 - loss: 0.0673 - val_accuracy: 0.5243 - val_loss: 0.7660\n",
            "\n",
            "Epoch 4/50\n",
            "\u001b[1m13/13\u001b[0m \u001b[32m━━━━━━━━━━━━━━━━━━━━\u001b[0m\u001b[37m\u001b[0m \u001b[1m5s\u001b[0m 371ms/step - accuracy: 0.9810 - loss: 0.0539 - val_accuracy: 0.7184 - val_loss: 0.4594\n",
            "\u001b[1m13/13\u001b[0m \u001b[32m━━━━━━━━━━━━━━━━━━━━\u001b[0m\u001b[37m\u001b[0m \u001b[1m7s\u001b[0m 550ms/step - accuracy: 0.9524 - loss: 0.1368 - val_accuracy: 0.7476 - val_loss: 0.4355\n",
            "\u001b[1m13/13\u001b[0m \u001b[32m━━━━━━━━━━━━━━━━━━━━\u001b[0m\u001b[37m\u001b[0m \u001b[1m5s\u001b[0m 371ms/step - accuracy: 0.9832 - loss: 0.0560 - val_accuracy: 0.7087 - val_loss: 0.5358\n",
            "\u001b[1m13/13\u001b[0m \u001b[32m━━━━━━━━━━━━━━━━━━━━\u001b[0m\u001b[37m\u001b[0m \u001b[1m7s\u001b[0m 537ms/step - accuracy: 0.9571 - loss: 0.1474 - val_accuracy: 0.6408 - val_loss: 0.6314\n",
            "\n",
            "Epoch 5/50\n",
            "\u001b[1m13/13\u001b[0m \u001b[32m━━━━━━━━━━━━━━━━━━━━\u001b[0m\u001b[37m\u001b[0m \u001b[1m5s\u001b[0m 369ms/step - accuracy: 0.9395 - loss: 0.1573 - val_accuracy: 0.6699 - val_loss: 0.5267\n",
            "\u001b[1m13/13\u001b[0m \u001b[32m━━━━━━━━━━━━━━━━━━━━\u001b[0m\u001b[37m\u001b[0m \u001b[1m7s\u001b[0m 529ms/step - accuracy: 0.9413 - loss: 0.1364 - val_accuracy: 0.7767 - val_loss: 0.4377\n",
            "\u001b[1m13/13\u001b[0m \u001b[32m━━━━━━━━━━━━━━━━━━━━\u001b[0m\u001b[37m\u001b[0m \u001b[1m5s\u001b[0m 356ms/step - accuracy: 0.9582 - loss: 0.1006 - val_accuracy: 0.8932 - val_loss: 0.2650\n",
            "\u001b[1m13/13\u001b[0m \u001b[32m━━━━━━━━━━━━━━━━━━━━\u001b[0m\u001b[37m\u001b[0m \u001b[1m7s\u001b[0m 542ms/step - accuracy: 0.9768 - loss: 0.0721 - val_accuracy: 0.6214 - val_loss: 0.8222\n",
            "\n",
            "Epoch 6/50\n",
            "\u001b[1m13/13\u001b[0m \u001b[32m━━━━━━━━━━━━━━━━━━━━\u001b[0m\u001b[37m\u001b[0m \u001b[1m5s\u001b[0m 362ms/step - accuracy: 0.9628 - loss: 0.0980 - val_accuracy: 0.8738 - val_loss: 0.2924\n",
            "\u001b[1m13/13\u001b[0m \u001b[32m━━━━━━━━━━━━━━━━━━━━\u001b[0m\u001b[37m\u001b[0m \u001b[1m7s\u001b[0m 506ms/step - accuracy: 0.9956 - loss: 0.0308 - val_accuracy: 0.9515 - val_loss: 0.1064\n",
            "\u001b[1m13/13\u001b[0m \u001b[32m━━━━━━━━━━━━━━━━━━━━\u001b[0m\u001b[37m\u001b[0m \u001b[1m5s\u001b[0m 355ms/step - accuracy: 0.9807 - loss: 0.0422 - val_accuracy: 0.8641 - val_loss: 0.2864\n",
            "\u001b[1m13/13\u001b[0m \u001b[32m━━━━━━━━━━━━━━━━━━━━\u001b[0m\u001b[37m\u001b[0m \u001b[1m6s\u001b[0m 437ms/step - accuracy: 0.9679 - loss: 0.0937 - val_accuracy: 0.9417 - val_loss: 0.1461\n",
            "\n",
            "Epoch 7/50\n",
            "\u001b[1m13/13\u001b[0m \u001b[32m━━━━━━━━━━━━━━━━━━━━\u001b[0m\u001b[37m\u001b[0m \u001b[1m5s\u001b[0m 364ms/step - accuracy: 0.9744 - loss: 0.1015 - val_accuracy: 0.8835 - val_loss: 0.2304\n",
            "\u001b[1m13/13\u001b[0m \u001b[32m━━━━━━━━━━━━━━━━━━━━\u001b[0m\u001b[37m\u001b[0m \u001b[1m7s\u001b[0m 532ms/step - accuracy: 0.9611 - loss: 0.0857 - val_accuracy: 0.9903 - val_loss: 0.0428\n",
            "\u001b[1m13/13\u001b[0m \u001b[32m━━━━━━━━━━━━━━━━━━━━\u001b[0m\u001b[37m\u001b[0m \u001b[1m5s\u001b[0m 355ms/step - accuracy: 0.9652 - loss: 0.1003 - val_accuracy: 0.9515 - val_loss: 0.1497\n",
            "\u001b[1m13/13\u001b[0m \u001b[32m━━━━━━━━━━━━━━━━━━━━\u001b[0m\u001b[37m\u001b[0m \u001b[1m7s\u001b[0m 523ms/step - accuracy: 0.9693 - loss: 0.0842 - val_accuracy: 0.9515 - val_loss: 0.1631\n",
            "\n",
            "Epoch 8/50\n",
            "\u001b[1m13/13\u001b[0m \u001b[32m━━━━━━━━━━━━━━━━━━━━\u001b[0m\u001b[37m\u001b[0m \u001b[1m5s\u001b[0m 359ms/step - accuracy: 0.9648 - loss: 0.0836 - val_accuracy: 0.9709 - val_loss: 0.0417\n",
            "\u001b[1m13/13\u001b[0m \u001b[32m━━━━━━━━━━━━━━━━━━━━\u001b[0m\u001b[37m\u001b[0m \u001b[1m5s\u001b[0m 392ms/step - accuracy: 0.9748 - loss: 0.0860 - val_accuracy: 0.9223 - val_loss: 0.1305\n",
            "\u001b[1m13/13\u001b[0m \u001b[32m━━━━━━━━━━━━━━━━━━━━\u001b[0m\u001b[37m\u001b[0m \u001b[1m6s\u001b[0m 470ms/step - accuracy: 0.9522 - loss: 0.1557 - val_accuracy: 0.9709 - val_loss: 0.0659\n",
            "\u001b[1m13/13\u001b[0m \u001b[32m━━━━━━━━━━━━━━━━━━━━\u001b[0m\u001b[37m\u001b[0m \u001b[1m5s\u001b[0m 413ms/step - accuracy: 0.9780 - loss: 0.0647 - val_accuracy: 1.0000 - val_loss: 0.0205\n",
            "\n",
            "Epoch 9/50\n",
            "\u001b[1m13/13\u001b[0m \u001b[32m━━━━━━━━━━━━━━━━━━━━\u001b[0m\u001b[37m\u001b[0m \u001b[1m6s\u001b[0m 447ms/step - accuracy: 0.9858 - loss: 0.0424 - val_accuracy: 0.9709 - val_loss: 0.0499\n",
            "\u001b[1m13/13\u001b[0m \u001b[32m━━━━━━━━━━━━━━━━━━━━\u001b[0m\u001b[37m\u001b[0m \u001b[1m6s\u001b[0m 476ms/step - accuracy: 0.9747 - loss: 0.0516 - val_accuracy: 0.9709 - val_loss: 0.0879\n",
            "\u001b[1m13/13\u001b[0m \u001b[32m━━━━━━━━━━━━━━━━━━━━\u001b[0m\u001b[37m\u001b[0m \u001b[1m5s\u001b[0m 397ms/step - accuracy: 0.9778 - loss: 0.0573 - val_accuracy: 0.9612 - val_loss: 0.1128\n",
            "\u001b[1m13/13\u001b[0m \u001b[32m━━━━━━━━━━━━━━━━━━━━\u001b[0m\u001b[37m\u001b[0m \u001b[1m7s\u001b[0m 539ms/step - accuracy: 0.9635 - loss: 0.0841 - val_accuracy: 1.0000 - val_loss: 0.0127\n",
            "\n",
            "Epoch 10/50\n",
            "\u001b[1m13/13\u001b[0m \u001b[32m━━━━━━━━━━━━━━━━━━━━\u001b[0m\u001b[37m\u001b[0m \u001b[1m5s\u001b[0m 359ms/step - accuracy: 0.9837 - loss: 0.0442 - val_accuracy: 0.9903 - val_loss: 0.0391\n",
            "\u001b[1m13/13\u001b[0m \u001b[32m━━━━━━━━━━━━━━━━━━━━\u001b[0m\u001b[37m\u001b[0m \u001b[1m7s\u001b[0m 568ms/step - accuracy: 0.9752 - loss: 0.0842 - val_accuracy: 0.9806 - val_loss: 0.0817\n",
            "\u001b[1m13/13\u001b[0m \u001b[32m━━━━━━━━━━━━━━━━━━━━\u001b[0m\u001b[37m\u001b[0m \u001b[1m6s\u001b[0m 451ms/step - accuracy: 0.9711 - loss: 0.0822 - val_accuracy: 0.9612 - val_loss: 0.1092\n",
            "\u001b[1m13/13\u001b[0m \u001b[32m━━━━━━━━━━━━━━━━━━━━\u001b[0m\u001b[37m\u001b[0m \u001b[1m7s\u001b[0m 536ms/step - accuracy: 0.9469 - loss: 0.1267 - val_accuracy: 0.9903 - val_loss: 0.0299\n",
            "\n",
            "Epoch 11/50\n",
            "\u001b[1m13/13\u001b[0m \u001b[32m━━━━━━━━━━━━━━━━━━━━\u001b[0m\u001b[37m\u001b[0m \u001b[1m5s\u001b[0m 361ms/step - accuracy: 0.9352 - loss: 0.1244 - val_accuracy: 0.9903 - val_loss: 0.0314\n",
            "\u001b[1m13/13\u001b[0m \u001b[32m━━━━━━━━━━━━━━━━━━━━\u001b[0m\u001b[37m\u001b[0m \u001b[1m7s\u001b[0m 534ms/step - accuracy: 0.9529 - loss: 0.1360 - val_accuracy: 1.0000 - val_loss: 0.0071\n",
            "\u001b[1m13/13\u001b[0m \u001b[32m━━━━━━━━━━━━━━━━━━━━\u001b[0m\u001b[37m\u001b[0m \u001b[1m5s\u001b[0m 363ms/step - accuracy: 0.9765 - loss: 0.0821 - val_accuracy: 0.9709 - val_loss: 0.0538\n",
            "\u001b[1m13/13\u001b[0m \u001b[32m━━━━━━━━━━━━━━━━━━━━\u001b[0m\u001b[37m\u001b[0m \u001b[1m7s\u001b[0m 534ms/step - accuracy: 0.9592 - loss: 0.1006 - val_accuracy: 0.9806 - val_loss: 0.0281\n",
            "\n",
            "Epoch 12/50\n",
            "\u001b[1m13/13\u001b[0m \u001b[32m━━━━━━━━━━━━━━━━━━━━\u001b[0m\u001b[37m\u001b[0m \u001b[1m5s\u001b[0m 365ms/step - accuracy: 0.9862 - loss: 0.0430 - val_accuracy: 0.9806 - val_loss: 0.0304\n",
            "\u001b[1m13/13\u001b[0m \u001b[32m━━━━━━━━━━━━━━━━━━━━\u001b[0m\u001b[37m\u001b[0m \u001b[1m7s\u001b[0m 529ms/step - accuracy: 0.9829 - loss: 0.0377 - val_accuracy: 1.0000 - val_loss: 0.0047\n",
            "\u001b[1m13/13\u001b[0m \u001b[32m━━━━━━━━━━━━━━━━━━━━\u001b[0m\u001b[37m\u001b[0m \u001b[1m6s\u001b[0m 442ms/step - accuracy: 0.9827 - loss: 0.0661 - val_accuracy: 0.9806 - val_loss: 0.0409\n",
            "\u001b[1m13/13\u001b[0m \u001b[32m━━━━━━━━━━━━━━━━━━━━\u001b[0m\u001b[37m\u001b[0m \u001b[1m5s\u001b[0m 360ms/step - accuracy: 0.9598 - loss: 0.1154 - val_accuracy: 0.9709 - val_loss: 0.0476\n",
            "\n",
            "Epoch 13/50\n",
            "\u001b[1m13/13\u001b[0m \u001b[32m━━━━━━━━━━━━━━━━━━━━\u001b[0m\u001b[37m\u001b[0m \u001b[1m6s\u001b[0m 450ms/step - accuracy: 0.9675 - loss: 0.0676 - val_accuracy: 0.9806 - val_loss: 0.0562\n",
            "\u001b[1m13/13\u001b[0m \u001b[32m━━━━━━━━━━━━━━━━━━━━\u001b[0m\u001b[37m\u001b[0m \u001b[1m5s\u001b[0m 353ms/step - accuracy: 0.9457 - loss: 0.2082 - val_accuracy: 0.9612 - val_loss: 0.0591\n",
            "\u001b[1m13/13\u001b[0m \u001b[32m━━━━━━━━━━━━━━━━━━━━\u001b[0m\u001b[37m\u001b[0m \u001b[1m7s\u001b[0m 529ms/step - accuracy: 0.9769 - loss: 0.0757 - val_accuracy: 1.0000 - val_loss: 0.0115\n",
            "\u001b[1m13/13\u001b[0m \u001b[32m━━━━━━━━━━━━━━━━━━━━\u001b[0m\u001b[37m\u001b[0m \u001b[1m5s\u001b[0m 418ms/step - accuracy: 0.9816 - loss: 0.0580 - val_accuracy: 0.9903 - val_loss: 0.0227\n",
            "\n",
            "Epoch 14/50\n",
            "\u001b[1m13/13\u001b[0m \u001b[32m━━━━━━━━━━━━━━━━━━━━\u001b[0m\u001b[37m\u001b[0m \u001b[1m5s\u001b[0m 356ms/step - accuracy: 0.9637 - loss: 0.0844 - val_accuracy: 0.9903 - val_loss: 0.0281\n",
            "\u001b[1m13/13\u001b[0m \u001b[32m━━━━━━━━━━━━━━━━━━━━\u001b[0m\u001b[37m\u001b[0m \u001b[1m6s\u001b[0m 442ms/step - accuracy: 0.9620 - loss: 0.1705 - val_accuracy: 0.9903 - val_loss: 0.0159\n",
            "\u001b[1m13/13\u001b[0m \u001b[32m━━━━━━━━━━━━━━━━━━━━\u001b[0m\u001b[37m\u001b[0m \u001b[1m6s\u001b[0m 423ms/step - accuracy: 0.9813 - loss: 0.0541 - val_accuracy: 1.0000 - val_loss: 0.0227\n",
            "\u001b[1m13/13\u001b[0m \u001b[32m━━━━━━━━━━━━━━━━━━━━\u001b[0m\u001b[37m\u001b[0m \u001b[1m5s\u001b[0m 362ms/step - accuracy: 0.9920 - loss: 0.0393 - val_accuracy: 1.0000 - val_loss: 0.0152\n",
            "\n",
            "Epoch 15/50\n",
            "\u001b[1m13/13\u001b[0m \u001b[32m━━━━━━━━━━━━━━━━━━━━\u001b[0m\u001b[37m\u001b[0m \u001b[1m7s\u001b[0m 516ms/step - accuracy: 0.9898 - loss: 0.0446 - val_accuracy: 1.0000 - val_loss: 0.0087\n",
            "\u001b[1m13/13\u001b[0m \u001b[32m━━━━━━━━━━━━━━━━━━━━\u001b[0m\u001b[37m\u001b[0m \u001b[1m5s\u001b[0m 358ms/step - accuracy: 0.9727 - loss: 0.0572 - val_accuracy: 0.9806 - val_loss: 0.0619\n",
            "\u001b[1m13/13\u001b[0m \u001b[32m━━━━━━━━━━━━━━━━━━━━\u001b[0m\u001b[37m\u001b[0m \u001b[1m5s\u001b[0m 389ms/step - accuracy: 0.9732 - loss: 0.0855 - val_accuracy: 0.9903 - val_loss: 0.0511\n",
            "\u001b[1m13/13\u001b[0m \u001b[32m━━━━━━━━━━━━━━━━━━━━\u001b[0m\u001b[37m\u001b[0m \u001b[1m6s\u001b[0m 475ms/step - accuracy: 0.9679 - loss: 0.1184 - val_accuracy: 0.9806 - val_loss: 0.0698\n",
            "\n",
            "Epoch 16/50\n",
            "\u001b[1m13/13\u001b[0m \u001b[32m━━━━━━━━━━━━━━━━━━━━\u001b[0m\u001b[37m\u001b[0m \u001b[1m6s\u001b[0m 432ms/step - accuracy: 0.9674 - loss: 0.0802 - val_accuracy: 1.0000 - val_loss: 0.0096\n",
            "\u001b[1m13/13\u001b[0m \u001b[32m━━━━━━━━━━━━━━━━━━━━\u001b[0m\u001b[37m\u001b[0m \u001b[1m5s\u001b[0m 366ms/step - accuracy: 0.9777 - loss: 0.0454 - val_accuracy: 0.9903 - val_loss: 0.0143\n",
            "\u001b[1m13/13\u001b[0m \u001b[32m━━━━━━━━━━━━━━━━━━━━\u001b[0m\u001b[37m\u001b[0m \u001b[1m7s\u001b[0m 523ms/step - accuracy: 0.9411 - loss: 0.1207 - val_accuracy: 0.9806 - val_loss: 0.0311\n",
            "\u001b[1m13/13\u001b[0m \u001b[32m━━━━━━━━━━━━━━━━━━━━\u001b[0m\u001b[37m\u001b[0m \u001b[1m5s\u001b[0m 362ms/step - accuracy: 0.9492 - loss: 0.1119 - val_accuracy: 0.9223 - val_loss: 0.1578\n",
            "\n",
            "Epoch 17/50\n",
            "\u001b[1m13/13\u001b[0m \u001b[32m━━━━━━━━━━━━━━━━━━━━\u001b[0m\u001b[37m\u001b[0m \u001b[1m7s\u001b[0m 536ms/step - accuracy: 0.9756 - loss: 0.0465 - val_accuracy: 1.0000 - val_loss: 0.0080\n",
            "\u001b[1m13/13\u001b[0m \u001b[32m━━━━━━━━━━━━━━━━━━━━\u001b[0m\u001b[37m\u001b[0m \u001b[1m5s\u001b[0m 357ms/step - accuracy: 0.9846 - loss: 0.0441 - val_accuracy: 0.9903 - val_loss: 0.0347\n",
            "\u001b[1m13/13\u001b[0m \u001b[32m━━━━━━━━━━━━━━━━━━━━\u001b[0m\u001b[37m\u001b[0m \u001b[1m7s\u001b[0m 536ms/step - accuracy: 0.9755 - loss: 0.0609 - val_accuracy: 1.0000 - val_loss: 0.0141\n",
            "\u001b[1m13/13\u001b[0m \u001b[32m━━━━━━━━━━━━━━━━━━━━\u001b[0m\u001b[37m\u001b[0m \u001b[1m7s\u001b[0m 549ms/step - accuracy: 0.9845 - loss: 0.0484 - val_accuracy: 0.9903 - val_loss: 0.0488\n",
            "\n",
            "Epoch 18/50\n",
            "\u001b[1m13/13\u001b[0m \u001b[32m━━━━━━━━━━━━━━━━━━━━\u001b[0m\u001b[37m\u001b[0m \u001b[1m5s\u001b[0m 357ms/step - accuracy: 0.9774 - loss: 0.0532 - val_accuracy: 1.0000 - val_loss: 0.0041\n",
            "\u001b[1m13/13\u001b[0m \u001b[32m━━━━━━━━━━━━━━━━━━━━\u001b[0m\u001b[37m\u001b[0m \u001b[1m5s\u001b[0m 409ms/step - accuracy: 0.9936 - loss: 0.0284 - val_accuracy: 0.9903 - val_loss: 0.0386\n",
            "\u001b[1m13/13\u001b[0m \u001b[32m━━━━━━━━━━━━━━━━━━━━\u001b[0m\u001b[37m\u001b[0m \u001b[1m5s\u001b[0m 358ms/step - accuracy: 0.9978 - loss: 0.0105 - val_accuracy: 0.9806 - val_loss: 0.0439\n",
            "\u001b[1m13/13\u001b[0m \u001b[32m━━━━━━━━━━━━━━━━━━━━\u001b[0m\u001b[37m\u001b[0m \u001b[1m7s\u001b[0m 560ms/step - accuracy: 0.9959 - loss: 0.0239 - val_accuracy: 0.9903 - val_loss: 0.0287\n",
            "\n",
            "Epoch 19/50\n",
            "\u001b[1m13/13\u001b[0m \u001b[32m━━━━━━━━━━━━━━━━━━━━\u001b[0m\u001b[37m\u001b[0m \u001b[1m5s\u001b[0m 379ms/step - accuracy: 0.9844 - loss: 0.0464 - val_accuracy: 1.0000 - val_loss: 0.0306\n",
            "\u001b[1m13/13\u001b[0m \u001b[32m━━━━━━━━━━━━━━━━━━━━\u001b[0m\u001b[37m\u001b[0m \u001b[1m7s\u001b[0m 553ms/step - accuracy: 0.9941 - loss: 0.0370 - val_accuracy: 0.9903 - val_loss: 0.0447\n",
            "\u001b[1m13/13\u001b[0m \u001b[32m━━━━━━━━━━━━━━━━━━━━\u001b[0m\u001b[37m\u001b[0m \u001b[1m5s\u001b[0m 369ms/step - accuracy: 0.9916 - loss: 0.0291 - val_accuracy: 0.9806 - val_loss: 0.0496\n",
            "\u001b[1m13/13\u001b[0m \u001b[32m━━━━━━━━━━━━━━━━━━━━\u001b[0m\u001b[37m\u001b[0m \u001b[1m7s\u001b[0m 544ms/step - accuracy: 0.9925 - loss: 0.0225 - val_accuracy: 0.9709 - val_loss: 0.0919\n",
            "\n",
            "Epoch 20/50\n",
            "\u001b[1m13/13\u001b[0m \u001b[32m━━━━━━━━━━━━━━━━━━━━\u001b[0m\u001b[37m\u001b[0m \u001b[1m5s\u001b[0m 359ms/step - accuracy: 0.9899 - loss: 0.0273 - val_accuracy: 0.9612 - val_loss: 0.1179\n",
            "\u001b[1m13/13\u001b[0m \u001b[32m━━━━━━━━━━━━━━━━━━━━\u001b[0m\u001b[37m\u001b[0m \u001b[1m5s\u001b[0m 360ms/step - accuracy: 0.9801 - loss: 0.0420 - val_accuracy: 0.9903 - val_loss: 0.0148\n",
            "\u001b[1m13/13\u001b[0m \u001b[32m━━━━━━━━━━━━━━━━━━━━\u001b[0m\u001b[37m\u001b[0m \u001b[1m7s\u001b[0m 493ms/step - accuracy: 0.9922 - loss: 0.0326 - val_accuracy: 0.9903 - val_loss: 0.0383\n",
            "\u001b[1m13/13\u001b[0m \u001b[32m━━━━━━━━━━━━━━━━━━━━\u001b[0m\u001b[37m\u001b[0m \u001b[1m5s\u001b[0m 398ms/step - accuracy: 0.9912 - loss: 0.0248 - val_accuracy: 1.0000 - val_loss: 0.0058\n",
            "\n",
            "Epoch 21/50\n",
            "\u001b[1m13/13\u001b[0m \u001b[32m━━━━━━━━━━━━━━━━━━━━\u001b[0m\u001b[37m\u001b[0m \u001b[1m5s\u001b[0m 359ms/step - accuracy: 0.9747 - loss: 0.0739 - val_accuracy: 1.0000 - val_loss: 0.0094\n",
            "\u001b[1m13/13\u001b[0m \u001b[32m━━━━━━━━━━━━━━━━━━━━\u001b[0m\u001b[37m\u001b[0m \u001b[1m7s\u001b[0m 519ms/step - accuracy: 0.9904 - loss: 0.0490 - val_accuracy: 0.9903 - val_loss: 0.0148\n",
            "\u001b[1m13/13\u001b[0m \u001b[32m━━━━━━━━━━━━━━━━━━━━\u001b[0m\u001b[37m\u001b[0m \u001b[1m5s\u001b[0m 369ms/step - accuracy: 0.9820 - loss: 0.0583 - val_accuracy: 0.9515 - val_loss: 0.1978\n",
            "\u001b[1m13/13\u001b[0m \u001b[32m━━━━━━━━━━━━━━━━━━━━\u001b[0m\u001b[37m\u001b[0m \u001b[1m7s\u001b[0m 538ms/step - accuracy: 0.9741 - loss: 0.0684 - val_accuracy: 0.9903 - val_loss: 0.0297\n",
            "\n",
            "Epoch 22/50\n",
            "\u001b[1m13/13\u001b[0m \u001b[32m━━━━━━━━━━━━━━━━━━━━\u001b[0m\u001b[37m\u001b[0m \u001b[1m5s\u001b[0m 360ms/step - accuracy: 0.9673 - loss: 0.0558 - val_accuracy: 0.9903 - val_loss: 0.0122\n",
            "\u001b[1m13/13\u001b[0m \u001b[32m━━━━━━━━━━━━━━━━━━━━\u001b[0m\u001b[37m\u001b[0m \u001b[1m7s\u001b[0m 537ms/step - accuracy: 0.9875 - loss: 0.0332 - val_accuracy: 1.0000 - val_loss: 0.0055\n",
            "\u001b[1m13/13\u001b[0m \u001b[32m━━━━━━━━━━━━━━━━━━━━\u001b[0m\u001b[37m\u001b[0m \u001b[1m5s\u001b[0m 361ms/step - accuracy: 0.9785 - loss: 0.0707 - val_accuracy: 0.9806 - val_loss: 0.0194\n",
            "\u001b[1m13/13\u001b[0m \u001b[32m━━━━━━━━━━━━━━━━━━━━\u001b[0m\u001b[37m\u001b[0m \u001b[1m7s\u001b[0m 522ms/step - accuracy: 0.9691 - loss: 0.0867 - val_accuracy: 1.0000 - val_loss: 0.0092\n",
            "\n",
            "Epoch 23/50\n",
            "\u001b[1m13/13\u001b[0m \u001b[32m━━━━━━━━━━━━━━━━━━━━\u001b[0m\u001b[37m\u001b[0m \u001b[1m5s\u001b[0m 371ms/step - accuracy: 0.9907 - loss: 0.0346 - val_accuracy: 0.9417 - val_loss: 0.1271\n",
            "\u001b[1m13/13\u001b[0m \u001b[32m━━━━━━━━━━━━━━━━━━━━\u001b[0m\u001b[37m\u001b[0m \u001b[1m5s\u001b[0m 410ms/step - accuracy: 0.9769 - loss: 0.0583 - val_accuracy: 0.9223 - val_loss: 0.1456\n",
            "\u001b[1m13/13\u001b[0m \u001b[32m━━━━━━━━━━━━━━━━━━━━\u001b[0m\u001b[37m\u001b[0m \u001b[1m5s\u001b[0m 372ms/step - accuracy: 0.9808 - loss: 0.0471 - val_accuracy: 0.9709 - val_loss: 0.0416\n",
            "\u001b[1m13/13\u001b[0m \u001b[32m━━━━━━━━━━━━━━━━━━━━\u001b[0m\u001b[37m\u001b[0m \u001b[1m7s\u001b[0m 555ms/step - accuracy: 0.9525 - loss: 0.1053 - val_accuracy: 0.9612 - val_loss: 0.1937\n",
            "\n",
            "Epoch 24/50\n",
            "\u001b[1m13/13\u001b[0m \u001b[32m━━━━━━━━━━━━━━━━━━━━\u001b[0m\u001b[37m\u001b[0m \u001b[1m5s\u001b[0m 369ms/step - accuracy: 0.9774 - loss: 0.0613 - val_accuracy: 0.9903 - val_loss: 0.0357\n",
            "\u001b[1m13/13\u001b[0m \u001b[32m━━━━━━━━━━━━━━━━━━━━\u001b[0m\u001b[37m\u001b[0m \u001b[1m5s\u001b[0m 399ms/step - accuracy: 0.9552 - loss: 0.1046 - val_accuracy: 0.9806 - val_loss: 0.0202\n",
            "\u001b[1m13/13\u001b[0m \u001b[32m━━━━━━━━━━━━━━━━━━━━\u001b[0m\u001b[37m\u001b[0m \u001b[1m5s\u001b[0m 370ms/step - accuracy: 0.9632 - loss: 0.1331 - val_accuracy: 0.9806 - val_loss: 0.0360\n",
            "\u001b[1m13/13\u001b[0m \u001b[32m━━━━━━━━━━━━━━━━━━━━\u001b[0m\u001b[37m\u001b[0m \u001b[1m7s\u001b[0m 523ms/step - accuracy: 0.9763 - loss: 0.0591 - val_accuracy: 0.9903 - val_loss: 0.0211\n",
            "\n",
            "Epoch 25/50\n",
            "\u001b[1m13/13\u001b[0m \u001b[32m━━━━━━━━━━━━━━━━━━━━\u001b[0m\u001b[37m\u001b[0m \u001b[1m5s\u001b[0m 362ms/step - accuracy: 0.9845 - loss: 0.0359 - val_accuracy: 0.9806 - val_loss: 0.0590\n",
            "\u001b[1m13/13\u001b[0m \u001b[32m━━━━━━━━━━━━━━━━━━━━\u001b[0m\u001b[37m\u001b[0m \u001b[1m5s\u001b[0m 358ms/step - accuracy: 0.9944 - loss: 0.0190 - val_accuracy: 0.9903 - val_loss: 0.0157\n",
            "\u001b[1m13/13\u001b[0m \u001b[32m━━━━━━━━━━━━━━━━━━━━\u001b[0m\u001b[37m\u001b[0m \u001b[1m7s\u001b[0m 507ms/step - accuracy: 0.9886 - loss: 0.0365 - val_accuracy: 0.9903 - val_loss: 0.0390\n",
            "\u001b[1m13/13\u001b[0m \u001b[32m━━━━━━━━━━━━━━━━━━━━\u001b[0m\u001b[37m\u001b[0m \u001b[1m6s\u001b[0m 458ms/step - accuracy: 0.9646 - loss: 0.1110 - val_accuracy: 0.9903 - val_loss: 0.0219\n",
            "\n",
            "Epoch 26/50\n",
            "\u001b[1m13/13\u001b[0m \u001b[32m━━━━━━━━━━━━━━━━━━━━\u001b[0m\u001b[37m\u001b[0m \u001b[1m5s\u001b[0m 365ms/step - accuracy: 0.9686 - loss: 0.0665 - val_accuracy: 0.9806 - val_loss: 0.0342\n",
            "\u001b[1m13/13\u001b[0m \u001b[32m━━━━━━━━━━━━━━━━━━━━\u001b[0m\u001b[37m\u001b[0m \u001b[1m6s\u001b[0m 495ms/step - accuracy: 0.9926 - loss: 0.0256 - val_accuracy: 1.0000 - val_loss: 0.0268\n",
            "\u001b[1m13/13\u001b[0m \u001b[32m━━━━━━━━━━━━━━━━━━━━\u001b[0m\u001b[37m\u001b[0m \u001b[1m5s\u001b[0m 381ms/step - accuracy: 0.9990 - loss: 0.0204 - val_accuracy: 0.9903 - val_loss: 0.0234\n",
            "\u001b[1m13/13\u001b[0m \u001b[32m━━━━━━━━━━━━━━━━━━━━\u001b[0m\u001b[37m\u001b[0m \u001b[1m7s\u001b[0m 546ms/step - accuracy: 0.9695 - loss: 0.0810 - val_accuracy: 0.9903 - val_loss: 0.0209\n",
            "\n",
            "Epoch 27/50\n",
            "\u001b[1m13/13\u001b[0m \u001b[32m━━━━━━━━━━━━━━━━━━━━\u001b[0m\u001b[37m\u001b[0m \u001b[1m5s\u001b[0m 360ms/step - accuracy: 0.9751 - loss: 0.0588 - val_accuracy: 0.9903 - val_loss: 0.0182\n",
            "\u001b[1m13/13\u001b[0m \u001b[32m━━━━━━━━━━━━━━━━━━━━\u001b[0m\u001b[37m\u001b[0m \u001b[1m7s\u001b[0m 539ms/step - accuracy: 0.9733 - loss: 0.0857 - val_accuracy: 0.9903 - val_loss: 0.0190\n",
            "\u001b[1m13/13\u001b[0m \u001b[32m━━━━━━━━━━━━━━━━━━━━\u001b[0m\u001b[37m\u001b[0m \u001b[1m5s\u001b[0m 368ms/step - accuracy: 0.9927 - loss: 0.0325 - val_accuracy: 0.9903 - val_loss: 0.0130\n",
            "\u001b[1m13/13\u001b[0m \u001b[32m━━━━━━━━━━━━━━━━━━━━\u001b[0m\u001b[37m\u001b[0m \u001b[1m7s\u001b[0m 555ms/step - accuracy: 0.9958 - loss: 0.0175 - val_accuracy: 1.0000 - val_loss: 0.0071\n",
            "\n",
            "Epoch 28/50\n",
            "\u001b[1m13/13\u001b[0m \u001b[32m━━━━━━━━━━━━━━━━━━━━\u001b[0m\u001b[37m\u001b[0m \u001b[1m5s\u001b[0m 368ms/step - accuracy: 0.9581 - loss: 0.1029 - val_accuracy: 0.9903 - val_loss: 0.0564\n",
            "\u001b[1m13/13\u001b[0m \u001b[32m━━━━━━━━━━━━━━━━━━━━\u001b[0m\u001b[37m\u001b[0m \u001b[1m7s\u001b[0m 540ms/step - accuracy: 0.9958 - loss: 0.0225 - val_accuracy: 0.9903 - val_loss: 0.0286\n",
            "\u001b[1m13/13\u001b[0m \u001b[32m━━━━━━━━━━━━━━━━━━━━\u001b[0m\u001b[37m\u001b[0m \u001b[1m5s\u001b[0m 362ms/step - accuracy: 0.9879 - loss: 0.0387 - val_accuracy: 0.9903 - val_loss: 0.0164\n",
            "\u001b[1m13/13\u001b[0m \u001b[32m━━━━━━━━━━━━━━━━━━━━\u001b[0m\u001b[37m\u001b[0m \u001b[1m7s\u001b[0m 545ms/step - accuracy: 0.9914 - loss: 0.0336 - val_accuracy: 0.9903 - val_loss: 0.0446\n",
            "\n",
            "Epoch 29/50\n",
            "\u001b[1m13/13\u001b[0m \u001b[32m━━━━━━━━━━━━━━━━━━━━\u001b[0m\u001b[37m\u001b[0m \u001b[1m5s\u001b[0m 359ms/step - accuracy: 0.9807 - loss: 0.0773 - val_accuracy: 0.9709 - val_loss: 0.1511\n",
            "\u001b[1m13/13\u001b[0m \u001b[32m━━━━━━━━━━━━━━━━━━━━\u001b[0m\u001b[37m\u001b[0m \u001b[1m7s\u001b[0m 537ms/step - accuracy: 0.9776 - loss: 0.0645 - val_accuracy: 0.9806 - val_loss: 0.0391\n",
            "\u001b[1m13/13\u001b[0m \u001b[32m━━━━━━━━━━━━━━━━━━━━\u001b[0m\u001b[37m\u001b[0m \u001b[1m5s\u001b[0m 369ms/step - accuracy: 0.9926 - loss: 0.0271 - val_accuracy: 0.9903 - val_loss: 0.0207\n",
            "\u001b[1m13/13\u001b[0m \u001b[32m━━━━━━━━━━━━━━━━━━━━\u001b[0m\u001b[37m\u001b[0m \u001b[1m7s\u001b[0m 552ms/step - accuracy: 0.9947 - loss: 0.0152 - val_accuracy: 1.0000 - val_loss: 5.1255e-04\n",
            "\n",
            "Epoch 30/50\n",
            "\u001b[1m13/13\u001b[0m \u001b[32m━━━━━━━━━━━━━━━━━━━━\u001b[0m\u001b[37m\u001b[0m \u001b[1m5s\u001b[0m 373ms/step - accuracy: 0.9933 - loss: 0.0203 - val_accuracy: 0.9903 - val_loss: 0.0391\n",
            "\u001b[1m13/13\u001b[0m \u001b[32m━━━━━━━━━━━━━━━━━━━━\u001b[0m\u001b[37m\u001b[0m \u001b[1m7s\u001b[0m 546ms/step - accuracy: 0.9477 - loss: 0.1446 - val_accuracy: 0.9612 - val_loss: 0.0494\n",
            "\u001b[1m13/13\u001b[0m \u001b[32m━━━━━━━━━━━━━━━━━━━━\u001b[0m\u001b[37m\u001b[0m \u001b[1m5s\u001b[0m 366ms/step - accuracy: 0.9783 - loss: 0.0582 - val_accuracy: 1.0000 - val_loss: 0.0047\n",
            "\u001b[1m13/13\u001b[0m \u001b[32m━━━━━━━━━━━━━━━━━━━━\u001b[0m\u001b[37m\u001b[0m \u001b[1m7s\u001b[0m 549ms/step - accuracy: 0.9843 - loss: 0.0483 - val_accuracy: 0.9417 - val_loss: 0.0640\n",
            "\n",
            "Epoch 31/50\n",
            "\u001b[1m13/13\u001b[0m \u001b[32m━━━━━━━━━━━━━━━━━━━━\u001b[0m\u001b[37m\u001b[0m \u001b[1m5s\u001b[0m 365ms/step - accuracy: 0.9678 - loss: 0.0645 - val_accuracy: 0.9903 - val_loss: 0.0149\n",
            "\u001b[1m13/13\u001b[0m \u001b[32m━━━━━━━━━━━━━━━━━━━━\u001b[0m\u001b[37m\u001b[0m \u001b[1m7s\u001b[0m 547ms/step - accuracy: 0.9457 - loss: 0.1633 - val_accuracy: 0.9903 - val_loss: 0.0215\n",
            "\u001b[1m13/13\u001b[0m \u001b[32m━━━━━━━━━━━━━━━━━━━━\u001b[0m\u001b[37m\u001b[0m \u001b[1m5s\u001b[0m 369ms/step - accuracy: 0.9745 - loss: 0.0561 - val_accuracy: 1.0000 - val_loss: 0.0243\n",
            "\u001b[1m13/13\u001b[0m \u001b[32m━━━━━━━━━━━━━━━━━━━━\u001b[0m\u001b[37m\u001b[0m \u001b[1m7s\u001b[0m 549ms/step - accuracy: 0.9863 - loss: 0.0282 - val_accuracy: 0.9903 - val_loss: 0.0179\n",
            "\n",
            "Epoch 32/50\n",
            "\u001b[1m13/13\u001b[0m \u001b[32m━━━━━━━━━━━━━━━━━━━━\u001b[0m\u001b[37m\u001b[0m \u001b[1m5s\u001b[0m 364ms/step - accuracy: 0.9895 - loss: 0.0280 - val_accuracy: 0.9806 - val_loss: 0.0294\n",
            "\u001b[1m13/13\u001b[0m \u001b[32m━━━━━━━━━━━━━━━━━━━━\u001b[0m\u001b[37m\u001b[0m \u001b[1m7s\u001b[0m 545ms/step - accuracy: 0.9932 - loss: 0.0224 - val_accuracy: 1.0000 - val_loss: 0.0065\n",
            "\u001b[1m13/13\u001b[0m \u001b[32m━━━━━━━━━━━━━━━━━━━━\u001b[0m\u001b[37m\u001b[0m \u001b[1m5s\u001b[0m 372ms/step - accuracy: 0.9911 - loss: 0.0225 - val_accuracy: 0.9903 - val_loss: 0.0420\n",
            "\u001b[1m13/13\u001b[0m \u001b[32m━━━━━━━━━━━━━━━━━━━━\u001b[0m\u001b[37m\u001b[0m \u001b[1m7s\u001b[0m 540ms/step - accuracy: 0.9673 - loss: 0.0646 - val_accuracy: 1.0000 - val_loss: 0.0155\n",
            "\n",
            "Epoch 33/50\n",
            "\u001b[1m13/13\u001b[0m \u001b[32m━━━━━━━━━━━━━━━━━━━━\u001b[0m\u001b[37m\u001b[0m \u001b[1m5s\u001b[0m 390ms/step - accuracy: 0.9512 - loss: 0.1269 - val_accuracy: 1.0000 - val_loss: 0.0065\n",
            "\u001b[1m13/13\u001b[0m \u001b[32m━━━━━━━━━━━━━━━━━━━━\u001b[0m\u001b[37m\u001b[0m \u001b[1m5s\u001b[0m 366ms/step - accuracy: 0.9871 - loss: 0.0289 - val_accuracy: 0.9903 - val_loss: 0.0360\n",
            "\u001b[1m13/13\u001b[0m \u001b[32m━━━━━━━━━━━━━━━━━━━━\u001b[0m\u001b[37m\u001b[0m \u001b[1m6s\u001b[0m 449ms/step - accuracy: 0.9720 - loss: 0.0763 - val_accuracy: 1.0000 - val_loss: 0.0222\n",
            "\u001b[1m13/13\u001b[0m \u001b[32m━━━━━━━━━━━━━━━━━━━━\u001b[0m\u001b[37m\u001b[0m \u001b[1m5s\u001b[0m 366ms/step - accuracy: 0.9756 - loss: 0.0639 - val_accuracy: 0.9903 - val_loss: 0.0266\n",
            "\n",
            "Epoch 34/50\n",
            "\u001b[1m13/13\u001b[0m \u001b[32m━━━━━━━━━━━━━━━━━━━━\u001b[0m\u001b[37m\u001b[0m \u001b[1m7s\u001b[0m 547ms/step - accuracy: 0.9906 - loss: 0.0385 - val_accuracy: 1.0000 - val_loss: 0.0190\n",
            "\u001b[1m13/13\u001b[0m \u001b[32m━━━━━━━━━━━━━━━━━━━━\u001b[0m\u001b[37m\u001b[0m \u001b[1m5s\u001b[0m 363ms/step - accuracy: 0.9869 - loss: 0.0371 - val_accuracy: 0.9612 - val_loss: 0.0882\n",
            "\u001b[1m13/13\u001b[0m \u001b[32m━━━━━━━━━━━━━━━━━━━━\u001b[0m\u001b[37m\u001b[0m \u001b[1m7s\u001b[0m 553ms/step - accuracy: 0.9823 - loss: 0.0395 - val_accuracy: 0.9709 - val_loss: 0.1479\n",
            "\u001b[1m13/13\u001b[0m \u001b[32m━━━━━━━━━━━━━━━━━━━━\u001b[0m\u001b[37m\u001b[0m \u001b[1m5s\u001b[0m 367ms/step - accuracy: 0.9725 - loss: 0.0517 - val_accuracy: 1.0000 - val_loss: 0.0031\n",
            "\n",
            "Epoch 35/50\n",
            "\u001b[1m13/13\u001b[0m \u001b[32m━━━━━━━━━━━━━━━━━━━━\u001b[0m\u001b[37m\u001b[0m \u001b[1m5s\u001b[0m 369ms/step - accuracy: 1.0000 - loss: 0.0128 - val_accuracy: 0.9903 - val_loss: 0.0170\n",
            "\u001b[1m13/13\u001b[0m \u001b[32m━━━━━━━━━━━━━━━━━━━━\u001b[0m\u001b[37m\u001b[0m \u001b[1m7s\u001b[0m 523ms/step - accuracy: 0.9854 - loss: 0.0311 - val_accuracy: 0.9903 - val_loss: 0.0317\n",
            "\u001b[1m13/13\u001b[0m \u001b[32m━━━━━━━━━━━━━━━━━━━━\u001b[0m\u001b[37m\u001b[0m \u001b[1m5s\u001b[0m 366ms/step - accuracy: 0.9818 - loss: 0.0753 - val_accuracy: 0.9806 - val_loss: 0.0512\n",
            "\u001b[1m13/13\u001b[0m \u001b[32m━━━━━━━━━━━━━━━━━━━━\u001b[0m\u001b[37m\u001b[0m \u001b[1m7s\u001b[0m 505ms/step - accuracy: 0.9899 - loss: 0.0264 - val_accuracy: 1.0000 - val_loss: 0.0049\n",
            "\n",
            "Epoch 36/50\n",
            "\u001b[1m13/13\u001b[0m \u001b[32m━━━━━━━━━━━━━━━━━━━━\u001b[0m\u001b[37m\u001b[0m \u001b[1m5s\u001b[0m 392ms/step - accuracy: 0.9748 - loss: 0.0599 - val_accuracy: 0.9806 - val_loss: 0.0628\n",
            "\u001b[1m13/13\u001b[0m \u001b[32m━━━━━━━━━━━━━━━━━━━━\u001b[0m\u001b[37m\u001b[0m \u001b[1m6s\u001b[0m 489ms/step - accuracy: 0.9686 - loss: 0.1009 - val_accuracy: 0.9903 - val_loss: 0.0234\n",
            "\u001b[1m13/13\u001b[0m \u001b[32m━━━━━━━━━━━━━━━━━━━━\u001b[0m\u001b[37m\u001b[0m \u001b[1m5s\u001b[0m 396ms/step - accuracy: 0.9860 - loss: 0.0487 - val_accuracy: 0.9515 - val_loss: 0.0747\n",
            "\u001b[1m13/13\u001b[0m \u001b[32m━━━━━━━━━━━━━━━━━━━━\u001b[0m\u001b[37m\u001b[0m \u001b[1m6s\u001b[0m 466ms/step - accuracy: 0.9854 - loss: 0.0432 - val_accuracy: 1.0000 - val_loss: 0.0057\n",
            "\n",
            "Epoch 37/50\n",
            "\u001b[1m13/13\u001b[0m \u001b[32m━━━━━━━━━━━━━━━━━━━━\u001b[0m\u001b[37m\u001b[0m \u001b[1m5s\u001b[0m 426ms/step - accuracy: 0.9912 - loss: 0.0325 - val_accuracy: 0.9903 - val_loss: 0.0345\n",
            "\u001b[1m13/13\u001b[0m \u001b[32m━━━━━━━━━━━━━━━━━━━━\u001b[0m\u001b[37m\u001b[0m \u001b[1m5s\u001b[0m 368ms/step - accuracy: 0.9878 - loss: 0.0318 - val_accuracy: 0.9709 - val_loss: 0.0497\n",
            "\u001b[1m13/13\u001b[0m \u001b[32m━━━━━━━━━━━━━━━━━━━━\u001b[0m\u001b[37m\u001b[0m \u001b[1m7s\u001b[0m 528ms/step - accuracy: 0.9726 - loss: 0.0510 - val_accuracy: 0.9903 - val_loss: 0.0128\n",
            "\u001b[1m13/13\u001b[0m \u001b[32m━━━━━━━━━━━━━━━━━━━━\u001b[0m\u001b[37m\u001b[0m \u001b[1m5s\u001b[0m 358ms/step - accuracy: 0.9883 - loss: 0.0301 - val_accuracy: 1.0000 - val_loss: 0.0056\n",
            "\n",
            "Epoch 38/50\n",
            "\u001b[1m13/13\u001b[0m \u001b[32m━━━━━━━━━━━━━━━━━━━━\u001b[0m\u001b[37m\u001b[0m \u001b[1m5s\u001b[0m 395ms/step - accuracy: 0.9724 - loss: 0.0756 - val_accuracy: 1.0000 - val_loss: 0.0135\n",
            "\u001b[1m13/13\u001b[0m \u001b[32m━━━━━━━━━━━━━━━━━━━━\u001b[0m\u001b[37m\u001b[0m \u001b[1m6s\u001b[0m 475ms/step - accuracy: 0.9901 - loss: 0.0180 - val_accuracy: 0.9806 - val_loss: 0.0701\n",
            "\u001b[1m13/13\u001b[0m \u001b[32m━━━━━━━━━━━━━━━━━━━━\u001b[0m\u001b[37m\u001b[0m \u001b[1m5s\u001b[0m 361ms/step - accuracy: 0.9639 - loss: 0.0819 - val_accuracy: 1.0000 - val_loss: 0.0055\n",
            "\u001b[1m13/13\u001b[0m \u001b[32m━━━━━━━━━━━━━━━━━━━━\u001b[0m\u001b[37m\u001b[0m \u001b[1m6s\u001b[0m 453ms/step - accuracy: 0.9806 - loss: 0.0414 - val_accuracy: 1.0000 - val_loss: 0.0061\n",
            "\n",
            "Epoch 39/50\n",
            "\u001b[1m13/13\u001b[0m \u001b[32m━━━━━━━━━━━━━━━━━━━━\u001b[0m\u001b[37m\u001b[0m \u001b[1m5s\u001b[0m 362ms/step - accuracy: 0.9936 - loss: 0.0220 - val_accuracy: 0.9903 - val_loss: 0.0163\n",
            "\u001b[1m13/13\u001b[0m \u001b[32m━━━━━━━━━━━━━━━━━━━━\u001b[0m\u001b[37m\u001b[0m \u001b[1m7s\u001b[0m 538ms/step - accuracy: 0.9805 - loss: 0.0537 - val_accuracy: 1.0000 - val_loss: 0.0101\n",
            "\u001b[1m13/13\u001b[0m \u001b[32m━━━━━━━━━━━━━━━━━━━━\u001b[0m\u001b[37m\u001b[0m \u001b[1m5s\u001b[0m 384ms/step - accuracy: 0.9838 - loss: 0.0321 - val_accuracy: 0.9903 - val_loss: 0.0340\n",
            "\u001b[1m13/13\u001b[0m \u001b[32m━━━━━━━━━━━━━━━━━━━━\u001b[0m\u001b[37m\u001b[0m \u001b[1m5s\u001b[0m 397ms/step - accuracy: 0.9852 - loss: 0.0478 - val_accuracy: 1.0000 - val_loss: 0.0017\n",
            "\n",
            "Epoch 40/50\n",
            "\u001b[1m13/13\u001b[0m \u001b[32m━━━━━━━━━━━━━━━━━━━━\u001b[0m\u001b[37m\u001b[0m \u001b[1m5s\u001b[0m 364ms/step - accuracy: 0.9923 - loss: 0.0300 - val_accuracy: 1.0000 - val_loss: 0.0017\n",
            "\u001b[1m13/13\u001b[0m \u001b[32m━━━━━━━━━━━━━━━━━━━━\u001b[0m\u001b[37m\u001b[0m \u001b[1m7s\u001b[0m 533ms/step - accuracy: 0.9839 - loss: 0.0463 - val_accuracy: 0.9903 - val_loss: 0.0378\n",
            "\u001b[1m13/13\u001b[0m \u001b[32m━━━━━━━━━━━━━━━━━━━━\u001b[0m\u001b[37m\u001b[0m \u001b[1m5s\u001b[0m 367ms/step - accuracy: 0.9797 - loss: 0.0639 - val_accuracy: 0.9709 - val_loss: 0.0496\n",
            "\u001b[1m13/13\u001b[0m \u001b[32m━━━━━━━━━━━━━━━━━━━━\u001b[0m\u001b[37m\u001b[0m \u001b[1m5s\u001b[0m 365ms/step - accuracy: 0.9831 - loss: 0.0411 - val_accuracy: 0.9903 - val_loss: 0.0141\n",
            "\n",
            "Epoch 41/50\n",
            "\u001b[1m13/13\u001b[0m \u001b[32m━━━━━━━━━━━━━━━━━━━━\u001b[0m\u001b[37m\u001b[0m \u001b[1m8s\u001b[0m 646ms/step - accuracy: 0.9920 - loss: 0.0241 - val_accuracy: 0.9903 - val_loss: 0.0132\n",
            "\u001b[1m13/13\u001b[0m \u001b[32m━━━━━━━━━━━━━━━━━━━━\u001b[0m\u001b[37m\u001b[0m \u001b[1m5s\u001b[0m 356ms/step - accuracy: 0.9836 - loss: 0.0766 - val_accuracy: 1.0000 - val_loss: 0.0115\n",
            "\u001b[1m13/13\u001b[0m \u001b[32m━━━━━━━━━━━━━━━━━━━━\u001b[0m\u001b[37m\u001b[0m \u001b[1m5s\u001b[0m 421ms/step - accuracy: 0.9619 - loss: 0.0648 - val_accuracy: 0.9806 - val_loss: 0.0526\n",
            "\u001b[1m13/13\u001b[0m \u001b[32m━━━━━━━━━━━━━━━━━━━━\u001b[0m\u001b[37m\u001b[0m \u001b[1m5s\u001b[0m 362ms/step - accuracy: 0.9859 - loss: 0.0325 - val_accuracy: 0.9806 - val_loss: 0.0672\n",
            "\n",
            "Epoch 42/50\n",
            "\u001b[1m13/13\u001b[0m \u001b[32m━━━━━━━━━━━━━━━━━━━━\u001b[0m\u001b[37m\u001b[0m \u001b[1m7s\u001b[0m 541ms/step - accuracy: 0.9862 - loss: 0.0282 - val_accuracy: 1.0000 - val_loss: 0.0132\n",
            "\u001b[1m13/13\u001b[0m \u001b[32m━━━━━━━━━━━━━━━━━━━━\u001b[0m\u001b[37m\u001b[0m \u001b[1m5s\u001b[0m 366ms/step - accuracy: 0.9837 - loss: 0.0440 - val_accuracy: 0.9903 - val_loss: 0.0281\n",
            "\u001b[1m13/13\u001b[0m \u001b[32m━━━━━━━━━━━━━━━━━━━━\u001b[0m\u001b[37m\u001b[0m \u001b[1m7s\u001b[0m 534ms/step - accuracy: 0.9810 - loss: 0.0645 - val_accuracy: 1.0000 - val_loss: 0.0015\n",
            "\u001b[1m13/13\u001b[0m \u001b[32m━━━━━━━━━━━━━━━━━━━━\u001b[0m\u001b[37m\u001b[0m \u001b[1m5s\u001b[0m 362ms/step - accuracy: 0.9816 - loss: 0.0495 - val_accuracy: 1.0000 - val_loss: 0.0060\n",
            "\n",
            "Epoch 43/50\n",
            "\u001b[1m13/13\u001b[0m \u001b[32m━━━━━━━━━━━━━━━━━━━━\u001b[0m\u001b[37m\u001b[0m \u001b[1m7s\u001b[0m 520ms/step - accuracy: 0.9830 - loss: 0.0544 - val_accuracy: 1.0000 - val_loss: 0.0063\n",
            "\u001b[1m13/13\u001b[0m \u001b[32m━━━━━━━━━━━━━━━━━━━━\u001b[0m\u001b[37m\u001b[0m \u001b[1m5s\u001b[0m 362ms/step - accuracy: 0.9856 - loss: 0.0432 - val_accuracy: 0.9806 - val_loss: 0.0874\n",
            "\u001b[1m13/13\u001b[0m \u001b[32m━━━━━━━━━━━━━━━━━━━━\u001b[0m\u001b[37m\u001b[0m \u001b[1m7s\u001b[0m 540ms/step - accuracy: 0.9941 - loss: 0.0222 - val_accuracy: 1.0000 - val_loss: 0.0015\n",
            "\u001b[1m13/13\u001b[0m \u001b[32m━━━━━━━━━━━━━━━━━━━━\u001b[0m\u001b[37m\u001b[0m \u001b[1m5s\u001b[0m 365ms/step - accuracy: 0.9787 - loss: 0.0439 - val_accuracy: 0.9223 - val_loss: 0.2248\n",
            "\n",
            "Epoch 44/50\n",
            "\u001b[1m13/13\u001b[0m \u001b[32m━━━━━━━━━━━━━━━━━━━━\u001b[0m\u001b[37m\u001b[0m \u001b[1m7s\u001b[0m 540ms/step - accuracy: 0.9861 - loss: 0.0439 - val_accuracy: 1.0000 - val_loss: 0.0114\n",
            "\u001b[1m13/13\u001b[0m \u001b[32m━━━━━━━━━━━━━━━━━━━━\u001b[0m\u001b[37m\u001b[0m \u001b[1m5s\u001b[0m 367ms/step - accuracy: 0.9829 - loss: 0.0526 - val_accuracy: 0.9515 - val_loss: 0.1180\n",
            "\u001b[1m13/13\u001b[0m \u001b[32m━━━━━━━━━━━━━━━━━━━━\u001b[0m\u001b[37m\u001b[0m \u001b[1m7s\u001b[0m 542ms/step - accuracy: 0.9898 - loss: 0.0456 - val_accuracy: 1.0000 - val_loss: 0.0100\n",
            "\u001b[1m13/13\u001b[0m \u001b[32m━━━━━━━━━━━━━━━━━━━━\u001b[0m\u001b[37m\u001b[0m \u001b[1m5s\u001b[0m 364ms/step - accuracy: 0.9966 - loss: 0.0124 - val_accuracy: 0.9806 - val_loss: 0.0270\n",
            "\n",
            "Epoch 45/50\n",
            "\u001b[1m13/13\u001b[0m \u001b[32m━━━━━━━━━━━━━━━━━━━━\u001b[0m\u001b[37m\u001b[0m \u001b[1m7s\u001b[0m 531ms/step - accuracy: 0.9857 - loss: 0.0309 - val_accuracy: 0.9903 - val_loss: 0.0090\n",
            "\u001b[1m13/13\u001b[0m \u001b[32m━━━━━━━━━━━━━━━━━━━━\u001b[0m\u001b[37m\u001b[0m \u001b[1m5s\u001b[0m 372ms/step - accuracy: 0.9948 - loss: 0.0114 - val_accuracy: 1.0000 - val_loss: 0.0081\n",
            "\u001b[1m13/13\u001b[0m \u001b[32m━━━━━━━━━━━━━━━━━━━━\u001b[0m\u001b[37m\u001b[0m \u001b[1m6s\u001b[0m 446ms/step - accuracy: 0.9804 - loss: 0.0587 - val_accuracy: 1.0000 - val_loss: 0.0053\n",
            "\u001b[1m13/13\u001b[0m \u001b[32m━━━━━━━━━━━━━━━━━━━━\u001b[0m\u001b[37m\u001b[0m \u001b[1m6s\u001b[0m 441ms/step - accuracy: 0.9787 - loss: 0.0443 - val_accuracy: 0.9806 - val_loss: 0.0529\n",
            "\n",
            "Epoch 46/50\n",
            "\u001b[1m13/13\u001b[0m \u001b[32m━━━━━━━━━━━━━━━━━━━━\u001b[0m\u001b[37m\u001b[0m \u001b[1m5s\u001b[0m 362ms/step - accuracy: 0.9892 - loss: 0.0336 - val_accuracy: 0.9903 - val_loss: 0.0427\n",
            "\u001b[1m13/13\u001b[0m \u001b[32m━━━━━━━━━━━━━━━━━━━━\u001b[0m\u001b[37m\u001b[0m \u001b[1m7s\u001b[0m 531ms/step - accuracy: 0.9924 - loss: 0.0159 - val_accuracy: 0.9806 - val_loss: 0.0409\n",
            "\u001b[1m13/13\u001b[0m \u001b[32m━━━━━━━━━━━━━━━━━━━━\u001b[0m\u001b[37m\u001b[0m \u001b[1m5s\u001b[0m 365ms/step - accuracy: 0.9820 - loss: 0.0328 - val_accuracy: 1.0000 - val_loss: 0.0060\n",
            "\u001b[1m13/13\u001b[0m \u001b[32m━━━━━━━━━━━━━━━━━━━━\u001b[0m\u001b[37m\u001b[0m \u001b[1m7s\u001b[0m 535ms/step - accuracy: 0.9983 - loss: 0.0092 - val_accuracy: 1.0000 - val_loss: 0.0038\n",
            "\n",
            "Epoch 47/50\n",
            "\u001b[1m13/13\u001b[0m \u001b[32m━━━━━━━━━━━━━━━━━━━━\u001b[0m\u001b[37m\u001b[0m \u001b[1m5s\u001b[0m 368ms/step - accuracy: 0.9743 - loss: 0.0720 - val_accuracy: 1.0000 - val_loss: 0.0017\n",
            "\u001b[1m13/13\u001b[0m \u001b[32m━━━━━━━━━━━━━━━━━━━━\u001b[0m\u001b[37m\u001b[0m \u001b[1m7s\u001b[0m 537ms/step - accuracy: 0.9893 - loss: 0.0298 - val_accuracy: 0.9903 - val_loss: 0.0194\n",
            "\u001b[1m13/13\u001b[0m \u001b[32m━━━━━━━━━━━━━━━━━━━━\u001b[0m\u001b[37m\u001b[0m \u001b[1m5s\u001b[0m 371ms/step - accuracy: 0.9810 - loss: 0.0463 - val_accuracy: 0.9806 - val_loss: 0.0539\n",
            "\u001b[1m13/13\u001b[0m \u001b[32m━━━━━━━━━━━━━━━━━━━━\u001b[0m\u001b[37m\u001b[0m \u001b[1m7s\u001b[0m 542ms/step - accuracy: 0.9891 - loss: 0.0244 - val_accuracy: 1.0000 - val_loss: 0.0044\n",
            "\n",
            "Epoch 48/50\n",
            "\u001b[1m13/13\u001b[0m \u001b[32m━━━━━━━━━━━━━━━━━━━━\u001b[0m\u001b[37m\u001b[0m \u001b[1m5s\u001b[0m 360ms/step - accuracy: 0.9862 - loss: 0.0229 - val_accuracy: 0.9903 - val_loss: 0.0081\n",
            "\u001b[1m13/13\u001b[0m \u001b[32m━━━━━━━━━━━━━━━━━━━━\u001b[0m\u001b[37m\u001b[0m \u001b[1m5s\u001b[0m 373ms/step - accuracy: 0.9857 - loss: 0.0349 - val_accuracy: 1.0000 - val_loss: 0.0045\n",
            "\u001b[1m13/13\u001b[0m \u001b[32m━━━━━━━━━━━━━━━━━━━━\u001b[0m\u001b[37m\u001b[0m \u001b[1m6s\u001b[0m 487ms/step - accuracy: 0.9893 - loss: 0.0236 - val_accuracy: 1.0000 - val_loss: 0.0038\n",
            "\u001b[1m13/13\u001b[0m \u001b[32m━━━━━━━━━━━━━━━━━━━━\u001b[0m\u001b[37m\u001b[0m \u001b[1m5s\u001b[0m 418ms/step - accuracy: 0.9921 - loss: 0.0213 - val_accuracy: 0.9903 - val_loss: 0.0183\n",
            "\n",
            "Epoch 49/50\n",
            "\u001b[1m13/13\u001b[0m \u001b[32m━━━━━━━━━━━━━━━━━━━━\u001b[0m\u001b[37m\u001b[0m \u001b[1m5s\u001b[0m 368ms/step - accuracy: 0.9880 - loss: 0.0278 - val_accuracy: 1.0000 - val_loss: 0.0028\n",
            "\u001b[1m13/13\u001b[0m \u001b[32m━━━━━━━━━━━━━━━━━━━━\u001b[0m\u001b[37m\u001b[0m \u001b[1m6s\u001b[0m 450ms/step - accuracy: 0.9629 - loss: 0.0985 - val_accuracy: 1.0000 - val_loss: 0.0053\n",
            "\u001b[1m13/13\u001b[0m \u001b[32m━━━━━━━━━━━━━━━━━━━━\u001b[0m\u001b[37m\u001b[0m \u001b[1m5s\u001b[0m 372ms/step - accuracy: 0.9933 - loss: 0.0246 - val_accuracy: 1.0000 - val_loss: 0.0075\n",
            "\u001b[1m13/13\u001b[0m \u001b[32m━━━━━━━━━━━━━━━━━━━━\u001b[0m\u001b[37m\u001b[0m \u001b[1m7s\u001b[0m 547ms/step - accuracy: 0.9907 - loss: 0.0211 - val_accuracy: 0.9709 - val_loss: 0.0600\n",
            "\n",
            "Epoch 50/50\n",
            "\u001b[1m13/13\u001b[0m \u001b[32m━━━━━━━━━━━━━━━━━━━━\u001b[0m\u001b[37m\u001b[0m \u001b[1m5s\u001b[0m 363ms/step - accuracy: 0.9935 - loss: 0.0226 - val_accuracy: 1.0000 - val_loss: 0.0060\n",
            "\u001b[1m13/13\u001b[0m \u001b[32m━━━━━━━━━━━━━━━━━━━━\u001b[0m\u001b[37m\u001b[0m \u001b[1m7s\u001b[0m 521ms/step - accuracy: 0.9868 - loss: 0.0331 - val_accuracy: 1.0000 - val_loss: 0.0027\n",
            "\u001b[1m13/13\u001b[0m \u001b[32m━━━━━━━━━━━━━━━━━━━━\u001b[0m\u001b[37m\u001b[0m \u001b[1m5s\u001b[0m 369ms/step - accuracy: 0.9928 - loss: 0.0252 - val_accuracy: 0.9903 - val_loss: 0.0324\n",
            "\u001b[1m13/13\u001b[0m \u001b[32m━━━━━━━━━━━━━━━━━━━━\u001b[0m\u001b[37m\u001b[0m \u001b[1m7s\u001b[0m 538ms/step - accuracy: 0.9736 - loss: 0.0696 - val_accuracy: 1.0000 - val_loss: 0.0077\n"
          ]
        }
      ]
    },
    {
      "cell_type": "code",
      "source": [
        "# Eğitim performansını görselleştirme\n",
        "plt.figure(figsize=(15, 5))\n",
        "\n",
        "# Loss grafiği\n",
        "plt.subplot(1, 2, 1)\n",
        "plt.plot(train_loss, label='Eğitim Kaybı')\n",
        "plt.plot(val_loss, label='Doğrulama Kaybı', color='green')\n",
        "plt.title('Model Kaybı')\n",
        "plt.xlabel('Epoch')\n",
        "plt.ylabel('Kayıp')\n",
        "plt.legend()"
      ],
      "metadata": {
        "colab": {
          "base_uri": "https://localhost:8080/",
          "height": 504
        },
        "id": "CR1Wk4pIhPUZ",
        "outputId": "751e4d77-2892-40e5-ada6-803214517ae0"
      },
      "id": "CR1Wk4pIhPUZ",
      "execution_count": 19,
      "outputs": [
        {
          "output_type": "execute_result",
          "data": {
            "text/plain": [
              "<matplotlib.legend.Legend at 0x7a1304379360>"
            ]
          },
          "metadata": {},
          "execution_count": 19
        },
        {
          "output_type": "display_data",
          "data": {
            "text/plain": [
              "<Figure size 1500x500 with 1 Axes>"
            ],
            "image/png": "[encoded data removed]"
          },
          "metadata": {}
        }
      ]
    },
    {
      "cell_type": "code",
      "source": [
        "# Accuracy grafiği\n",
        "plt.subplot(1, 2, 2)\n",
        "plt.plot(train_acc, label='Eğitim Doğruluğu')\n",
        "plt.plot(val_acc, label='Doğrulama Doğruluğu', color='green')\n",
        "plt.title('Model Doğruluğu')\n",
        "plt.xlabel('Epoch')\n",
        "plt.ylabel('Doğruluk')\n",
        "plt.legend()\n",
        "\n",
        "plt.tight_layout()\n",
        "plt.show()"
      ],
      "metadata": {
        "colab": {
          "base_uri": "https://localhost:8080/",
          "height": 487
        },
        "id": "CqU1_c2chSIW",
        "outputId": "11fd6842-008a-4635-ca74-0e02a2f8ae9f"
      },
      "id": "CqU1_c2chSIW",
      "execution_count": 20,
      "outputs": [
        {
          "output_type": "display_data",
          "data": {
            "text/plain": [
              "<Figure size 640x480 with 1 Axes>"
            ],
            "image/png": "[encoded data removed]"
          },
          "metadata": {}
        }
      ]
    },
    {
      "cell_type": "code",
      "source": [
        "# Model kaydetme\n",
        "print(\"\\nModel kaydediliyor...\")\n",
        "model.save('cat_dog_audio_classifier.h5')\n",
        "print(\"✓ Model başarıyla kaydedildi: 'cat_dog_audio_classifier.h5'\")"
      ],
      "metadata": {
        "colab": {
          "base_uri": "https://localhost:8080/"
        },
        "id": "HDjWOWH0hUUt",
        "outputId": "f6b1a047-7fb6-4a7c-e6ed-dca34330360a"
      },
      "id": "HDjWOWH0hUUt",
      "execution_count": 21,
      "outputs": [
        {
          "output_type": "stream",
          "name": "stderr",
          "text": [
            "WARNING:absl:You are saving your model as an HDF5 file via `model.save()` or `keras.saving.save_model(model)`. This file format is considered legacy. We recommend using instead the native Keras format, e.g. `model.save('my_model.keras')` or `keras.saving.save_model(model, 'my_model.keras')`. \n"
          ]
        },
        {
          "output_type": "stream",
          "name": "stdout",
          "text": [
            "\n",
            "Model kaydediliyor...\n",
            "✓ Model başarıyla kaydedildi: 'cat_dog_audio_classifier.h5'\n"
          ]
        }
      ]
    },
    {
      "cell_type": "code",
      "execution_count": 22,
      "id": "c6c1d8e0-aeda-4018-8f00-683238846bd5",
      "metadata": {
        "colab": {
          "base_uri": "https://localhost:8080/"
        },
        "id": "c6c1d8e0-aeda-4018-8f00-683238846bd5",
        "outputId": "e7adaec3-af9b-4faa-b240-215e32fc6fe0"
      },
      "outputs": [
        {
          "output_type": "stream",
          "name": "stdout",
          "text": [
            "\n",
            "Eğitim Sonuçları:\n",
            "Son eğitim kaybı: 0.0538\n",
            "Son doğrulama kaybı: 0.0077\n",
            "Son eğitim doğruluğu: 0.9804\n",
            "Son doğrulama doğruluğu: 1.0000\n"
          ]
        }
      ],
      "source": [
        "# Eğitim sonuçlarını yazdır\n",
        "print(\"\\nEğitim Sonuçları:\")\n",
        "print(f\"Son eğitim kaybı: {train_loss[-1]:.4f}\")\n",
        "print(f\"Son doğrulama kaybı: {val_loss[-1]:.4f}\")\n",
        "print(f\"Son eğitim doğruluğu: {train_acc[-1]:.4f}\")\n",
        "print(f\"Son doğrulama doğruluğu: {val_acc[-1]:.4f}\")"
      ]
    },
    {
      "cell_type": "code",
      "execution_count": null,
      "id": "28de93fb-9504-4665-bf88-216cba3eb970",
      "metadata": {
        "id": "28de93fb-9504-4665-bf88-216cba3eb970"
      },
      "outputs": [],
      "source": []
    }
  ],
  "metadata": {
    "kernelspec": {
      "display_name": "Python 3 (ipykernel)",
      "language": "python",
      "name": "python3"
    },
    "language_info": {
      "codemirror_mode": {
        "name": "ipython",
        "version": 3
      },
      "file_extension": ".py",
      "mimetype": "text/x-python",
      "name": "python",
      "nbconvert_exporter": "python",
      "pygments_lexer": "ipython3",
      "version": "3.10.13"
    },
    "colab": {
      "provenance": []
    }
  },
  "nbformat": 4,
  "nbformat_minor": 5
}