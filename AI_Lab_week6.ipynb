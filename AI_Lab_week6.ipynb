{
  "nbformat": 4,
  "nbformat_minor": 0,
  "metadata": {
    "colab": {
      "provenance": []
    },
    "kernelspec": {
      "name": "python3",
      "display_name": "Python 3"
    },
    "language_info": {
      "name": "python"
    }
  },
  "cells": [
    {
      "cell_type": "code",
      "execution_count": 2,
      "metadata": {
        "id": "eVKIDlGyTkCG"
      },
      "outputs": [],
      "source": [
        "import pandas as pd\n",
        "import numpy as np\n",
        "from sklearn.preprocessing import LabelEncoder,StandardScaler\n"
      ]
    },
    {
      "cell_type": "code",
      "source": [
        "train=pd.read_csv('/content/train1.csv')\n",
        "test=pd.read_csv('/content/test1.csv')"
      ],
      "metadata": {
        "id": "QlMpbU3xWBCI"
      },
      "execution_count": 3,
      "outputs": []
    },
    {
      "cell_type": "code",
      "source": [
        "label_encoder = LabelEncoder().fit(train.species)\n",
        "labels = label_encoder.transform(train.species)\n",
        "classes = list(label_encoder.classes_)"
      ],
      "metadata": {
        "id": "lZXYK6YJWPTT"
      },
      "execution_count": 4,
      "outputs": []
    },
    {
      "cell_type": "code",
      "source": [
        "#verilerin hazırlanması, özellik ve sınıf sayısının belirlenmesi\n",
        "train.drop([\"id\", \"species\"], axis=1)\n",
        "test = test.drop([\"id\"], axis=1)\n",
        "nb_features = 192\n",
        "nb_classes = len(classes)"
      ],
      "metadata": {
        "id": "m7cdaQpsWd5m"
      },
      "execution_count": 5,
      "outputs": []
    },
    {
      "cell_type": "code",
      "source": [
        "for column in train.columns:\n",
        "    if train[column].dtype == 'object':\n",
        "        train[column] = label_encoder.fit_transform(train[column])"
      ],
      "metadata": {
        "id": "yUPtXmsCesGO"
      },
      "execution_count": 6,
      "outputs": []
    },
    {
      "cell_type": "code",
      "source": [
        "from sklearn.preprocessing import StandardScaler\n",
        "scaler=StandardScaler().fit(train.values)\n",
        "train=scaler.transform(train.values)"
      ],
      "metadata": {
        "id": "jqgj_EYaWd2v"
      },
      "execution_count": 7,
      "outputs": []
    },
    {
      "cell_type": "code",
      "source": [
        "from sklearn.model_selection import train_test_split\n",
        "X_train,X_valid,y_train,y_valid=train_test_split(train,labels,test_size=0.1)"
      ],
      "metadata": {
        "id": "vazj92aXXOVz"
      },
      "execution_count": 8,
      "outputs": []
    },
    {
      "cell_type": "code",
      "source": [
        "from tensorflow.keras.utils import to_categorical\n",
        "y_train=to_categorical(y_train)\n",
        "y_valid=to_categorical(y_valid)"
      ],
      "metadata": {
        "id": "ldR7qAQwXzp3"
      },
      "execution_count": 9,
      "outputs": []
    },
    {
      "cell_type": "code",
      "source": [
        "# Reduce X_train and X_valid to 192 features by dropping the last 2 columns\n",
        "X_train = np.array(X_train)[:, :192]\n",
        "X_valid = np.array(X_valid)[:, :192]\n",
        "\n",
        "# Reshape to (n_samples, 192, 1)\n",
        "X_train = X_train.reshape(891, 192, 1)\n",
        "X_valid = X_valid.reshape(99, 192, 1)\n",
        "\n",
        "print(\"Reshaped X_train shape:\", X_train.shape)\n",
        "print(\"Reshaped X_valid shape:\", X_valid.shape)\n"
      ],
      "metadata": {
        "colab": {
          "base_uri": "https://localhost:8080/"
        },
        "id": "KquArNp8YKF4",
        "outputId": "bd30920d-160a-400f-e58e-26c1f532385d"
      },
      "execution_count": 10,
      "outputs": [
        {
          "output_type": "stream",
          "name": "stdout",
          "text": [
            "Reshaped X_train shape: (891, 192, 1)\n",
            "Reshaped X_valid shape: (99, 192, 1)\n"
          ]
        }
      ]
    },
    {
      "cell_type": "code",
      "source": [
        "from tensorflow.keras.models import Sequential\n",
        "from tensorflow.keras.layers import Dense, Activation, Conv1D, MaxPooling1D, Dropout, Flatten, Input\n",
        "\n",
        "# Define the model\n",
        "model = Sequential()\n",
        "model.add(Input(shape=(nb_features, 1)))  # Using Input layer as recommended\n",
        "model.add(Conv1D(512, 1))\n",
        "model.add(Activation(\"relu\"))\n",
        "model.add(MaxPooling1D(2))\n",
        "model.add(Conv1D(256, 1))\n",
        "model.add(Activation(\"relu\"))\n",
        "model.add(MaxPooling1D(2))\n",
        "model.add(Dropout(0.25))\n",
        "model.add(Flatten())\n",
        "model.add(Dense(2048, activation=\"relu\"))\n",
        "model.add(Dense(1024, activation=\"relu\"))\n",
        "model.add(Dense(nb_classes, activation=\"softmax\"))\n",
        "\n",
        "# Display model summary\n",
        "model.summary()\n"
      ],
      "metadata": {
        "colab": {
          "base_uri": "https://localhost:8080/",
          "height": 498
        },
        "id": "_EXpkx5QYg8R",
        "outputId": "689323c5-8e1c-430c-cb62-c18f89ec2f9b"
      },
      "execution_count": 11,
      "outputs": [
        {
          "output_type": "display_data",
          "data": {
            "text/plain": [
              "\u001b[1mModel: \"sequential\"\u001b[0m\n"
            ],
            "text/html": [
              "<pre style=\"white-space:pre;overflow-x:auto;line-height:normal;font-family:Menlo,'DejaVu Sans Mono',consolas,'Courier New',monospace\"><span style=\"font-weight: bold\">Model: \"sequential\"</span>\n",
              "</pre>\n"
            ]
          },
          "metadata": {}
        },
        {
          "output_type": "display_data",
          "data": {
            "text/plain": [
              "┏━━━━━━━━━━━━━━━━━━━━━━━━━━━━━━━━━━━━━━┳━━━━━━━━━━━━━━━━━━━━━━━━━━━━━┳━━━━━━━━━━━━━━━━━┓\n",
              "┃\u001b[1m \u001b[0m\u001b[1mLayer (type)                        \u001b[0m\u001b[1m \u001b[0m┃\u001b[1m \u001b[0m\u001b[1mOutput Shape               \u001b[0m\u001b[1m \u001b[0m┃\u001b[1m \u001b[0m\u001b[1m        Param #\u001b[0m\u001b[1m \u001b[0m┃\n",
              "┡━━━━━━━━━━━━━━━━━━━━━━━━━━━━━━━━━━━━━━╇━━━━━━━━━━━━━━━━━━━━━━━━━━━━━╇━━━━━━━━━━━━━━━━━┩\n",
              "│ conv1d (\u001b[38;5;33mConv1D\u001b[0m)                      │ (\u001b[38;5;45mNone\u001b[0m, \u001b[38;5;34m192\u001b[0m, \u001b[38;5;34m512\u001b[0m)            │           \u001b[38;5;34m1,024\u001b[0m │\n",
              "├──────────────────────────────────────┼─────────────────────────────┼─────────────────┤\n",
              "│ activation (\u001b[38;5;33mActivation\u001b[0m)              │ (\u001b[38;5;45mNone\u001b[0m, \u001b[38;5;34m192\u001b[0m, \u001b[38;5;34m512\u001b[0m)            │               \u001b[38;5;34m0\u001b[0m │\n",
              "├──────────────────────────────────────┼─────────────────────────────┼─────────────────┤\n",
              "│ max_pooling1d (\u001b[38;5;33mMaxPooling1D\u001b[0m)         │ (\u001b[38;5;45mNone\u001b[0m, \u001b[38;5;34m96\u001b[0m, \u001b[38;5;34m512\u001b[0m)             │               \u001b[38;5;34m0\u001b[0m │\n",
              "├──────────────────────────────────────┼─────────────────────────────┼─────────────────┤\n",
              "│ conv1d_1 (\u001b[38;5;33mConv1D\u001b[0m)                    │ (\u001b[38;5;45mNone\u001b[0m, \u001b[38;5;34m96\u001b[0m, \u001b[38;5;34m256\u001b[0m)             │         \u001b[38;5;34m131,328\u001b[0m │\n",
              "├──────────────────────────────────────┼─────────────────────────────┼─────────────────┤\n",
              "│ activation_1 (\u001b[38;5;33mActivation\u001b[0m)            │ (\u001b[38;5;45mNone\u001b[0m, \u001b[38;5;34m96\u001b[0m, \u001b[38;5;34m256\u001b[0m)             │               \u001b[38;5;34m0\u001b[0m │\n",
              "├──────────────────────────────────────┼─────────────────────────────┼─────────────────┤\n",
              "│ max_pooling1d_1 (\u001b[38;5;33mMaxPooling1D\u001b[0m)       │ (\u001b[38;5;45mNone\u001b[0m, \u001b[38;5;34m48\u001b[0m, \u001b[38;5;34m256\u001b[0m)             │               \u001b[38;5;34m0\u001b[0m │\n",
              "├──────────────────────────────────────┼─────────────────────────────┼─────────────────┤\n",
              "│ dropout (\u001b[38;5;33mDropout\u001b[0m)                    │ (\u001b[38;5;45mNone\u001b[0m, \u001b[38;5;34m48\u001b[0m, \u001b[38;5;34m256\u001b[0m)             │               \u001b[38;5;34m0\u001b[0m │\n",
              "├──────────────────────────────────────┼─────────────────────────────┼─────────────────┤\n",
              "│ flatten (\u001b[38;5;33mFlatten\u001b[0m)                    │ (\u001b[38;5;45mNone\u001b[0m, \u001b[38;5;34m12288\u001b[0m)               │               \u001b[38;5;34m0\u001b[0m │\n",
              "├──────────────────────────────────────┼─────────────────────────────┼─────────────────┤\n",
              "│ dense (\u001b[38;5;33mDense\u001b[0m)                        │ (\u001b[38;5;45mNone\u001b[0m, \u001b[38;5;34m2048\u001b[0m)                │      \u001b[38;5;34m25,167,872\u001b[0m │\n",
              "├──────────────────────────────────────┼─────────────────────────────┼─────────────────┤\n",
              "│ dense_1 (\u001b[38;5;33mDense\u001b[0m)                      │ (\u001b[38;5;45mNone\u001b[0m, \u001b[38;5;34m1024\u001b[0m)                │       \u001b[38;5;34m2,098,176\u001b[0m │\n",
              "├──────────────────────────────────────┼─────────────────────────────┼─────────────────┤\n",
              "│ dense_2 (\u001b[38;5;33mDense\u001b[0m)                      │ (\u001b[38;5;45mNone\u001b[0m, \u001b[38;5;34m99\u001b[0m)                  │         \u001b[38;5;34m101,475\u001b[0m │\n",
              "└──────────────────────────────────────┴─────────────────────────────┴─────────────────┘\n"
            ],
            "text/html": [
              "<pre style=\"white-space:pre;overflow-x:auto;line-height:normal;font-family:Menlo,'DejaVu Sans Mono',consolas,'Courier New',monospace\">┏━━━━━━━━━━━━━━━━━━━━━━━━━━━━━━━━━━━━━━┳━━━━━━━━━━━━━━━━━━━━━━━━━━━━━┳━━━━━━━━━━━━━━━━━┓\n",
              "┃<span style=\"font-weight: bold\"> Layer (type)                         </span>┃<span style=\"font-weight: bold\"> Output Shape                </span>┃<span style=\"font-weight: bold\">         Param # </span>┃\n",
              "┡━━━━━━━━━━━━━━━━━━━━━━━━━━━━━━━━━━━━━━╇━━━━━━━━━━━━━━━━━━━━━━━━━━━━━╇━━━━━━━━━━━━━━━━━┩\n",
              "│ conv1d (<span style=\"color: #0087ff; text-decoration-color: #0087ff\">Conv1D</span>)                      │ (<span style=\"color: #00d7ff; text-decoration-color: #00d7ff\">None</span>, <span style=\"color: #00af00; text-decoration-color: #00af00\">192</span>, <span style=\"color: #00af00; text-decoration-color: #00af00\">512</span>)            │           <span style=\"color: #00af00; text-decoration-color: #00af00\">1,024</span> │\n",
              "├──────────────────────────────────────┼─────────────────────────────┼─────────────────┤\n",
              "│ activation (<span style=\"color: #0087ff; text-decoration-color: #0087ff\">Activation</span>)              │ (<span style=\"color: #00d7ff; text-decoration-color: #00d7ff\">None</span>, <span style=\"color: #00af00; text-decoration-color: #00af00\">192</span>, <span style=\"color: #00af00; text-decoration-color: #00af00\">512</span>)            │               <span style=\"color: #00af00; text-decoration-color: #00af00\">0</span> │\n",
              "├──────────────────────────────────────┼─────────────────────────────┼─────────────────┤\n",
              "│ max_pooling1d (<span style=\"color: #0087ff; text-decoration-color: #0087ff\">MaxPooling1D</span>)         │ (<span style=\"color: #00d7ff; text-decoration-color: #00d7ff\">None</span>, <span style=\"color: #00af00; text-decoration-color: #00af00\">96</span>, <span style=\"color: #00af00; text-decoration-color: #00af00\">512</span>)             │               <span style=\"color: #00af00; text-decoration-color: #00af00\">0</span> │\n",
              "├──────────────────────────────────────┼─────────────────────────────┼─────────────────┤\n",
              "│ conv1d_1 (<span style=\"color: #0087ff; text-decoration-color: #0087ff\">Conv1D</span>)                    │ (<span style=\"color: #00d7ff; text-decoration-color: #00d7ff\">None</span>, <span style=\"color: #00af00; text-decoration-color: #00af00\">96</span>, <span style=\"color: #00af00; text-decoration-color: #00af00\">256</span>)             │         <span style=\"color: #00af00; text-decoration-color: #00af00\">131,328</span> │\n",
              "├──────────────────────────────────────┼─────────────────────────────┼─────────────────┤\n",
              "│ activation_1 (<span style=\"color: #0087ff; text-decoration-color: #0087ff\">Activation</span>)            │ (<span style=\"color: #00d7ff; text-decoration-color: #00d7ff\">None</span>, <span style=\"color: #00af00; text-decoration-color: #00af00\">96</span>, <span style=\"color: #00af00; text-decoration-color: #00af00\">256</span>)             │               <span style=\"color: #00af00; text-decoration-color: #00af00\">0</span> │\n",
              "├──────────────────────────────────────┼─────────────────────────────┼─────────────────┤\n",
              "│ max_pooling1d_1 (<span style=\"color: #0087ff; text-decoration-color: #0087ff\">MaxPooling1D</span>)       │ (<span style=\"color: #00d7ff; text-decoration-color: #00d7ff\">None</span>, <span style=\"color: #00af00; text-decoration-color: #00af00\">48</span>, <span style=\"color: #00af00; text-decoration-color: #00af00\">256</span>)             │               <span style=\"color: #00af00; text-decoration-color: #00af00\">0</span> │\n",
              "├──────────────────────────────────────┼─────────────────────────────┼─────────────────┤\n",
              "│ dropout (<span style=\"color: #0087ff; text-decoration-color: #0087ff\">Dropout</span>)                    │ (<span style=\"color: #00d7ff; text-decoration-color: #00d7ff\">None</span>, <span style=\"color: #00af00; text-decoration-color: #00af00\">48</span>, <span style=\"color: #00af00; text-decoration-color: #00af00\">256</span>)             │               <span style=\"color: #00af00; text-decoration-color: #00af00\">0</span> │\n",
              "├──────────────────────────────────────┼─────────────────────────────┼─────────────────┤\n",
              "│ flatten (<span style=\"color: #0087ff; text-decoration-color: #0087ff\">Flatten</span>)                    │ (<span style=\"color: #00d7ff; text-decoration-color: #00d7ff\">None</span>, <span style=\"color: #00af00; text-decoration-color: #00af00\">12288</span>)               │               <span style=\"color: #00af00; text-decoration-color: #00af00\">0</span> │\n",
              "├──────────────────────────────────────┼─────────────────────────────┼─────────────────┤\n",
              "│ dense (<span style=\"color: #0087ff; text-decoration-color: #0087ff\">Dense</span>)                        │ (<span style=\"color: #00d7ff; text-decoration-color: #00d7ff\">None</span>, <span style=\"color: #00af00; text-decoration-color: #00af00\">2048</span>)                │      <span style=\"color: #00af00; text-decoration-color: #00af00\">25,167,872</span> │\n",
              "├──────────────────────────────────────┼─────────────────────────────┼─────────────────┤\n",
              "│ dense_1 (<span style=\"color: #0087ff; text-decoration-color: #0087ff\">Dense</span>)                      │ (<span style=\"color: #00d7ff; text-decoration-color: #00d7ff\">None</span>, <span style=\"color: #00af00; text-decoration-color: #00af00\">1024</span>)                │       <span style=\"color: #00af00; text-decoration-color: #00af00\">2,098,176</span> │\n",
              "├──────────────────────────────────────┼─────────────────────────────┼─────────────────┤\n",
              "│ dense_2 (<span style=\"color: #0087ff; text-decoration-color: #0087ff\">Dense</span>)                      │ (<span style=\"color: #00d7ff; text-decoration-color: #00d7ff\">None</span>, <span style=\"color: #00af00; text-decoration-color: #00af00\">99</span>)                  │         <span style=\"color: #00af00; text-decoration-color: #00af00\">101,475</span> │\n",
              "└──────────────────────────────────────┴─────────────────────────────┴─────────────────┘\n",
              "</pre>\n"
            ]
          },
          "metadata": {}
        },
        {
          "output_type": "display_data",
          "data": {
            "text/plain": [
              "\u001b[1m Total params: \u001b[0m\u001b[38;5;34m27,499,875\u001b[0m (104.90 MB)\n"
            ],
            "text/html": [
              "<pre style=\"white-space:pre;overflow-x:auto;line-height:normal;font-family:Menlo,'DejaVu Sans Mono',consolas,'Courier New',monospace\"><span style=\"font-weight: bold\"> Total params: </span><span style=\"color: #00af00; text-decoration-color: #00af00\">27,499,875</span> (104.90 MB)\n",
              "</pre>\n"
            ]
          },
          "metadata": {}
        },
        {
          "output_type": "display_data",
          "data": {
            "text/plain": [
              "\u001b[1m Trainable params: \u001b[0m\u001b[38;5;34m27,499,875\u001b[0m (104.90 MB)\n"
            ],
            "text/html": [
              "<pre style=\"white-space:pre;overflow-x:auto;line-height:normal;font-family:Menlo,'DejaVu Sans Mono',consolas,'Courier New',monospace\"><span style=\"font-weight: bold\"> Trainable params: </span><span style=\"color: #00af00; text-decoration-color: #00af00\">27,499,875</span> (104.90 MB)\n",
              "</pre>\n"
            ]
          },
          "metadata": {}
        },
        {
          "output_type": "display_data",
          "data": {
            "text/plain": [
              "\u001b[1m Non-trainable params: \u001b[0m\u001b[38;5;34m0\u001b[0m (0.00 B)\n"
            ],
            "text/html": [
              "<pre style=\"white-space:pre;overflow-x:auto;line-height:normal;font-family:Menlo,'DejaVu Sans Mono',consolas,'Courier New',monospace\"><span style=\"font-weight: bold\"> Non-trainable params: </span><span style=\"color: #00af00; text-decoration-color: #00af00\">0</span> (0.00 B)\n",
              "</pre>\n"
            ]
          },
          "metadata": {}
        }
      ]
    },
    {
      "cell_type": "code",
      "source": [
        "#Ağın derlenmesi\n",
        "model.compile(loss=\"categorical_crossentropy\", optimizer=\"adam\", metrics=[\"accuracy\"])\n",
        "#Modelin eğitilmesi\n",
        "model.fit(X_train, y_train, epochs=15, validation_data=(X_valid,y_valid))"
      ],
      "metadata": {
        "colab": {
          "base_uri": "https://localhost:8080/"
        },
        "id": "8miqDm50Z6kx",
        "outputId": "dce81f5a-80fd-4514-8156-8d91e4f75418"
      },
      "execution_count": 12,
      "outputs": [
        {
          "output_type": "stream",
          "name": "stdout",
          "text": [
            "Epoch 1/15\n",
            "\u001b[1m28/28\u001b[0m \u001b[32m━━━━━━━━━━━━━━━━━━━━\u001b[0m\u001b[37m\u001b[0m \u001b[1m29s\u001b[0m 922ms/step - accuracy: 0.0969 - loss: 4.2826 - val_accuracy: 0.5253 - val_loss: 1.8149\n",
            "Epoch 2/15\n",
            "\u001b[1m28/28\u001b[0m \u001b[32m━━━━━━━━━━━━━━━━━━━━\u001b[0m\u001b[37m\u001b[0m \u001b[1m33s\u001b[0m 672ms/step - accuracy: 0.7142 - loss: 1.2120 - val_accuracy: 0.7475 - val_loss: 0.8352\n",
            "Epoch 3/15\n",
            "\u001b[1m28/28\u001b[0m \u001b[32m━━━━━━━━━━━━━━━━━━━━\u001b[0m\u001b[37m\u001b[0m \u001b[1m21s\u001b[0m 748ms/step - accuracy: 0.8727 - loss: 0.4789 - val_accuracy: 0.8081 - val_loss: 0.7628\n",
            "Epoch 4/15\n",
            "\u001b[1m28/28\u001b[0m \u001b[32m━━━━━━━━━━━━━━━━━━━━\u001b[0m\u001b[37m\u001b[0m \u001b[1m52s\u001b[0m 1s/step - accuracy: 0.9314 - loss: 0.2899 - val_accuracy: 0.8990 - val_loss: 0.4881\n",
            "Epoch 5/15\n",
            "\u001b[1m28/28\u001b[0m \u001b[32m━━━━━━━━━━━━━━━━━━━━\u001b[0m\u001b[37m\u001b[0m \u001b[1m29s\u001b[0m 731ms/step - accuracy: 0.9391 - loss: 0.2172 - val_accuracy: 0.9293 - val_loss: 0.3364\n",
            "Epoch 6/15\n",
            "\u001b[1m28/28\u001b[0m \u001b[32m━━━━━━━━━━━━━━━━━━━━\u001b[0m\u001b[37m\u001b[0m \u001b[1m19s\u001b[0m 683ms/step - accuracy: 0.9836 - loss: 0.0633 - val_accuracy: 0.9192 - val_loss: 0.6629\n",
            "Epoch 7/15\n",
            "\u001b[1m28/28\u001b[0m \u001b[32m━━━━━━━━━━━━━━━━━━━━\u001b[0m\u001b[37m\u001b[0m \u001b[1m27s\u001b[0m 922ms/step - accuracy: 0.9734 - loss: 0.0986 - val_accuracy: 0.9192 - val_loss: 0.2417\n",
            "Epoch 8/15\n",
            "\u001b[1m28/28\u001b[0m \u001b[32m━━━━━━━━━━━━━━━━━━━━\u001b[0m\u001b[37m\u001b[0m \u001b[1m45s\u001b[0m 1s/step - accuracy: 0.9862 - loss: 0.1005 - val_accuracy: 0.9394 - val_loss: 0.3541\n",
            "Epoch 9/15\n",
            "\u001b[1m28/28\u001b[0m \u001b[32m━━━━━━━━━━━━━━━━━━━━\u001b[0m\u001b[37m\u001b[0m \u001b[1m48s\u001b[0m 1s/step - accuracy: 0.9977 - loss: 0.0155 - val_accuracy: 0.9293 - val_loss: 0.3741\n",
            "Epoch 10/15\n",
            "\u001b[1m28/28\u001b[0m \u001b[32m━━━━━━━━━━━━━━━━━━━━\u001b[0m\u001b[37m\u001b[0m \u001b[1m34s\u001b[0m 1s/step - accuracy: 0.9927 - loss: 0.0154 - val_accuracy: 0.9091 - val_loss: 0.3154\n",
            "Epoch 11/15\n",
            "\u001b[1m28/28\u001b[0m \u001b[32m━━━━━━━━━━━━━━━━━━━━\u001b[0m\u001b[37m\u001b[0m \u001b[1m42s\u001b[0m 1s/step - accuracy: 0.9887 - loss: 0.0357 - val_accuracy: 0.9091 - val_loss: 0.6006\n",
            "Epoch 12/15\n",
            "\u001b[1m28/28\u001b[0m \u001b[32m━━━━━━━━━━━━━━━━━━━━\u001b[0m\u001b[37m\u001b[0m \u001b[1m38s\u001b[0m 984ms/step - accuracy: 0.9734 - loss: 0.1908 - val_accuracy: 0.8990 - val_loss: 0.3238\n",
            "Epoch 13/15\n",
            "\u001b[1m28/28\u001b[0m \u001b[32m━━━━━━━━━━━━━━━━━━━━\u001b[0m\u001b[37m\u001b[0m \u001b[1m23s\u001b[0m 817ms/step - accuracy: 1.0000 - loss: 0.0118 - val_accuracy: 0.9394 - val_loss: 0.2753\n",
            "Epoch 14/15\n",
            "\u001b[1m28/28\u001b[0m \u001b[32m━━━━━━━━━━━━━━━━━━━━\u001b[0m\u001b[37m\u001b[0m \u001b[1m29s\u001b[0m 1s/step - accuracy: 1.0000 - loss: 8.1643e-04 - val_accuracy: 0.9596 - val_loss: 0.3080\n",
            "Epoch 15/15\n",
            "\u001b[1m28/28\u001b[0m \u001b[32m━━━━━━━━━━━━━━━━━━━━\u001b[0m\u001b[37m\u001b[0m \u001b[1m38s\u001b[0m 913ms/step - accuracy: 1.0000 - loss: 9.6836e-04 - val_accuracy: 0.9596 - val_loss: 0.2264\n"
          ]
        },
        {
          "output_type": "execute_result",
          "data": {
            "text/plain": [
              "<keras.src.callbacks.history.History at 0x78fb5cf17970>"
            ]
          },
          "metadata": {},
          "execution_count": 12
        }
      ]
    },
    {
      "cell_type": "code",
      "source": [
        "#Ortalama değerlerin gösterilmesi\n",
        "print((\"Ortalama Eğitim Kaybı: \", np.mean(model.history.history[\"loss\"])))\n",
        "print((\"Ortalama Eğitim Basarım: \", np.mean(model.history.history[\"accuracy\"])))\n",
        "print((\"Ortalama Doğrulama Kaybı: \", np.mean(model.history.history[\"val_loss\"])))\n",
        "print((\"Ortalama Doğrulama Başarım: \", np.mean(model.history.history[\"val_accuracy\"])))"
      ],
      "metadata": {
        "colab": {
          "base_uri": "https://localhost:8080/"
        },
        "id": "mZJZNPN2aPjY",
        "outputId": "0c129672-586b-4d60-aa33-5352dcee624c"
      },
      "execution_count": 13,
      "outputs": [
        {
          "output_type": "stream",
          "name": "stdout",
          "text": [
            "('Ortalama Eğitim Kaybı: ', 0.4034060395594376)\n",
            "('Ortalama Eğitim Basarım: ', 0.9079685737689336)\n",
            "('Ortalama Doğrulama Kaybı: ', 0.5279630899429322)\n",
            "('Ortalama Doğrulama Başarım: ', 0.8794612805048625)\n"
          ]
        }
      ]
    },
    {
      "cell_type": "code",
      "source": [
        "#Değerlerin grafik üzerinde gösterilmesi\n",
        "import matplotlib.pyplot as plt\n",
        "fig, (ax1, ax2) = plt.subplots (2, 1, figsize=(15, 15))\n",
        "ax1.plot(model.history.history['val_loss'], color='y', label=\"Doğrulama kaybı\")\n",
        "ax1.plot(model.history.history['loss'], color='g', label=\"Eğitim kaybı\" )\n",
        "ax1.set_xticks (np.arange(20, 100, 20))\n",
        "ax2.plot(model.history.history['accuracy'], color='b', label=\"Eğitim başarımı\")\n",
        "ax2.plot(model.history.history['val_accuracy'], color='r', label=\"Doğrulama başarımı\")\n",
        "ax2.set_xticks (np.arange(20, 100, 20))\n",
        "plt.legend()\n",
        "plt.show()"
      ],
      "metadata": {
        "colab": {
          "base_uri": "https://localhost:8080/",
          "height": 673
        },
        "id": "c4BcmnSNalKY",
        "outputId": "3e4c9372-73b4-4400-f1b3-bbcede64f87c"
      },
      "execution_count": 14,
      "outputs": [
        {
          "output_type": "display_data",
          "data": {
            "text/plain": [
              "<Figure size 1500x1500 with 2 Axes>"
            ],
            "image/png": "[encoded data removed]"
          },
          "metadata": {}
        }
      ]
    },
    {
      "cell_type": "markdown",
      "source": [
        "**Task1**"
      ],
      "metadata": {
        "id": "R4O_VZeGlrpm"
      }
    },
    {
      "cell_type": "code",
      "source": [
        "import numpy as np\n",
        "import pandas as pd\n",
        "from sklearn.preprocessing import LabelEncoder, StandardScaler\n",
        "from sklearn.model_selection import train_test_split\n",
        "from tensorflow.keras.models import Sequential\n",
        "from tensorflow.keras.layers import Dense, Activation, Conv1D, MaxPooling1D, Dropout, Flatten, Input\n",
        "from tensorflow.keras.utils import to_categorical"
      ],
      "metadata": {
        "id": "_m8lJFv2lrT0"
      },
      "execution_count": 15,
      "outputs": []
    },
    {
      "cell_type": "code",
      "source": [
        "train = pd.read_csv('/content/train1.csv')\n",
        "test = pd.read_csv('/content/test1.csv')"
      ],
      "metadata": {
        "id": "8rn0h_unlz_S"
      },
      "execution_count": 16,
      "outputs": []
    },
    {
      "cell_type": "code",
      "source": [
        "label_encoder = LabelEncoder().fit(train['species'])\n",
        "labels = label_encoder.transform(train['species'])\n",
        "classes = list(label_encoder.classes_)"
      ],
      "metadata": {
        "id": "pWAc9YILl1pL"
      },
      "execution_count": 17,
      "outputs": []
    },
    {
      "cell_type": "code",
      "source": [
        "train.drop([\"id\", \"species\"], axis=1, inplace=True)\n",
        "test.drop([\"id\"], axis=1, inplace=True)\n",
        "nb_features = 192\n",
        "nb_classes = len(classes)"
      ],
      "metadata": {
        "id": "eDyxhx7il3lo"
      },
      "execution_count": 18,
      "outputs": []
    },
    {
      "cell_type": "code",
      "source": [
        "for column in train.columns:\n",
        "    if train[column].dtype == 'object':\n",
        "        train[column] = label_encoder.fit_transform(train[column])"
      ],
      "metadata": {
        "id": "-onXL_Lol5e8"
      },
      "execution_count": 19,
      "outputs": []
    },
    {
      "cell_type": "code",
      "source": [
        "scaler = StandardScaler().fit(train)\n",
        "train = scaler.transform(train)"
      ],
      "metadata": {
        "id": "Fh3sSEn5l7xt"
      },
      "execution_count": 20,
      "outputs": []
    },
    {
      "cell_type": "code",
      "source": [
        "X_train, X_valid, y_train, y_valid = train_test_split(train, labels, test_size=0.1, random_state=42)\n",
        "y_train = to_categorical(y_train, nb_classes)\n",
        "y_valid = to_categorical(y_valid, nb_classes)"
      ],
      "metadata": {
        "id": "5FegvaFSl9aX"
      },
      "execution_count": 21,
      "outputs": []
    },
    {
      "cell_type": "code",
      "source": [
        "X_train = X_train.reshape(X_train.shape[0], nb_features, 1)\n",
        "X_valid = X_valid.reshape(X_valid.shape[0], nb_features, 1)"
      ],
      "metadata": {
        "id": "UnRVkuIil_X6"
      },
      "execution_count": 22,
      "outputs": []
    },
    {
      "cell_type": "code",
      "source": [
        "model = Sequential([\n",
        "    Input(shape=(nb_features, 1)),\n",
        "    Conv1D(512, kernel_size=1, activation=\"relu\"),\n",
        "    MaxPooling1D(2),\n",
        "    Conv1D(256, kernel_size=1, activation=\"relu\"),\n",
        "    MaxPooling1D(2),\n",
        "    Dropout(0.25),\n",
        "    Flatten(),\n",
        "    Dense(2048, activation=\"relu\"),\n",
        "    Dense(1024, activation=\"relu\"),\n",
        "    Dense(nb_classes, activation=\"softmax\")\n",
        "])"
      ],
      "metadata": {
        "id": "vlRIM6KImBje"
      },
      "execution_count": 23,
      "outputs": []
    },
    {
      "cell_type": "code",
      "source": [
        "model.compile(loss=\"categorical_crossentropy\", optimizer=\"adam\", metrics=[\"accuracy\"])\n"
      ],
      "metadata": {
        "id": "aYmiHmaBmCRL"
      },
      "execution_count": 24,
      "outputs": []
    },
    {
      "cell_type": "code",
      "source": [
        "model.compile(loss=\"categorical_crossentropy\", optimizer=\"adam\", metrics=[\"accuracy\"])\n"
      ],
      "metadata": {
        "id": "Et6V915QmFqE"
      },
      "execution_count": 25,
      "outputs": []
    },
    {
      "cell_type": "markdown",
      "source": [
        "**Task2**"
      ],
      "metadata": {
        "id": "SSe89cvZmpLK"
      }
    },
    {
      "cell_type": "code",
      "source": [
        "from sklearn.model_selection import KFold"
      ],
      "metadata": {
        "id": "LU-3PZM4mIp-"
      },
      "execution_count": 26,
      "outputs": []
    },
    {
      "cell_type": "code",
      "source": [
        "kfold = KFold(n_splits=5, shuffle=True, random_state=42)\n",
        "cvscores = []"
      ],
      "metadata": {
        "id": "RmWPNM2gmKkV"
      },
      "execution_count": 27,
      "outputs": []
    },
    {
      "cell_type": "code",
      "source": [
        "for train_idx, val_idx in kfold.split(X_train, y_train):\n",
        "    model = Sequential([\n",
        "        Input(shape=(nb_features, 1)),\n",
        "        Conv1D(512, kernel_size=1, activation=\"relu\"),\n",
        "        MaxPooling1D(2),\n",
        "        Conv1D(256, kernel_size=1, activation=\"relu\"),\n",
        "        MaxPooling1D(2),\n",
        "        Dropout(0.25),\n",
        "        Flatten(),\n",
        "        Dense(2048, activation=\"relu\"),\n",
        "        Dense(1024, activation=\"relu\"),\n",
        "        Dense(nb_classes, activation=\"softmax\")\n",
        "    ])"
      ],
      "metadata": {
        "id": "fh9dRLCtmNWG"
      },
      "execution_count": 28,
      "outputs": []
    },
    {
      "cell_type": "code",
      "source": [
        "model.compile(loss=\"categorical_crossentropy\", optimizer=\"adam\", metrics=[\"accuracy\"])\n",
        "model.fit(X_train[train_idx], y_train[train_idx], epochs=15, validation_data=(X_train[val_idx], y_train[val_idx]), verbose=0)\n",
        "scores = model.evaluate(X_train[val_idx], y_train[val_idx], verbose=0)\n",
        "cvscores.append(scores[1] * 100)"
      ],
      "metadata": {
        "id": "1ywSr2GMmOON"
      },
      "execution_count": 31,
      "outputs": []
    },
    {
      "cell_type": "code",
      "source": [
        "print(\"Cross-Validation Accuracy: %.2f%% (+/- %.2f%%)\" % (np.mean(cvscores), np.std(cvscores)))"
      ],
      "metadata": {
        "colab": {
          "base_uri": "https://localhost:8080/"
        },
        "id": "iXHI_bRtmVUc",
        "outputId": "d9d76672-3837-471a-fbbd-8a78614454f6"
      },
      "execution_count": 32,
      "outputs": [
        {
          "output_type": "stream",
          "name": "stdout",
          "text": [
            "Cross-Validation Accuracy: 86.52% (+/- 0.00%)\n"
          ]
        }
      ]
    },
    {
      "cell_type": "markdown",
      "source": [
        "**Task3**"
      ],
      "metadata": {
        "id": "GnAsPJMNmsYF"
      }
    },
    {
      "cell_type": "code",
      "source": [
        "from sklearn.metrics import classification_report, confusion_matrix"
      ],
      "metadata": {
        "id": "4JmK_vPwmXLX"
      },
      "execution_count": 33,
      "outputs": []
    },
    {
      "cell_type": "code",
      "source": [
        "y_pred = model.predict(X_valid)\n",
        "y_pred_classes = np.argmax(y_pred, axis=1)\n",
        "y_true = np.argmax(y_valid, axis=1)"
      ],
      "metadata": {
        "colab": {
          "base_uri": "https://localhost:8080/"
        },
        "id": "KzFw-2xzmd91",
        "outputId": "54171b33-1084-4319-e833-7c494958a920"
      },
      "execution_count": 40,
      "outputs": [
        {
          "output_type": "stream",
          "name": "stdout",
          "text": [
            "\u001b[1m4/4\u001b[0m \u001b[32m━━━━━━━━━━━━━━━━━━━━\u001b[0m\u001b[37m\u001b[0m \u001b[1m0s\u001b[0m 59ms/step\n"
          ]
        }
      ]
    },
    {
      "cell_type": "code",
      "source": [
        "unique_classes = np.unique(np.concatenate((y_true, y_pred_classes)))\n",
        "target_names = [f\"class_{i}\" for i in unique_classes]\n",
        "report = classification_report(y_true, y_pred_classes, target_names=target_names)\n",
        "print(report)"
      ],
      "metadata": {
        "colab": {
          "base_uri": "https://localhost:8080/"
        },
        "id": "6LPi4GFqmgO1",
        "outputId": "17dcd36a-503f-496b-e751-e1cc790c4d1f"
      },
      "execution_count": 41,
      "outputs": [
        {
          "output_type": "stream",
          "name": "stdout",
          "text": [
            "              precision    recall  f1-score   support\n",
            "\n",
            "     class_0       0.00      0.00      0.00         0\n",
            "     class_3       0.00      0.00      0.00         0\n",
            "     class_5       1.00      1.00      1.00         3\n",
            "     class_9       1.00      1.00      1.00         2\n",
            "    class_10       1.00      1.00      1.00         1\n",
            "    class_11       1.00      1.00      1.00         1\n",
            "    class_13       1.00      1.00      1.00         1\n",
            "    class_15       1.00      1.00      1.00         1\n",
            "    class_17       1.00      1.00      1.00         2\n",
            "    class_19       1.00      0.50      0.67         2\n",
            "    class_20       1.00      1.00      1.00         3\n",
            "    class_21       1.00      1.00      1.00         1\n",
            "    class_22       1.00      1.00      1.00         1\n",
            "    class_25       1.00      1.00      1.00         1\n",
            "    class_26       1.00      1.00      1.00         2\n",
            "    class_27       1.00      1.00      1.00         1\n",
            "    class_30       1.00      1.00      1.00         1\n",
            "    class_32       1.00      1.00      1.00         2\n",
            "    class_33       1.00      1.00      1.00         2\n",
            "    class_34       1.00      1.00      1.00         1\n",
            "    class_36       1.00      1.00      1.00         2\n",
            "    class_37       1.00      1.00      1.00         1\n",
            "    class_38       1.00      1.00      1.00         1\n",
            "    class_39       1.00      1.00      1.00         2\n",
            "    class_40       1.00      1.00      1.00         2\n",
            "    class_41       1.00      1.00      1.00         2\n",
            "    class_43       0.00      0.00      0.00         1\n",
            "    class_45       1.00      1.00      1.00         4\n",
            "    class_47       0.00      0.00      0.00         0\n",
            "    class_48       1.00      0.50      0.67         2\n",
            "    class_49       1.00      1.00      1.00         1\n",
            "    class_50       1.00      1.00      1.00         1\n",
            "    class_52       1.00      0.60      0.75         5\n",
            "    class_53       1.00      1.00      1.00         1\n",
            "    class_54       1.00      1.00      1.00         2\n",
            "    class_55       1.00      1.00      1.00         1\n",
            "    class_58       1.00      1.00      1.00         1\n",
            "    class_59       1.00      1.00      1.00         1\n",
            "    class_60       0.67      1.00      0.80         2\n",
            "    class_61       1.00      1.00      1.00         1\n",
            "    class_62       0.00      0.00      0.00         0\n",
            "    class_64       1.00      1.00      1.00         1\n",
            "    class_65       1.00      0.50      0.67         2\n",
            "    class_66       1.00      1.00      1.00         2\n",
            "    class_67       1.00      1.00      1.00         2\n",
            "    class_70       0.50      1.00      0.67         1\n",
            "    class_71       1.00      1.00      1.00         1\n",
            "    class_72       1.00      1.00      1.00         2\n",
            "    class_73       0.00      0.00      0.00         1\n",
            "    class_74       1.00      1.00      1.00         1\n",
            "    class_75       1.00      1.00      1.00         1\n",
            "    class_76       1.00      1.00      1.00         2\n",
            "    class_78       1.00      1.00      1.00         2\n",
            "    class_79       0.00      0.00      0.00         1\n",
            "    class_80       1.00      1.00      1.00         1\n",
            "    class_81       1.00      1.00      1.00         1\n",
            "    class_83       1.00      1.00      1.00         2\n",
            "    class_85       1.00      1.00      1.00         2\n",
            "    class_88       1.00      1.00      1.00         1\n",
            "    class_89       1.00      1.00      1.00         3\n",
            "    class_91       1.00      1.00      1.00         1\n",
            "    class_92       1.00      1.00      1.00         1\n",
            "    class_93       1.00      1.00      1.00         1\n",
            "    class_95       1.00      1.00      1.00         2\n",
            "    class_96       0.00      0.00      0.00         0\n",
            "    class_97       1.00      1.00      1.00         2\n",
            "    class_98       0.67      1.00      0.80         2\n",
            "\n",
            "    accuracy                           0.92        99\n",
            "   macro avg       0.86      0.85      0.85        99\n",
            "weighted avg       0.95      0.92      0.93        99\n",
            "\n"
          ]
        },
        {
          "output_type": "stream",
          "name": "stderr",
          "text": [
            "/usr/local/lib/python3.10/dist-packages/sklearn/metrics/_classification.py:1531: UndefinedMetricWarning: Precision is ill-defined and being set to 0.0 in labels with no predicted samples. Use `zero_division` parameter to control this behavior.\n",
            "  _warn_prf(average, modifier, f\"{metric.capitalize()} is\", len(result))\n",
            "/usr/local/lib/python3.10/dist-packages/sklearn/metrics/_classification.py:1531: UndefinedMetricWarning: Recall is ill-defined and being set to 0.0 in labels with no true samples. Use `zero_division` parameter to control this behavior.\n",
            "  _warn_prf(average, modifier, f\"{metric.capitalize()} is\", len(result))\n",
            "/usr/local/lib/python3.10/dist-packages/sklearn/metrics/_classification.py:1531: UndefinedMetricWarning: Precision is ill-defined and being set to 0.0 in labels with no predicted samples. Use `zero_division` parameter to control this behavior.\n",
            "  _warn_prf(average, modifier, f\"{metric.capitalize()} is\", len(result))\n",
            "/usr/local/lib/python3.10/dist-packages/sklearn/metrics/_classification.py:1531: UndefinedMetricWarning: Recall is ill-defined and being set to 0.0 in labels with no true samples. Use `zero_division` parameter to control this behavior.\n",
            "  _warn_prf(average, modifier, f\"{metric.capitalize()} is\", len(result))\n",
            "/usr/local/lib/python3.10/dist-packages/sklearn/metrics/_classification.py:1531: UndefinedMetricWarning: Precision is ill-defined and being set to 0.0 in labels with no predicted samples. Use `zero_division` parameter to control this behavior.\n",
            "  _warn_prf(average, modifier, f\"{metric.capitalize()} is\", len(result))\n",
            "/usr/local/lib/python3.10/dist-packages/sklearn/metrics/_classification.py:1531: UndefinedMetricWarning: Recall is ill-defined and being set to 0.0 in labels with no true samples. Use `zero_division` parameter to control this behavior.\n",
            "  _warn_prf(average, modifier, f\"{metric.capitalize()} is\", len(result))\n"
          ]
        }
      ]
    },
    {
      "cell_type": "code",
      "source": [
        "cm = confusion_matrix(y_true, y_pred_classes)\n",
        "specificity = cm[1,1] / (cm[1,0] + cm[1,1])\n",
        "print(\"Specificity:\", specificity)"
      ],
      "metadata": {
        "colab": {
          "base_uri": "https://localhost:8080/"
        },
        "id": "YRAHUgjRmjJB",
        "outputId": "cb938478-321d-4e11-bf8c-b6850332c303"
      },
      "execution_count": 42,
      "outputs": [
        {
          "output_type": "stream",
          "name": "stdout",
          "text": [
            "Specificity: nan\n"
          ]
        },
        {
          "output_type": "stream",
          "name": "stderr",
          "text": [
            "<ipython-input-42-259883884f8e>:2: RuntimeWarning: invalid value encountered in scalar divide\n",
            "  specificity = cm[1,1] / (cm[1,0] + cm[1,1])\n"
          ]
        }
      ]
    },
    {
      "cell_type": "markdown",
      "source": [
        "**Task4**"
      ],
      "metadata": {
        "id": "Yi1WgKUzmvXa"
      }
    },
    {
      "cell_type": "code",
      "source": [
        "from sklearn.datasets import load_diabetes\n",
        "from tensorflow.keras.models import Sequential\n",
        "from tensorflow.keras.layers import Dense\n",
        "from tensorflow.keras.layers import Input, Conv1D, MaxPooling1D, Dropout, Dense, GlobalMaxPooling1D"
      ],
      "metadata": {
        "id": "ammPNzSrrieZ"
      },
      "execution_count": 69,
      "outputs": []
    },
    {
      "cell_type": "code",
      "source": [
        "diabetes_data = load_diabetes()\n",
        "X = diabetes_data.data"
      ],
      "metadata": {
        "id": "RehArTgdrl-8"
      },
      "execution_count": 70,
      "outputs": []
    },
    {
      "cell_type": "code",
      "source": [
        "model = Sequential([\n",
        "    Input(shape=(nb_features, 1)),\n",
        "    Conv1D(512, kernel_size=1, activation=\"relu\"),\n",
        "    MaxPooling1D(2),\n",
        "    Conv1D(256, kernel_size=1, activation=\"relu\"),\n",
        "    MaxPooling1D(2),\n",
        "    Dropout(0.25),\n",
        "    GlobalMaxPooling1D(),\n",
        "    Dense(2048, activation=\"relu\"),\n",
        "    Dense(1024, activation=\"relu\"),\n",
        "    Dense(nb_classes, activation=\"softmax\")\n",
        "])\n"
      ],
      "metadata": {
        "id": "yT9j422HmuyP"
      },
      "execution_count": 88,
      "outputs": []
    },
    {
      "cell_type": "code",
      "source": [
        "model.compile(loss=\"binary_crossentropy\", optimizer=\"adam\", metrics=[\"accuracy\"])\n",
        "model.add(Dropout(0.5))\n"
      ],
      "metadata": {
        "id": "IdpMIEDtm4f1"
      },
      "execution_count": 89,
      "outputs": []
    },
    {
      "cell_type": "code",
      "source": [
        "X_train = X_train.reshape(X_train.shape[0], X_train.shape[1], 1)\n",
        "X_valid = X_valid.reshape(X_valid.shape[0], X_valid.shape[1], 1)\n"
      ],
      "metadata": {
        "id": "aBh33G1Duuqo"
      },
      "execution_count": 90,
      "outputs": []
    },
    {
      "cell_type": "code",
      "source": [
        "print(\"Reshaped X_train shape:\", X_train.shape)\n",
        "print(\"Reshaped X_valid shape:\", X_valid.shape)\n"
      ],
      "metadata": {
        "colab": {
          "base_uri": "https://localhost:8080/"
        },
        "id": "JGQNh_epvDfw",
        "outputId": "94c0c0a2-0bc5-4cb9-e336-9b871eec9d76"
      },
      "execution_count": 91,
      "outputs": [
        {
          "output_type": "stream",
          "name": "stdout",
          "text": [
            "Reshaped X_train shape: (891, 192, 1)\n",
            "Reshaped X_valid shape: (99, 192, 1)\n"
          ]
        }
      ]
    },
    {
      "cell_type": "code",
      "source": [
        "from tensorflow.keras.regularizers import l2\n",
        "Dense(64, activation=\"relu\", kernel_regularizer=l2(0.01))"
      ],
      "metadata": {
        "colab": {
          "base_uri": "https://localhost:8080/"
        },
        "id": "7lmkVg-L0s0x",
        "outputId": "d2ee2ebb-914d-423a-fd52-29bd0118d6a0"
      },
      "execution_count": 95,
      "outputs": [
        {
          "output_type": "execute_result",
          "data": {
            "text/plain": [
              "<Dense name=dense_31, built=False>"
            ]
          },
          "metadata": {},
          "execution_count": 95
        }
      ]
    },
    {
      "cell_type": "code",
      "source": [
        "from tensorflow.keras.layers import BatchNormalization\n",
        "model.add(BatchNormalization())\n"
      ],
      "metadata": {
        "id": "Vflv3kUA00_N"
      },
      "execution_count": 96,
      "outputs": []
    },
    {
      "cell_type": "code",
      "source": [
        "from tensorflow.keras.callbacks import EarlyStopping\n",
        "early_stopping = EarlyStopping(monitor=\"val_loss\", patience=5, restore_best_weights=True)\n",
        "history = model.fit(X_train, y_train, epochs=50, validation_data=(X_valid, y_valid), callbacks=[early_stopping])\n"
      ],
      "metadata": {
        "colab": {
          "base_uri": "https://localhost:8080/"
        },
        "id": "rVyp5z60m9jj",
        "outputId": "0c016d77-b3e2-4798-d85a-1a82bb70eccd"
      },
      "execution_count": 103,
      "outputs": [
        {
          "output_type": "stream",
          "name": "stdout",
          "text": [
            "Epoch 1/50\n",
            "\u001b[1m28/28\u001b[0m \u001b[32m━━━━━━━━━━━━━━━━━━━━\u001b[0m\u001b[37m\u001b[0m \u001b[1m5s\u001b[0m 159ms/step - accuracy: 0.0682 - loss: 0.1062 - val_accuracy: 0.0404 - val_loss: 0.3470\n",
            "Epoch 2/50\n",
            "\u001b[1m28/28\u001b[0m \u001b[32m━━━━━━━━━━━━━━━━━━━━\u001b[0m\u001b[37m\u001b[0m \u001b[1m5s\u001b[0m 148ms/step - accuracy: 0.0878 - loss: 0.1055 - val_accuracy: 0.0707 - val_loss: 0.3766\n",
            "Epoch 3/50\n",
            "\u001b[1m28/28\u001b[0m \u001b[32m━━━━━━━━━━━━━━━━━━━━\u001b[0m\u001b[37m\u001b[0m \u001b[1m5s\u001b[0m 174ms/step - accuracy: 0.1081 - loss: 0.1046 - val_accuracy: 0.0606 - val_loss: 0.3576\n",
            "Epoch 4/50\n",
            "\u001b[1m28/28\u001b[0m \u001b[32m━━━━━━━━━━━━━━━━━━━━\u001b[0m\u001b[37m\u001b[0m \u001b[1m4s\u001b[0m 135ms/step - accuracy: 0.1025 - loss: 0.1065 - val_accuracy: 0.1313 - val_loss: 0.3769\n",
            "Epoch 5/50\n",
            "\u001b[1m28/28\u001b[0m \u001b[32m━━━━━━━━━━━━━━━━━━━━\u001b[0m\u001b[37m\u001b[0m \u001b[1m6s\u001b[0m 159ms/step - accuracy: 0.1050 - loss: 0.1090 - val_accuracy: 0.0707 - val_loss: 0.3487\n",
            "Epoch 6/50\n",
            "\u001b[1m28/28\u001b[0m \u001b[32m━━━━━━━━━━━━━━━━━━━━\u001b[0m\u001b[37m\u001b[0m \u001b[1m5s\u001b[0m 149ms/step - accuracy: 0.1300 - loss: 0.1041 - val_accuracy: 0.0606 - val_loss: 0.3397\n",
            "Epoch 7/50\n",
            "\u001b[1m28/28\u001b[0m \u001b[32m━━━━━━━━━━━━━━━━━━━━\u001b[0m\u001b[37m\u001b[0m \u001b[1m4s\u001b[0m 136ms/step - accuracy: 0.0847 - loss: 0.1052 - val_accuracy: 0.0606 - val_loss: 0.3505\n",
            "Epoch 8/50\n",
            "\u001b[1m28/28\u001b[0m \u001b[32m━━━━━━━━━━━━━━━━━━━━\u001b[0m\u001b[37m\u001b[0m \u001b[1m6s\u001b[0m 177ms/step - accuracy: 0.0909 - loss: 0.1051 - val_accuracy: 0.0505 - val_loss: 0.3476\n",
            "Epoch 9/50\n",
            "\u001b[1m28/28\u001b[0m \u001b[32m━━━━━━━━━━━━━━━━━━━━\u001b[0m\u001b[37m\u001b[0m \u001b[1m4s\u001b[0m 140ms/step - accuracy: 0.0724 - loss: 0.1126 - val_accuracy: 0.1010 - val_loss: 0.3378\n",
            "Epoch 10/50\n",
            "\u001b[1m28/28\u001b[0m \u001b[32m━━━━━━━━━━━━━━━━━━━━\u001b[0m\u001b[37m\u001b[0m \u001b[1m5s\u001b[0m 140ms/step - accuracy: 0.1144 - loss: 0.1009 - val_accuracy: 0.1313 - val_loss: 0.3191\n",
            "Epoch 11/50\n",
            "\u001b[1m28/28\u001b[0m \u001b[32m━━━━━━━━━━━━━━━━━━━━\u001b[0m\u001b[37m\u001b[0m \u001b[1m7s\u001b[0m 198ms/step - accuracy: 0.0952 - loss: 0.1070 - val_accuracy: 0.0404 - val_loss: 0.3590\n",
            "Epoch 12/50\n",
            "\u001b[1m28/28\u001b[0m \u001b[32m━━━━━━━━━━━━━━━━━━━━\u001b[0m\u001b[37m\u001b[0m \u001b[1m9s\u001b[0m 138ms/step - accuracy: 0.0974 - loss: 0.1000 - val_accuracy: 0.0707 - val_loss: 0.3461\n",
            "Epoch 13/50\n",
            "\u001b[1m28/28\u001b[0m \u001b[32m━━━━━━━━━━━━━━━━━━━━\u001b[0m\u001b[37m\u001b[0m \u001b[1m6s\u001b[0m 199ms/step - accuracy: 0.1162 - loss: 0.1098 - val_accuracy: 0.0606 - val_loss: 0.3608\n",
            "Epoch 14/50\n",
            "\u001b[1m28/28\u001b[0m \u001b[32m━━━━━━━━━━━━━━━━━━━━\u001b[0m\u001b[37m\u001b[0m \u001b[1m4s\u001b[0m 138ms/step - accuracy: 0.1110 - loss: 0.1033 - val_accuracy: 0.0606 - val_loss: 0.3702\n",
            "Epoch 15/50\n",
            "\u001b[1m28/28\u001b[0m \u001b[32m━━━━━━━━━━━━━━━━━━━━\u001b[0m\u001b[37m\u001b[0m \u001b[1m5s\u001b[0m 139ms/step - accuracy: 0.1166 - loss: 0.1061 - val_accuracy: 0.0505 - val_loss: 0.3462\n"
          ]
        }
      ]
    },
    {
      "cell_type": "code",
      "source": [
        "import matplotlib.pyplot as plt\n"
      ],
      "metadata": {
        "id": "V2X7mTbJm_xi"
      },
      "execution_count": 105,
      "outputs": []
    },
    {
      "cell_type": "code",
      "source": [
        "fig, (ax1, ax2) = plt.subplots(2, 1, figsize=(15, 15))\n",
        "ax1.plot(history.history['val_loss'], color='y', label=\"Validation Loss\")\n",
        "ax1.plot(history.history['loss'], color='g', label=\"Training Loss\")\n",
        "ax1.legend()\n",
        "\n",
        "\n",
        "ax2.plot(history.history['accuracy'], color='b', label=\"Training Accuracy\")\n",
        "ax2.plot(history.history['val_accuracy'], color='r', label=\"Validation Accuracy\")\n",
        "ax2.legend()\n",
        "plt.show()"
      ],
      "metadata": {
        "colab": {
          "base_uri": "https://localhost:8080/",
          "height": 673
        },
        "id": "lIw385tBnBmc",
        "outputId": "3f8de8f9-59ea-4480-b7a7-2fc563d6ae4b"
      },
      "execution_count": 106,
      "outputs": [
        {
          "output_type": "display_data",
          "data": {
            "text/plain": [
              "<Figure size 1500x1500 with 2 Axes>"
            ],
            "image/png": "[encoded data removed]"
          },
          "metadata": {}
        }
      ]
    },
    {
      "cell_type": "markdown",
      "source": [
        "**Task 5**"
      ],
      "metadata": {
        "id": "uQhnNSKOnJVz"
      }
    },
    {
      "cell_type": "code",
      "source": [
        "from tensorflow.keras.optimizers import Adam, SGD, RMSprop\n",
        "\n",
        "optimizers = {\n",
        "    'Adam': Adam(),\n",
        "    'SGD': SGD(),\n",
        "    'RMSprop': RMSprop()\n",
        "}"
      ],
      "metadata": {
        "id": "fkTQY0binIry"
      },
      "execution_count": 78,
      "outputs": []
    },
    {
      "cell_type": "code",
      "source": [
        "\n",
        "results = {}\n",
        "for name, opt in optimizers.items():\n",
        "    model.compile(loss=\"categorical_crossentropy\", optimizer=opt, metrics=[\"accuracy\"])\n",
        "    history = model.fit(X_train, y_train, epochs=15, validation_data=(X_valid, y_valid), verbose=0)\n",
        "    final_val_accuracy = history.history['val_accuracy'][-1]\n",
        "    results[name] = final_val_accuracy\n",
        "    print(f\"{name} Final Validation Accuracy: {final_val_accuracy:.4f}\")"
      ],
      "metadata": {
        "colab": {
          "base_uri": "https://localhost:8080/"
        },
        "id": "JUuEPIu6nejq",
        "outputId": "2709ed2c-8dcb-4b11-9a8b-b14dd22e9f12"
      },
      "execution_count": 79,
      "outputs": [
        {
          "output_type": "stream",
          "name": "stdout",
          "text": [
            "Adam Final Validation Accuracy: 0.1818\n",
            "SGD Final Validation Accuracy: 0.1818\n",
            "RMSprop Final Validation Accuracy: 0.1515\n"
          ]
        }
      ]
    },
    {
      "cell_type": "code",
      "source": [
        "\n",
        "best_optimizer = max(results, key=results.get)\n",
        "print(f\"Best Optimizer: {best_optimizer} with accuracy {results[best_optimizer]:.4f}\")"
      ],
      "metadata": {
        "colab": {
          "base_uri": "https://localhost:8080/"
        },
        "id": "EMVKuw6jnhAB",
        "outputId": "7588cb28-086a-40ba-9174-22c9787cb6f9"
      },
      "execution_count": 80,
      "outputs": [
        {
          "output_type": "stream",
          "name": "stdout",
          "text": [
            "Best Optimizer: Adam with accuracy 0.1818\n"
          ]
        }
      ]
    }
  ]
}