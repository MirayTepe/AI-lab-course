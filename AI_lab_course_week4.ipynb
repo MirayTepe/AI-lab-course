{
  "nbformat": 4,
  "nbformat_minor": 0,
  "metadata": {
    "colab": {
      "provenance": []
    },
    "kernelspec": {
      "name": "python3",
      "display_name": "Python 3"
    },
    "language_info": {
      "name": "python"
    }
  },
  "cells": [
    {
      "cell_type": "code",
      "source": [
        "!pip install -U scikit-fuzzy"
      ],
      "metadata": {
        "colab": {
          "base_uri": "https://localhost:8080/"
        },
        "id": "QoSxW1QyNxoZ",
        "outputId": "e2fbf8a0-5d94-441b-90d3-c3f82143a9cb"
      },
      "execution_count": 3,
      "outputs": [
        {
          "output_type": "stream",
          "name": "stdout",
          "text": [
            "Collecting scikit-fuzzy\n",
            "  Downloading scikit_fuzzy-0.5.0-py2.py3-none-any.whl.metadata (2.6 kB)\n",
            "Downloading scikit_fuzzy-0.5.0-py2.py3-none-any.whl (920 kB)\n",
            "\u001b[?25l   \u001b[90m━━━━━━━━━━━━━━━━━━━━━━━━━━━━━━━━━━━━━━━━\u001b[0m \u001b[32m0.0/920.8 kB\u001b[0m \u001b[31m?\u001b[0m eta \u001b[36m-:--:--\u001b[0m\r\u001b[2K   \u001b[91m━━━━━━\u001b[0m\u001b[91m╸\u001b[0m\u001b[90m━━━━━━━━━━━━━━━━━━━━━━━━━━━━━━━━━\u001b[0m \u001b[32m153.6/920.8 kB\u001b[0m \u001b[31m4.6 MB/s\u001b[0m eta \u001b[36m0:00:01\u001b[0m\r\u001b[2K   \u001b[91m━━━━━━━━━━━━━━━━━━━━━━━━━━━━━━━━━━━━━━━\u001b[0m\u001b[91m╸\u001b[0m \u001b[32m911.4/920.8 kB\u001b[0m \u001b[31m14.3 MB/s\u001b[0m eta \u001b[36m0:00:01\u001b[0m\r\u001b[2K   \u001b[90m━━━━━━━━━━━━━━━━━━━━━━━━━━━━━━━━━━━━━━━━\u001b[0m \u001b[32m920.8/920.8 kB\u001b[0m \u001b[31m11.0 MB/s\u001b[0m eta \u001b[36m0:00:00\u001b[0m\n",
            "\u001b[?25hInstalling collected packages: scikit-fuzzy\n",
            "Successfully installed scikit-fuzzy-0.5.0\n"
          ]
        }
      ]
    },
    {
      "cell_type": "code",
      "execution_count": 4,
      "metadata": {
        "id": "qUNhfxh7MLRW"
      },
      "outputs": [],
      "source": [
        "import numpy as np\n",
        "import skfuzzy as fuzz\n",
        "from skfuzzy import control as ctrl\n"
      ]
    },
    {
      "cell_type": "code",
      "source": [
        "load = ctrl.Antecedent(np.arange(0, 11, 1), 'load')\n",
        "dirtiness = ctrl.Antecedent(np.arange(0, 11, 1), 'dirtiness')\n",
        "dish_type = ctrl.Antecedent(np.arange(0, 11, 1), 'dish_type')"
      ],
      "metadata": {
        "id": "81a3EJadMlci"
      },
      "execution_count": 6,
      "outputs": []
    },
    {
      "cell_type": "code",
      "source": [
        "wash_time = ctrl.Consequent(np.arange(0, 101, 1), 'wash_time')\n",
        "detergent = ctrl.Consequent(np.arange(0, 101, 1), 'detergent')\n",
        "water_temp = ctrl.Consequent(np.arange(0, 101, 1), 'water_temp')"
      ],
      "metadata": {
        "id": "tt1xU8GUMmy3"
      },
      "execution_count": 8,
      "outputs": []
    },
    {
      "cell_type": "code",
      "source": [
        "load['low'] = fuzz.trimf(load.universe, [0, 0, 5])\n",
        "load['medium'] = fuzz.trimf(load.universe, [0, 5, 10])\n",
        "load['high'] = fuzz.trimf(load.universe, [5, 10, 10])\n"
      ],
      "metadata": {
        "id": "-gUnDQ1aMxjy"
      },
      "execution_count": 9,
      "outputs": []
    },
    {
      "cell_type": "code",
      "source": [
        "dirtiness['clean'] = fuzz.trimf(dirtiness.universe, [0, 0, 5])\n",
        "dirtiness['moderate'] = fuzz.trimf(dirtiness.universe, [0, 5, 10])\n",
        "dirtiness['dirty'] = fuzz.trimf(dirtiness.universe, [5, 10, 10])"
      ],
      "metadata": {
        "id": "9GpWYe7oMyoO"
      },
      "execution_count": 10,
      "outputs": []
    },
    {
      "cell_type": "code",
      "source": [
        "dish_type['fragile'] = fuzz.trimf(dish_type.universe, [0, 0, 5])\n",
        "dish_type['normal'] = fuzz.trimf(dish_type.universe, [0, 5, 10])\n",
        "dish_type['sturdy'] = fuzz.trimf(dish_type.universe, [5, 10, 10])"
      ],
      "metadata": {
        "id": "SLQCMRgTM1ZS"
      },
      "execution_count": 11,
      "outputs": []
    },
    {
      "cell_type": "code",
      "source": [
        "wash_time['short'] = fuzz.trimf(wash_time.universe, [0, 0, 50])\n",
        "wash_time['medium'] = fuzz.trimf(wash_time.universe, [0, 50, 100])\n",
        "wash_time['long'] = fuzz.trimf(wash_time.universe, [50, 100, 100])\n",
        "\n",
        "\n",
        "detergent['low'] = fuzz.trimf(detergent.universe, [0, 0, 50])\n",
        "detergent['medium'] = fuzz.trimf(detergent.universe, [0, 50, 100])\n",
        "detergent['high'] = fuzz.trimf(detergent.universe, [50, 100, 100])\n",
        "\n",
        "water_temp['cold'] = fuzz.trimf(water_temp.universe, [0, 0, 50])\n",
        "water_temp['warm'] = fuzz.trimf(water_temp.universe, [0, 50, 100])\n",
        "water_temp['hot'] = fuzz.trimf(water_temp.universe, [50, 100, 100])"
      ],
      "metadata": {
        "id": "DwdciCQeNGtg"
      },
      "execution_count": 12,
      "outputs": []
    },
    {
      "cell_type": "code",
      "source": [
        "rule1 = ctrl.Rule(load['low'] & dirtiness['clean'] & dish_type['fragile'], (wash_time['short'], detergent['low'], water_temp['cold']))\n",
        "rule2 = ctrl.Rule(load['medium'] & dirtiness['moderate'] & dish_type['normal'], (wash_time['medium'], detergent['medium'], water_temp['warm']))\n",
        "rule3 = ctrl.Rule(load['high'] & dirtiness['dirty'] & dish_type['sturdy'], (wash_time['long'], detergent['high'], water_temp['hot']))\n"
      ],
      "metadata": {
        "id": "MrKlJzz5NPaW"
      },
      "execution_count": 13,
      "outputs": []
    },
    {
      "cell_type": "code",
      "source": [
        "washing_ctrl = ctrl.ControlSystem([rule1, rule2, rule3])\n",
        "washing_simulation = ctrl.ControlSystemSimulation(washing_ctrl)"
      ],
      "metadata": {
        "id": "enhL4uSfNaFT"
      },
      "execution_count": 14,
      "outputs": []
    },
    {
      "cell_type": "code",
      "source": [
        "washing_simulation.input['load'] = 7\n",
        "washing_simulation.input['dirtiness'] = 6\n",
        "washing_simulation.input['dish_type'] = 5"
      ],
      "metadata": {
        "id": "pZUZMk3NNd_a"
      },
      "execution_count": 15,
      "outputs": []
    },
    {
      "cell_type": "code",
      "source": [
        "washing_simulation.compute()"
      ],
      "metadata": {
        "id": "elYKOEELNg2_"
      },
      "execution_count": 16,
      "outputs": []
    },
    {
      "cell_type": "code",
      "source": [
        "print(\"Wash time:\", washing_simulation.output['wash_time'])\n",
        "print(\"Detergent:\", washing_simulation.output['detergent'])\n",
        "print(\"Water temperature:\", washing_simulation.output['water_temp'])\n"
      ],
      "metadata": {
        "colab": {
          "base_uri": "https://localhost:8080/"
        },
        "id": "zs1ohJ2MMdpZ",
        "outputId": "71c62f73-d049-4b2d-cf8c-5161aba55e22"
      },
      "execution_count": 17,
      "outputs": [
        {
          "output_type": "stream",
          "name": "stdout",
          "text": [
            "Wash time: 49.99999999999996\n",
            "Detergent: 49.99999999999996\n",
            "Water temperature: 49.99999999999996\n"
          ]
        }
      ]
    }
  ]
}