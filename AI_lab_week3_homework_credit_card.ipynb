{
  "metadata": {
    "kernelspec": {
      "language": "python",
      "display_name": "Python 3",
      "name": "python3"
    },
    "language_info": {
      "name": "python",
      "version": "3.10.14",
      "mimetype": "text/x-python",
      "codemirror_mode": {
        "name": "ipython",
        "version": 3
      },
      "pygments_lexer": "ipython3",
      "nbconvert_exporter": "python",
      "file_extension": ".py"
    },
    "kaggle": {
      "accelerator": "none",
      "dataSources": [
        {
          "sourceId": 19663,
          "sourceType": "datasetVersion",
          "datasetId": 14701
        }
      ],
      "dockerImageVersionId": 30786,
      "isInternetEnabled": true,
      "language": "python",
      "sourceType": "notebook",
      "isGpuEnabled": false
    },
    "colab": {
      "name": "AI-lab-week3-homework-credit-card",
      "provenance": []
    }
  },
  "nbformat_minor": 0,
  "nbformat": 4,
  "cells": [
    {
      "source": [
        "# IMPORTANT: RUN THIS CELL IN ORDER TO IMPORT YOUR KAGGLE DATA SOURCES,\n",
        "# THEN FEEL FREE TO DELETE THIS CELL.\n",
        "# NOTE: THIS NOTEBOOK ENVIRONMENT DIFFERS FROM KAGGLE'S PYTHON\n",
        "# ENVIRONMENT SO THERE MAY BE MISSING LIBRARIES USED BY YOUR\n",
        "# NOTEBOOK.\n",
        "import kagglehub\n",
        "import os\n",
        "\n",
        "# Download the dataset\n",
        "arjunbhasin2013_ccdata_path = kagglehub.dataset_download('arjunbhasin2013/ccdata')\n",
        "\n",
        "# Find the downloaded file\n",
        "for dirname, _, filenames in os.walk(arjunbhasin2013_ccdata_path):\n",
        "    for filename in filenames:\n",
        "        if filename == 'CC GENERAL.csv':\n",
        "            file_path = os.path.join(dirname, filename)\n",
        "            break\n",
        "    else:\n",
        "        continue\n",
        "    break\n",
        "\n",
        "print('Data source import complete.')"
      ],
      "metadata": {
        "colab": {
          "base_uri": "https://localhost:8080/"
        },
        "id": "3nALSjXJy9or",
        "outputId": "a24013cc-dfc2-4bd6-af18-4979615eb20d"
      },
      "cell_type": "code",
      "outputs": [
        {
          "output_type": "stream",
          "name": "stdout",
          "text": [
            "Data source import complete.\n"
          ]
        }
      ],
      "execution_count": 21
    },
    {
      "cell_type": "code",
      "source": [
        "!pip install --upgrade simpsom"
      ],
      "metadata": {
        "execution": {
          "iopub.status.busy": "2024-10-24T13:24:52.896219Z",
          "iopub.execute_input": "2024-10-24T13:24:52.896785Z",
          "iopub.status.idle": "2024-10-24T13:25:05.655688Z",
          "shell.execute_reply.started": "2024-10-24T13:24:52.896742Z",
          "shell.execute_reply": "2024-10-24T13:25:05.654412Z"
        },
        "trusted": true,
        "colab": {
          "base_uri": "https://localhost:8080/"
        },
        "id": "huOYYIeyy9oz",
        "outputId": "f39b1eec-5a3c-4129-cb78-af0649a86968"
      },
      "execution_count": 22,
      "outputs": [
        {
          "output_type": "stream",
          "name": "stdout",
          "text": [
            "Requirement already satisfied: simpsom in /usr/local/lib/python3.10/dist-packages (2.0.2)\n",
            "Requirement already satisfied: numpy>=1.19.5 in /usr/local/lib/python3.10/dist-packages (from simpsom) (1.26.4)\n",
            "Requirement already satisfied: scikit-learn>=0.22.2.post1 in /usr/local/lib/python3.10/dist-packages (from simpsom) (1.5.2)\n",
            "Requirement already satisfied: matplotlib>=3.3.3 in /usr/local/lib/python3.10/dist-packages (from simpsom) (3.7.1)\n",
            "Requirement already satisfied: contourpy>=1.0.1 in /usr/local/lib/python3.10/dist-packages (from matplotlib>=3.3.3->simpsom) (1.3.0)\n",
            "Requirement already satisfied: cycler>=0.10 in /usr/local/lib/python3.10/dist-packages (from matplotlib>=3.3.3->simpsom) (0.12.1)\n",
            "Requirement already satisfied: fonttools>=4.22.0 in /usr/local/lib/python3.10/dist-packages (from matplotlib>=3.3.3->simpsom) (4.54.1)\n",
            "Requirement already satisfied: kiwisolver>=1.0.1 in /usr/local/lib/python3.10/dist-packages (from matplotlib>=3.3.3->simpsom) (1.4.7)\n",
            "Requirement already satisfied: packaging>=20.0 in /usr/local/lib/python3.10/dist-packages (from matplotlib>=3.3.3->simpsom) (24.1)\n",
            "Requirement already satisfied: pillow>=6.2.0 in /usr/local/lib/python3.10/dist-packages (from matplotlib>=3.3.3->simpsom) (10.4.0)\n",
            "Requirement already satisfied: pyparsing>=2.3.1 in /usr/local/lib/python3.10/dist-packages (from matplotlib>=3.3.3->simpsom) (3.2.0)\n",
            "Requirement already satisfied: python-dateutil>=2.7 in /usr/local/lib/python3.10/dist-packages (from matplotlib>=3.3.3->simpsom) (2.8.2)\n",
            "Requirement already satisfied: scipy>=1.6.0 in /usr/local/lib/python3.10/dist-packages (from scikit-learn>=0.22.2.post1->simpsom) (1.13.1)\n",
            "Requirement already satisfied: joblib>=1.2.0 in /usr/local/lib/python3.10/dist-packages (from scikit-learn>=0.22.2.post1->simpsom) (1.4.2)\n",
            "Requirement already satisfied: threadpoolctl>=3.1.0 in /usr/local/lib/python3.10/dist-packages (from scikit-learn>=0.22.2.post1->simpsom) (3.5.0)\n",
            "Requirement already satisfied: six>=1.5 in /usr/local/lib/python3.10/dist-packages (from python-dateutil>=2.7->matplotlib>=3.3.3->simpsom) (1.16.0)\n"
          ]
        }
      ]
    },
    {
      "cell_type": "code",
      "source": [
        "import pandas as pd\n",
        "import numpy as np\n",
        "import simpsom as sps\n",
        "from sklearn.cluster import KMeans"
      ],
      "metadata": {
        "execution": {
          "iopub.status.busy": "2024-10-24T13:25:11.095571Z",
          "iopub.execute_input": "2024-10-24T13:25:11.095996Z",
          "iopub.status.idle": "2024-10-24T13:25:11.101079Z",
          "shell.execute_reply.started": "2024-10-24T13:25:11.095956Z",
          "shell.execute_reply": "2024-10-24T13:25:11.09989Z"
        },
        "trusted": true,
        "id": "j6awgTA5y9o0"
      },
      "execution_count": 23,
      "outputs": []
    },
    {
      "cell_type": "code",
      "source": [
        "data = pd.read_csv(file_path)\n",
        "\n",
        "print(data.info())\n",
        "print(data.describe())"
      ],
      "metadata": {
        "execution": {
          "iopub.status.busy": "2024-10-24T13:25:12.715873Z",
          "iopub.execute_input": "2024-10-24T13:25:12.716278Z",
          "iopub.status.idle": "2024-10-24T13:25:12.801936Z",
          "shell.execute_reply.started": "2024-10-24T13:25:12.716238Z",
          "shell.execute_reply": "2024-10-24T13:25:12.80093Z"
        },
        "trusted": true,
        "colab": {
          "base_uri": "https://localhost:8080/"
        },
        "id": "5dl-Tzlsy9o0",
        "outputId": "2091703e-7ffe-4885-8fb6-f8c171df53b5"
      },
      "execution_count": 24,
      "outputs": [
        {
          "output_type": "stream",
          "name": "stdout",
          "text": [
            "<class 'pandas.core.frame.DataFrame'>\n",
            "RangeIndex: 8950 entries, 0 to 8949\n",
            "Data columns (total 18 columns):\n",
            " #   Column                            Non-Null Count  Dtype  \n",
            "---  ------                            --------------  -----  \n",
            " 0   CUST_ID                           8950 non-null   object \n",
            " 1   BALANCE                           8950 non-null   float64\n",
            " 2   BALANCE_FREQUENCY                 8950 non-null   float64\n",
            " 3   PURCHASES                         8950 non-null   float64\n",
            " 4   ONEOFF_PURCHASES                  8950 non-null   float64\n",
            " 5   INSTALLMENTS_PURCHASES            8950 non-null   float64\n",
            " 6   CASH_ADVANCE                      8950 non-null   float64\n",
            " 7   PURCHASES_FREQUENCY               8950 non-null   float64\n",
            " 8   ONEOFF_PURCHASES_FREQUENCY        8950 non-null   float64\n",
            " 9   PURCHASES_INSTALLMENTS_FREQUENCY  8950 non-null   float64\n",
            " 10  CASH_ADVANCE_FREQUENCY            8950 non-null   float64\n",
            " 11  CASH_ADVANCE_TRX                  8950 non-null   int64  \n",
            " 12  PURCHASES_TRX                     8950 non-null   int64  \n",
            " 13  CREDIT_LIMIT                      8949 non-null   float64\n",
            " 14  PAYMENTS                          8950 non-null   float64\n",
            " 15  MINIMUM_PAYMENTS                  8637 non-null   float64\n",
            " 16  PRC_FULL_PAYMENT                  8950 non-null   float64\n",
            " 17  TENURE                            8950 non-null   int64  \n",
            "dtypes: float64(14), int64(3), object(1)\n",
            "memory usage: 1.2+ MB\n",
            "None\n",
            "            BALANCE  BALANCE_FREQUENCY     PURCHASES  ONEOFF_PURCHASES  \\\n",
            "count   8950.000000        8950.000000   8950.000000       8950.000000   \n",
            "mean    1564.474828           0.877271   1003.204834        592.437371   \n",
            "std     2081.531879           0.236904   2136.634782       1659.887917   \n",
            "min        0.000000           0.000000      0.000000          0.000000   \n",
            "25%      128.281915           0.888889     39.635000          0.000000   \n",
            "50%      873.385231           1.000000    361.280000         38.000000   \n",
            "75%     2054.140036           1.000000   1110.130000        577.405000   \n",
            "max    19043.138560           1.000000  49039.570000      40761.250000   \n",
            "\n",
            "       INSTALLMENTS_PURCHASES  CASH_ADVANCE  PURCHASES_FREQUENCY  \\\n",
            "count             8950.000000   8950.000000          8950.000000   \n",
            "mean               411.067645    978.871112             0.490351   \n",
            "std                904.338115   2097.163877             0.401371   \n",
            "min                  0.000000      0.000000             0.000000   \n",
            "25%                  0.000000      0.000000             0.083333   \n",
            "50%                 89.000000      0.000000             0.500000   \n",
            "75%                468.637500   1113.821139             0.916667   \n",
            "max              22500.000000  47137.211760             1.000000   \n",
            "\n",
            "       ONEOFF_PURCHASES_FREQUENCY  PURCHASES_INSTALLMENTS_FREQUENCY  \\\n",
            "count                 8950.000000                       8950.000000   \n",
            "mean                     0.202458                          0.364437   \n",
            "std                      0.298336                          0.397448   \n",
            "min                      0.000000                          0.000000   \n",
            "25%                      0.000000                          0.000000   \n",
            "50%                      0.083333                          0.166667   \n",
            "75%                      0.300000                          0.750000   \n",
            "max                      1.000000                          1.000000   \n",
            "\n",
            "       CASH_ADVANCE_FREQUENCY  CASH_ADVANCE_TRX  PURCHASES_TRX  CREDIT_LIMIT  \\\n",
            "count             8950.000000       8950.000000    8950.000000   8949.000000   \n",
            "mean                 0.135144          3.248827      14.709832   4494.449450   \n",
            "std                  0.200121          6.824647      24.857649   3638.815725   \n",
            "min                  0.000000          0.000000       0.000000     50.000000   \n",
            "25%                  0.000000          0.000000       1.000000   1600.000000   \n",
            "50%                  0.000000          0.000000       7.000000   3000.000000   \n",
            "75%                  0.222222          4.000000      17.000000   6500.000000   \n",
            "max                  1.500000        123.000000     358.000000  30000.000000   \n",
            "\n",
            "           PAYMENTS  MINIMUM_PAYMENTS  PRC_FULL_PAYMENT       TENURE  \n",
            "count   8950.000000       8637.000000       8950.000000  8950.000000  \n",
            "mean    1733.143852        864.206542          0.153715    11.517318  \n",
            "std     2895.063757       2372.446607          0.292499     1.338331  \n",
            "min        0.000000          0.019163          0.000000     6.000000  \n",
            "25%      383.276166        169.123707          0.000000    12.000000  \n",
            "50%      856.901546        312.343947          0.000000    12.000000  \n",
            "75%     1901.134317        825.485459          0.142857    12.000000  \n",
            "max    50721.483360      76406.207520          1.000000    12.000000  \n"
          ]
        }
      ]
    },
    {
      "cell_type": "code",
      "source": [
        "x = data.drop(columns=[\"CUST_ID\"])\n",
        "\n",
        "# Eksik verileri ortalama ile doldurma\n",
        "x.fillna(x.mean(), inplace=True)"
      ],
      "metadata": {
        "execution": {
          "iopub.status.busy": "2024-10-24T13:25:18.480437Z",
          "iopub.execute_input": "2024-10-24T13:25:18.480863Z",
          "iopub.status.idle": "2024-10-24T13:25:18.496577Z",
          "shell.execute_reply.started": "2024-10-24T13:25:18.480824Z",
          "shell.execute_reply": "2024-10-24T13:25:18.495574Z"
        },
        "trusted": true,
        "id": "G19HvCKOy9o1"
      },
      "execution_count": 25,
      "outputs": []
    },
    {
      "cell_type": "code",
      "source": [
        "net=sps.SOMNet(20,20, x.values,PBC=True)"
      ],
      "metadata": {
        "colab": {
          "base_uri": "https://localhost:8080/"
        },
        "id": "C79-ztqy0Pd_",
        "outputId": "0cab0dd1-f89d-4f6c-ea73-bfb4f5aa2cd4"
      },
      "execution_count": 29,
      "outputs": [
        {
          "output_type": "stream",
          "name": "stdout",
          "text": [
            "Periodic Boundary Conditions active.\n",
            "The weights will be initialized with PCA.\n"
          ]
        }
      ]
    },
    {
      "cell_type": "code",
      "source": [
        "net.train(train_algo='batch',start_learning_rate=0.01,epochs=10000)"
      ],
      "metadata": {
        "execution": {
          "iopub.status.busy": "2024-10-24T13:25:27.536189Z",
          "iopub.execute_input": "2024-10-24T13:25:27.536616Z"
        },
        "trusted": true,
        "colab": {
          "base_uri": "https://localhost:8080/"
        },
        "id": "xLn8lUCSy9o3",
        "outputId": "9cff1cd2-a0a4-4cca-9e6f-b42a43251161"
      },
      "execution_count": 30,
      "outputs": [
        {
          "output_type": "stream",
          "name": "stdout",
          "text": [
            "The map will be trained with the batch algorithm.\n",
            "Training SOM... done!\n"
          ]
        }
      ]
    },
    {
      "cell_type": "code",
      "source": [
        "hrt = np.array((net.project(x.values)))\n",
        "kmeans = KMeans(n_clusters = 3, max_iter = 300, random_state = 0)"
      ],
      "metadata": {
        "trusted": true,
        "colab": {
          "base_uri": "https://localhost:8080/",
          "height": 89
        },
        "id": "5rQ0pJs6y9o3",
        "outputId": "4f784c83-079d-4bdf-c4f9-8b991246b9a7"
      },
      "execution_count": 31,
      "outputs": [
        {
          "output_type": "stream",
          "name": "stderr",
          "text": [
            "/usr/local/lib/python3.10/dist-packages/simpsom/network.py:629: UserWarning: No data for colormapping provided via 'c'. Parameters 'cmap' will be ignored\n",
            "  plt.scatter([pos[0]-0.125+random.random()*0.25 for pos in bmu_list],\n"
          ]
        },
        {
          "output_type": "display_data",
          "data": {
            "text/plain": [
              "<Figure size 640x480 with 0 Axes>"
            ]
          },
          "metadata": {}
        }
      ]
    },
    {
      "cell_type": "code",
      "source": [
        "y_kmeans = kmeans.fit_predict(hrt)"
      ],
      "metadata": {
        "trusted": true,
        "id": "oTdXCM-Cy9o4"
      },
      "execution_count": 32,
      "outputs": []
    },
    {
      "cell_type": "code",
      "source": [
        "y_kmeans\n",
        "data['kümeler'] = y_kmeans"
      ],
      "metadata": {
        "trusted": true,
        "id": "58FtaZQpy9o4"
      },
      "execution_count": 33,
      "outputs": []
    },
    {
      "cell_type": "code",
      "source": [
        "print(\"1 numaralı küme:\")\n",
        "print(data[data[\"kümeler\"] == 0].head(5))"
      ],
      "metadata": {
        "trusted": true,
        "colab": {
          "base_uri": "https://localhost:8080/"
        },
        "id": "T7y-hbPZy9o4",
        "outputId": "467aa999-d6a2-4798-c1e6-233be08edae8"
      },
      "execution_count": 34,
      "outputs": [
        {
          "output_type": "stream",
          "name": "stdout",
          "text": [
            "1 numaralı küme:\n",
            "   CUST_ID      BALANCE  BALANCE_FREQUENCY  PURCHASES  ONEOFF_PURCHASES  \\\n",
            "1   C10002  3202.467416           0.909091       0.00              0.00   \n",
            "6   C10007   627.260806           1.000000    7091.01           6402.63   \n",
            "15  C10016  6886.213231           1.000000    1611.70              0.00   \n",
            "16  C10017  2072.074354           0.875000       0.00              0.00   \n",
            "21  C10022  6369.531318           1.000000    6359.95           5910.04   \n",
            "\n",
            "    INSTALLMENTS_PURCHASES  CASH_ADVANCE  PURCHASES_FREQUENCY  \\\n",
            "1                     0.00   6442.945483                  0.0   \n",
            "6                   688.38      0.000000                  1.0   \n",
            "15                 1611.70   2301.491267                  0.5   \n",
            "16                    0.00   2784.274703                  0.0   \n",
            "21                  449.91    229.028245                  1.0   \n",
            "\n",
            "    ONEOFF_PURCHASES_FREQUENCY  PURCHASES_INSTALLMENTS_FREQUENCY  \\\n",
            "1                     0.000000                               0.0   \n",
            "6                     1.000000                               1.0   \n",
            "15                    0.000000                               0.5   \n",
            "16                    0.000000                               0.0   \n",
            "21                    0.916667                               1.0   \n",
            "\n",
            "    CASH_ADVANCE_FREQUENCY  CASH_ADVANCE_TRX  PURCHASES_TRX  CREDIT_LIMIT  \\\n",
            "1                 0.250000                 4              0        7000.0   \n",
            "6                 0.000000                 0             64       13500.0   \n",
            "15                0.166667                 4             11        8000.0   \n",
            "16                0.250000                 3              0        3000.0   \n",
            "21                0.333333                 6             92       11250.0   \n",
            "\n",
            "       PAYMENTS  MINIMUM_PAYMENTS  PRC_FULL_PAYMENT  TENURE  kümeler  \n",
            "1   4103.032597       1072.340217          0.222222      12        0  \n",
            "6   6354.314328        198.065894          1.000000      12        0  \n",
            "15  1993.439277       2109.906490          0.000000      12        0  \n",
            "16   391.974562        376.579631          0.000000       8        0  \n",
            "21  2077.959051       1659.775075          0.000000      12        0  \n"
          ]
        }
      ]
    },
    {
      "cell_type": "code",
      "source": [
        "print(\"3 numaralı küme:\")\n",
        "print(data[data[\"kümeler\"] == 2].head(5))"
      ],
      "metadata": {
        "colab": {
          "base_uri": "https://localhost:8080/"
        },
        "id": "IWHOUcsaPxj9",
        "outputId": "cd89891d-eade-4eb4-b39a-4562df5732a6"
      },
      "execution_count": 35,
      "outputs": [
        {
          "output_type": "stream",
          "name": "stdout",
          "text": [
            "3 numaralı küme:\n",
            "   CUST_ID      BALANCE  BALANCE_FREQUENCY  PURCHASES  ONEOFF_PURCHASES  \\\n",
            "2   C10003  2495.148862           1.000000     773.17            773.17   \n",
            "3   C10004  1666.670542           0.636364    1499.00           1499.00   \n",
            "8   C10009  1014.926473           1.000000     861.49            661.49   \n",
            "9   C10010   152.225975           0.545455    1281.60           1281.60   \n",
            "11  C10012   630.794744           0.818182    1492.18           1492.18   \n",
            "\n",
            "    INSTALLMENTS_PURCHASES  CASH_ADVANCE  PURCHASES_FREQUENCY  \\\n",
            "2                      0.0      0.000000             1.000000   \n",
            "3                      0.0    205.788017             0.083333   \n",
            "8                    200.0      0.000000             0.333333   \n",
            "9                      0.0      0.000000             0.166667   \n",
            "11                     0.0      0.000000             0.250000   \n",
            "\n",
            "    ONEOFF_PURCHASES_FREQUENCY  PURCHASES_INSTALLMENTS_FREQUENCY  \\\n",
            "2                     1.000000                              0.00   \n",
            "3                     0.083333                              0.00   \n",
            "8                     0.083333                              0.25   \n",
            "9                     0.166667                              0.00   \n",
            "11                    0.250000                              0.00   \n",
            "\n",
            "    CASH_ADVANCE_FREQUENCY  CASH_ADVANCE_TRX  PURCHASES_TRX  CREDIT_LIMIT  \\\n",
            "2                 0.000000                 0             12        7500.0   \n",
            "3                 0.083333                 1              1        7500.0   \n",
            "8                 0.000000                 0              5        7000.0   \n",
            "9                 0.000000                 0              3       11000.0   \n",
            "11                0.000000                 0              6        2000.0   \n",
            "\n",
            "       PAYMENTS  MINIMUM_PAYMENTS  PRC_FULL_PAYMENT  TENURE  kümeler  \n",
            "2    622.066742        627.284787               0.0      12        2  \n",
            "3      0.000000               NaN               0.0      12        2  \n",
            "8    688.278568        311.963409               0.0      12        2  \n",
            "9   1164.770591        100.302262               0.0      12        2  \n",
            "11   705.618627        155.549069               0.0      12        2  \n"
          ]
        }
      ]
    },
    {
      "cell_type": "code",
      "source": [
        "import matplotlib.pyplot as plt\n",
        "labels = kmeans.labels_\n",
        "centers = kmeans.cluster_centers_\n",
        "plt.scatter(hrt[:,0],hrt[:,1], c=labels, cmap='viridis')\n",
        "plt.scatter(centers[:,0],centers[:,1], marker='o', s=200, c='red', edgecolor= 'k')\n",
        "plt.xlabel('X')\n",
        "plt.ylabel('Y')\n",
        "plt.title(\"kMeans Clustering\")\n",
        "plt.show()"
      ],
      "metadata": {
        "colab": {
          "base_uri": "https://localhost:8080/",
          "height": 472
        },
        "id": "IGqqbdvFP24k",
        "outputId": "c5aaaea3-8cbb-4eff-db76-dc56566050e0"
      },
      "execution_count": 36,
      "outputs": [
        {
          "output_type": "display_data",
          "data": {
            "text/plain": [
              "<Figure size 640x480 with 1 Axes>"
            ],
            "image/png": "[encoded data removed]"
          },
          "metadata": {}
        }
      ]
    }
  ]
}